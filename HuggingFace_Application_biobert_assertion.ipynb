{
  "cells": [
    {
      "cell_type": "code",
      "execution_count": null,
      "id": "bc75f3b9",
      "metadata": {
        "id": "bc75f3b9"
      },
      "outputs": [],
      "source": [
        "import numpy as np\n",
        "import pandas as pd\n",
        "import string\n",
        "import re\n",
        "import os\n",
        "from transformers import AutoModel\n",
        "from transformers import AutoTokenizer"
      ]
    },
    {
      "cell_type": "code",
      "source": [
        "!pip install -U accelerate"
      ],
      "metadata": {
        "id": "Uq-1YjzWiCJS",
        "colab": {
          "base_uri": "https://localhost:8080/"
        },
        "outputId": "96c81d00-fa95-4c24-c17f-73487e85c891"
      },
      "id": "Uq-1YjzWiCJS",
      "execution_count": null,
      "outputs": [
        {
          "output_type": "stream",
          "name": "stdout",
          "text": [
            "Requirement already satisfied: accelerate in /usr/local/lib/python3.10/dist-packages (0.30.0)\n",
            "Requirement already satisfied: numpy>=1.17 in /usr/local/lib/python3.10/dist-packages (from accelerate) (1.25.2)\n",
            "Requirement already satisfied: packaging>=20.0 in /usr/local/lib/python3.10/dist-packages (from accelerate) (24.0)\n",
            "Requirement already satisfied: psutil in /usr/local/lib/python3.10/dist-packages (from accelerate) (5.9.5)\n",
            "Requirement already satisfied: pyyaml in /usr/local/lib/python3.10/dist-packages (from accelerate) (6.0.1)\n",
            "Requirement already satisfied: torch>=1.10.0 in /usr/local/lib/python3.10/dist-packages (from accelerate) (2.2.1+cu121)\n",
            "Requirement already satisfied: huggingface-hub in /usr/local/lib/python3.10/dist-packages (from accelerate) (0.23.0)\n",
            "Requirement already satisfied: safetensors>=0.3.1 in /usr/local/lib/python3.10/dist-packages (from accelerate) (0.4.3)\n",
            "Requirement already satisfied: filelock in /usr/local/lib/python3.10/dist-packages (from torch>=1.10.0->accelerate) (3.14.0)\n",
            "Requirement already satisfied: typing-extensions>=4.8.0 in /usr/local/lib/python3.10/dist-packages (from torch>=1.10.0->accelerate) (4.11.0)\n",
            "Requirement already satisfied: sympy in /usr/local/lib/python3.10/dist-packages (from torch>=1.10.0->accelerate) (1.12)\n",
            "Requirement already satisfied: networkx in /usr/local/lib/python3.10/dist-packages (from torch>=1.10.0->accelerate) (3.3)\n",
            "Requirement already satisfied: jinja2 in /usr/local/lib/python3.10/dist-packages (from torch>=1.10.0->accelerate) (3.1.3)\n",
            "Requirement already satisfied: fsspec in /usr/local/lib/python3.10/dist-packages (from torch>=1.10.0->accelerate) (2023.6.0)\n",
            "Requirement already satisfied: nvidia-cuda-nvrtc-cu12==12.1.105 in /usr/local/lib/python3.10/dist-packages (from torch>=1.10.0->accelerate) (12.1.105)\n",
            "Requirement already satisfied: nvidia-cuda-runtime-cu12==12.1.105 in /usr/local/lib/python3.10/dist-packages (from torch>=1.10.0->accelerate) (12.1.105)\n",
            "Requirement already satisfied: nvidia-cuda-cupti-cu12==12.1.105 in /usr/local/lib/python3.10/dist-packages (from torch>=1.10.0->accelerate) (12.1.105)\n",
            "Requirement already satisfied: nvidia-cudnn-cu12==8.9.2.26 in /usr/local/lib/python3.10/dist-packages (from torch>=1.10.0->accelerate) (8.9.2.26)\n",
            "Requirement already satisfied: nvidia-cublas-cu12==12.1.3.1 in /usr/local/lib/python3.10/dist-packages (from torch>=1.10.0->accelerate) (12.1.3.1)\n",
            "Requirement already satisfied: nvidia-cufft-cu12==11.0.2.54 in /usr/local/lib/python3.10/dist-packages (from torch>=1.10.0->accelerate) (11.0.2.54)\n",
            "Requirement already satisfied: nvidia-curand-cu12==10.3.2.106 in /usr/local/lib/python3.10/dist-packages (from torch>=1.10.0->accelerate) (10.3.2.106)\n",
            "Requirement already satisfied: nvidia-cusolver-cu12==11.4.5.107 in /usr/local/lib/python3.10/dist-packages (from torch>=1.10.0->accelerate) (11.4.5.107)\n",
            "Requirement already satisfied: nvidia-cusparse-cu12==12.1.0.106 in /usr/local/lib/python3.10/dist-packages (from torch>=1.10.0->accelerate) (12.1.0.106)\n",
            "Requirement already satisfied: nvidia-nccl-cu12==2.19.3 in /usr/local/lib/python3.10/dist-packages (from torch>=1.10.0->accelerate) (2.19.3)\n",
            "Requirement already satisfied: nvidia-nvtx-cu12==12.1.105 in /usr/local/lib/python3.10/dist-packages (from torch>=1.10.0->accelerate) (12.1.105)\n",
            "Requirement already satisfied: triton==2.2.0 in /usr/local/lib/python3.10/dist-packages (from torch>=1.10.0->accelerate) (2.2.0)\n",
            "Requirement already satisfied: nvidia-nvjitlink-cu12 in /usr/local/lib/python3.10/dist-packages (from nvidia-cusolver-cu12==11.4.5.107->torch>=1.10.0->accelerate) (12.4.127)\n",
            "Requirement already satisfied: requests in /usr/local/lib/python3.10/dist-packages (from huggingface-hub->accelerate) (2.31.0)\n",
            "Requirement already satisfied: tqdm>=4.42.1 in /usr/local/lib/python3.10/dist-packages (from huggingface-hub->accelerate) (4.66.2)\n",
            "Requirement already satisfied: MarkupSafe>=2.0 in /usr/local/lib/python3.10/dist-packages (from jinja2->torch>=1.10.0->accelerate) (2.1.5)\n",
            "Requirement already satisfied: charset-normalizer<4,>=2 in /usr/local/lib/python3.10/dist-packages (from requests->huggingface-hub->accelerate) (3.3.2)\n",
            "Requirement already satisfied: idna<4,>=2.5 in /usr/local/lib/python3.10/dist-packages (from requests->huggingface-hub->accelerate) (3.7)\n",
            "Requirement already satisfied: urllib3<3,>=1.21.1 in /usr/local/lib/python3.10/dist-packages (from requests->huggingface-hub->accelerate) (2.0.7)\n",
            "Requirement already satisfied: certifi>=2017.4.17 in /usr/local/lib/python3.10/dist-packages (from requests->huggingface-hub->accelerate) (2024.2.2)\n",
            "Requirement already satisfied: mpmath>=0.19 in /usr/local/lib/python3.10/dist-packages (from sympy->torch>=1.10.0->accelerate) (1.3.0)\n",
            "\u001b[31mERROR: Operation cancelled by user\u001b[0m\u001b[31m\n",
            "\u001b[0m"
          ]
        }
      ]
    },
    {
      "cell_type": "code",
      "source": [
        "!pip install -U transformers"
      ],
      "metadata": {
        "colab": {
          "base_uri": "https://localhost:8080/"
        },
        "id": "RDaXiP-ct6-N",
        "outputId": "65e24622-47f4-4390-aae3-883b5c63d5e9"
      },
      "id": "RDaXiP-ct6-N",
      "execution_count": null,
      "outputs": [
        {
          "output_type": "stream",
          "name": "stdout",
          "text": [
            "Requirement already satisfied: transformers in /usr/local/lib/python3.10/dist-packages (4.40.1)\n",
            "Requirement already satisfied: filelock in /usr/local/lib/python3.10/dist-packages (from transformers) (3.14.0)\n",
            "Requirement already satisfied: huggingface-hub<1.0,>=0.19.3 in /usr/local/lib/python3.10/dist-packages (from transformers) (0.20.3)\n",
            "Requirement already satisfied: numpy>=1.17 in /usr/local/lib/python3.10/dist-packages (from transformers) (1.25.2)\n",
            "Requirement already satisfied: packaging>=20.0 in /usr/local/lib/python3.10/dist-packages (from transformers) (24.0)\n",
            "Requirement already satisfied: pyyaml>=5.1 in /usr/local/lib/python3.10/dist-packages (from transformers) (6.0.1)\n",
            "Requirement already satisfied: regex!=2019.12.17 in /usr/local/lib/python3.10/dist-packages (from transformers) (2023.12.25)\n",
            "Requirement already satisfied: requests in /usr/local/lib/python3.10/dist-packages (from transformers) (2.31.0)\n",
            "Requirement already satisfied: tokenizers<0.20,>=0.19 in /usr/local/lib/python3.10/dist-packages (from transformers) (0.19.1)\n",
            "Requirement already satisfied: safetensors>=0.4.1 in /usr/local/lib/python3.10/dist-packages (from transformers) (0.4.3)\n",
            "Requirement already satisfied: tqdm>=4.27 in /usr/local/lib/python3.10/dist-packages (from transformers) (4.66.2)\n",
            "Requirement already satisfied: fsspec>=2023.5.0 in /usr/local/lib/python3.10/dist-packages (from huggingface-hub<1.0,>=0.19.3->transformers) (2023.6.0)\n",
            "Requirement already satisfied: typing-extensions>=3.7.4.3 in /usr/local/lib/python3.10/dist-packages (from huggingface-hub<1.0,>=0.19.3->transformers) (4.11.0)\n",
            "Requirement already satisfied: charset-normalizer<4,>=2 in /usr/local/lib/python3.10/dist-packages (from requests->transformers) (3.3.2)\n",
            "Requirement already satisfied: idna<4,>=2.5 in /usr/local/lib/python3.10/dist-packages (from requests->transformers) (3.7)\n",
            "Requirement already satisfied: urllib3<3,>=1.21.1 in /usr/local/lib/python3.10/dist-packages (from requests->transformers) (2.0.7)\n",
            "Requirement already satisfied: certifi>=2017.4.17 in /usr/local/lib/python3.10/dist-packages (from requests->transformers) (2024.2.2)\n"
          ]
        }
      ]
    },
    {
      "cell_type": "code",
      "source": [
        "from google.colab import drive\n",
        "drive.mount('/content/drive')"
      ],
      "metadata": {
        "colab": {
          "base_uri": "https://localhost:8080/"
        },
        "id": "kANl9IylZ6CE",
        "outputId": "de9bbfd4-bb65-43bb-d787-d24f5d35b047"
      },
      "id": "kANl9IylZ6CE",
      "execution_count": null,
      "outputs": [
        {
          "output_type": "stream",
          "name": "stdout",
          "text": [
            "Drive already mounted at /content/drive; to attempt to forcibly remount, call drive.mount(\"/content/drive\", force_remount=True).\n"
          ]
        }
      ]
    },
    {
      "cell_type": "code",
      "execution_count": null,
      "id": "7e4b2c66",
      "metadata": {
        "id": "7e4b2c66"
      },
      "outputs": [],
      "source": [
        "suffix = 'drive/MyDrive/medical_dataset_analysis/'\n",
        "\n",
        "beth_file_directory = 'concept_assertion_relation_training_data/beth/txt/'\n",
        "beth_concept_directory = 'concept_assertion_relation_training_data/beth/ast/'\n",
        "\n",
        "partner_file_directory = 'concept_assertion_relation_training_data/partners/txt/'\n",
        "partner_concept_directory = 'concept_assertion_relation_training_data/partners/ast/'\n",
        "\n",
        "test_directory = 'test_data/'\n",
        "test_directory_concepts = 'reference_standard_for_test_data/ast/'"
      ]
    },
    {
      "cell_type": "code",
      "execution_count": null,
      "id": "efc0406b",
      "metadata": {
        "id": "efc0406b"
      },
      "outputs": [],
      "source": [
        "def getNotes(file_directory):\n",
        "    text_dict = {}\n",
        "    file_list = os.listdir(suffix+file_directory)\n",
        "    for f in file_list:\n",
        "        if f[-3:] != 'xml' and f[-3:] != 'txt' and f[-3:] != 'ast':\n",
        "            file_list.remove(f)\n",
        "    if '.DS_Store' in file_list:\n",
        "        file_list.remove('.DS_Store')\n",
        "    for file_name in file_list:\n",
        "        with open(suffix+file_directory + file_name,'r') as file:\n",
        "            data = file.read()\n",
        "            text_dict[file_name[:-4]] = data\n",
        "        file.close()\n",
        "    return text_dict"
      ]
    },
    {
      "cell_type": "code",
      "execution_count": null,
      "id": "92d9b50b",
      "metadata": {
        "id": "92d9b50b"
      },
      "outputs": [],
      "source": [
        "beth_notes = getNotes(beth_file_directory)\n",
        "beth_concepts = getNotes(beth_concept_directory)\n",
        "partners_notes = getNotes(partner_file_directory)\n",
        "partners_concepts = getNotes(partner_concept_directory)"
      ]
    },
    {
      "cell_type": "code",
      "execution_count": null,
      "id": "203c3c7b",
      "metadata": {
        "id": "203c3c7b"
      },
      "outputs": [],
      "source": [
        "train_notes = beth_notes.copy()\n",
        "train_notes.update(partners_notes)\n",
        "all_notes = train_notes.copy()\n",
        "train_records = list(train_notes.keys())\n",
        "\n",
        "train_concepts = beth_concepts.copy()\n",
        "train_concepts.update(partners_concepts)\n",
        "all_concepts = train_concepts.copy()\n",
        "train_concepts_records = list(train_concepts.keys())\n",
        "\n",
        "test_notes = getNotes(test_directory)\n",
        "test_notes_records = list(test_notes.keys())\n",
        "test_concepts = getNotes(test_directory_concepts)\n",
        "test_concepts_records = list(test_concepts.keys())\n",
        "\n",
        "all_notes.update(test_notes)\n",
        "all_concepts.update(test_concepts)"
      ]
    },
    {
      "cell_type": "code",
      "source": [
        "train_notes['record-21']"
      ],
      "metadata": {
        "id": "0SG84vNkrAxD",
        "colab": {
          "base_uri": "https://localhost:8080/",
          "height": 71
        },
        "outputId": "adb5dd3a-841a-4248-e293-8456384dd183"
      },
      "id": "0SG84vNkrAxD",
      "execution_count": null,
      "outputs": [
        {
          "output_type": "execute_result",
          "data": {
            "text/plain": [
              "\"01909607\\nAdmission Date :\\n2010-06-28\\nDischarge Date :\\n2010-07-01\\nDate of Birth :\\n1990-02-01\\nSex :\\nF\\nService :\\nORTHOPEDIC\\nHISTORY OF THE PRESENT ILLNESS :\\nThis is a 20-year-old female with no significant past medical history , who was the unrestrained passenger in a high speed rollover motor vehicle accident on 2010-06-27 .\\nBy report , the patient was ejected from the vehicle on impact and found curled in the fetal position at the rear of the vehicle at the scene .\\nThe vehicle was noted to be extensively damaged .\\nBy report , the patient was noted to be awake , but confused at the scene of the accident with no memory of the incident .\\nShe was immobilized in the C-spine collar at the scene of the accident and subsequently transported by EMS to the New England Sinai Hospital & Rehab Center Emergency Department for further management .\\nPHYSICAL EXAMINATION :\\nExamination on presentation to the emergency room revealed the following :\\nTemperature 35.4 Celsius , blood pressure 116/63 , pulse 105 , respiratory rate 18 , oxygen saturation 98% on room air .\\nThe patient was alert and oriented times three in no apparent distress .\\nBoston Coma Scale of 15 .\\nTympanic membranes were noted to be clear .\\nPupils were equal , round , reactive to light at approximately 4 mm .\\nThe patient 's trachea was noted to be midline .\\nThe patient 's lung examination revealed the lungs to be clear to auscultation bilaterally , no crepitus , and a left clavicular deformity was grossly apparent on examination .\\nCARDIAC :\\nCardiac examination demonstrated regular rate and rhythm , no murmurs , rubs , or gallops .\\nABDOMEN :\\nSoft , nontender , nondistended .\\nRECTAL :\\nExamination was guaiac negative with good rectal tone .\\nThe patient 's pelvis was stable to AP and lateral compression .\\nA 5 cm laceration was noted over the patient 's occiput on further inspection with no exposed underlying bone .\\nRight upper extremity examination demonstrated intact motor , sensory , and vascular function .\\nLeft upper extremity examination demonstrated no gross deformities , tenderness to palpation in the mid forearm , intact motor function in the median , radial , and ulnar nerve distributions , intact sensation to light touch in the median and radial nerve distributions , decreased sensation in the ulnar-nerve distribution , warm and well perfused limb with 2+ radial pulses .\\nRight lower extremity examination demonstrated mild swelling and ecchymosis of the right posterior thigh and approximately a 3 cm laceration in the lower leg , expressive of moderate amounts of standard sterile\\nfashion .\\nNo gross deformities .\\nMotor , sensory , and vascular examinations were intact in all distributions .\\nLeft lower extremity examination demonstrated no gross deformities and intact motor , sensory , and vascular examinations in all distributions .\\nRadiographic studies demonstrated an inferior displaced left midclavicular fracture , no evidence of\\npneumothorax .\\nTrauma series demonstrated no evidence of a pelvic fracture .\\nHead CT demonstrated no evidence of intracranial bleeding .\\nTrauma CT demonstrated mild pulmonary contusions , but no pelvic fracture .\\nCervical spine imaging demonstrated no evidence of cervical spine injury .\\nRight tibial-fibular film series demonstrated no evidence of fracture displacement .\\nLeft humerus film series demonstrated no evidence of fracture or displacement .\\nRight foot and femur series demonstrated no evidence of fracture displacement .\\nLeft forearm and wrist series demonstrated transverse mid shaft radial fracture with ulnar displacement .\\nDiagnosis peritoneum lavage times two was negative for any signs of intra-abdominal bleeding .\\nLABORATORY DATA :\\nStudies on admission revealed the following :\\nWhite blood cell 12.9 , hemoglobin 11.5 , hematocrit 32.8 , platelet count 197,000 , sodium 141 , potassium 3.6 , chloride 110 , bicarbonate 21 , BUN 20 , creatinine 0.7 , glucose 189 , PT 13.3 , INR 1.2 , PTT 30.0 , amylase 57 , arterial blood gas 7.32 , 35 , 159 , 19 , -7 .\\nUrinalysis was within normal limits with 6 to 10 red blood cells .\\nToxicology screen was negative .\\nHOSPITAL COURSE :\\nThe patient was evaluated by the Trauma Service in the emergency room , where she received four liters\\ncrystalloid and four units packed red blood cells with good response .\\nIn addition , the patient received the above-described diagnostic procedures , which demonstrated injuries limited to a posterior scalp laceration , left fractured clavicle , left fractured radius , right thigh hematoma , and right leg laceration .\\nThe patient was subsequently admitted to the Trauma Service on 2010-06-28 under the direction of Dr. Lowery .\\nGiven the patient 's right thigh hematoma , a duplex evaluation of the right lower extremity was performed on 2010-06-28 and demonstrated no evidence of major arterial or venous injury in the level of\\nthe right inguinal region .\\nOn 06-28 , the patient was also cleared for removal of her C-spine collar and deemed stable for transfer to the Orthopedic Service under the direction of Dr. Ronda Lopez .\\nThe patient remained stable through 2010-06-29 at which point she was sent to the operating room to undergo a left radial fracture open reduction and internal fixation procedure .\\nThe patient tolerated the procedure well and demonstrated a postoperative hematocrit of 40.9 .\\nOf note , the scalp and right lower leg lacerations were closed primarily by the trauma team on admission and on hospital day #1 were noted to be clean , dry , and intact .\\nNonoperative treatment was elected for the patient 's left clavicular fracture .\\nOn postoperative day #1 , 2010-06-30 , the patient was noted to be clinically stable , tolerating oral intake , and expressive of adequate amounts of urine independent of a Foley catheter .\\nThe patient 's head wound laceration was noted to be clean and dry with intact staples .\\nThere was no erythema or purulence .\\nThe left clavicle was noted to have continued ecchymosis decreased from prior examination with a minor stepoff and mild tenderness to palpation decreased from prior examinations .\\nThe left forearm dressing was noted to be in place , clean , dry , and intact with no saturation .\\nThe patient was noted to be able to wiggle her fingers with intact flexor , extensor , abductor , and adductor function .\\nMild swelling was noted in the left hand .\\nSensation was intact in the median , radius , and ulnar-nerve distributions .\\nFingers were warm and well perfused with capillary refill less than 3 seconds .\\nThe patient 's right anterior tibial wound was noted to be clean , dry , and intact with sutures intact and no erythema or purulence noted .\\nOn 06-30 , the patient was evaluated by Occupational Therapy and fitted for a left upper extremity splint .\\nThe patient was also administered adaptive training for activities of daily life and advised regarding wound care .\\nIn addition , the patient was also fitted with a figure-of-eight clavicular splint and instructed in its\\nproper use .\\nOn 2010-07-01 , the patient was discharged from the hospital with instructions for follow up care on return to the United Kingdom .\\nCONDITION ON DISCHARGE :\\nThe patient is to be discharged to home .\\nDISCHARGE STATUS :\\nStable .\\nDIAGNOSIS :\\n1. Left transverse mid shaft radial fracture with ulnar displacement status post left radial open reduction and internal fixation .\\n2. Left midclavicular fracture managed nonoperatively .\\n3. Occipital scalp laceration .\\n4. Right anterior tibial laceration .\\nDISCHARGE MEDICATIONS :\\nPercocet one to two tablets PO q.4h. to 6h.p.r.n. pain .\\nFOLLOW-UP CARE :\\nThe patient is medically cleared for a flight to return to her home in the United Kingdom .\\nThe patient is to maintain her figure-of-eight clavicular splint and left posterior forearm splint in place for fourteen days following discharge .\\nThe left forearm and right lower leg wound should be kept clean and dry with regular dressing changes with dry gauze once per day .\\nScalp laceration should be kept clean and dry for five days following discharge after which point the patient may once wash her hair .\\nPercocet for pain as needed .\\nThe patient is to followup with an orthopedist in the United Kingdom fourteen days following discharge at which point repeat x-rays of her left forearm should be obtained and her left forearm scalp and right lower leg sutures and staples may be removed .\\nQuestions regarding follow up may be referred to Dr. Ronda Lopez at the Ayer Orthopedic Group .\\nTelephone #:\\n( 658 ) 842-8661 .\\nOrtiz V Baugher , M.D.\\n75-285\\nDictated By : Catherine K Thomas , M.D.\\nMEDQUIST36\\nD : 2010-06-30 17:18\\nT : 2010-06-30 17:39\\nJOB #:\\n03326\\nSigned electronically by : DR. Kisha Jones on : Jose 2010-07-01 8:27 AM\\n( End of Report )\""
            ],
            "application/vnd.google.colaboratory.intrinsic+json": {
              "type": "string"
            }
          },
          "metadata": {},
          "execution_count": 8
        }
      ]
    },
    {
      "cell_type": "code",
      "source": [
        "train_concepts['record-21']"
      ],
      "metadata": {
        "colab": {
          "base_uri": "https://localhost:8080/",
          "height": 71
        },
        "outputId": "d8377c00-1510-46d6-b733-53b966a6309c",
        "id": "vvH55VVuhEMF"
      },
      "execution_count": null,
      "outputs": [
        {
          "output_type": "execute_result",
          "data": {
            "text/plain": [
              "'c=\"left transverse mid shaft radial fracture\" 90:1 90:6||t=\"problem\"||a=\"present\"\\nc=\"ulnar displacement\" 90:8 90:9||t=\"problem\"||a=\"present\"\\nc=\"erythema\" 79:22 79:22||t=\"problem\"||a=\"absent\"\\nc=\"apparent distress\" 21:10 21:11||t=\"problem\"||a=\"absent\"\\nc=\"a 5 cm laceration\" 34:0 34:3||t=\"problem\"||a=\"present\"\\nc=\"exposed underlying bone\" 34:16 34:18||t=\"problem\"||a=\"absent\"\\nc=\"erythema\" 72:3 72:3||t=\"problem\"||a=\"absent\"\\nc=\"decreased sensation in the ulnar-nerve distribution\" 36:44 36:49||t=\"problem\"||a=\"present\"\\nc=\"gross deformities\" 36:6 36:7||t=\"problem\"||a=\"absent\"\\nc=\"tenderness\" 36:9 36:9||t=\"problem\"||a=\"present\"\\nc=\"right thigh hematoma\" 61:29 61:31||t=\"problem\"||a=\"present\"\\nc=\"major arterial or venous injury\" 63:25 63:29||t=\"problem\"||a=\"absent\"\\nc=\"the patient \\'s right thigh hematoma\" 63:1 63:6||t=\"problem\"||a=\"present\"\\nc=\"rubs\" 28:11 28:11||t=\"problem\"||a=\"absent\"\\nc=\"mild swelling\" 37:5 37:6||t=\"problem\"||a=\"present\"\\nc=\"ecchymosis of the right posterior thigh\" 37:8 37:13||t=\"problem\"||a=\"present\"\\nc=\"a 3 cm laceration in the lower leg\" 37:16 37:23||t=\"problem\"||a=\"present\"\\nc=\"purulence\" 79:24 79:24||t=\"problem\"||a=\"absent\"\\nc=\"the patient \\'s right anterior tibial wound\" 79:0 79:6||t=\"problem\"||a=\"present\"\\nc=\"crepitus\" 26:16 26:16||t=\"problem\"||a=\"absent\"\\nc=\"confused\" 16:12 16:12||t=\"problem\"||a=\"present\"\\nc=\"intracranial bleeding\" 45:6 45:7||t=\"problem\"||a=\"absent\"\\nc=\"pain\" 101:2 101:2||t=\"problem\"||a=\"hypothetical\"\\nc=\"right leg laceration\" 61:34 61:36||t=\"problem\"||a=\"present\"\\nc=\"injuries\" 61:13 61:13||t=\"problem\"||a=\"present\"\\nc=\"a posterior scalp laceration\" 61:16 61:19||t=\"problem\"||a=\"present\"\\nc=\"left fractured clavicle\" 61:21 61:23||t=\"problem\"||a=\"present\"\\nc=\"left fractured radius\" 61:25 61:27||t=\"problem\"||a=\"present\"\\nc=\"gross deformities\" 41:6 41:7||t=\"problem\"||a=\"absent\"\\nc=\"mild swelling\" 76:0 76:1||t=\"problem\"||a=\"present\"\\nc=\"a left clavicular deformity\" 26:19 26:22||t=\"problem\"||a=\"present\"\\nc=\"gallops\" 28:14 28:14||t=\"problem\"||a=\"absent\"\\nc=\"murmurs\" 28:9 28:9||t=\"problem\"||a=\"absent\"\\nc=\"left midclavicular fracture\" 91:1 91:3||t=\"problem\"||a=\"present\"\\nc=\"saturation\" 74:19 74:19||t=\"problem\"||a=\"absent\"\\nc=\"nontender\" 30:2 30:2||t=\"problem\"||a=\"absent\"\\nc=\"nondistended\" 30:4 30:4||t=\"problem\"||a=\"absent\"\\nc=\"a pelvic fracture\" 44:6 44:8||t=\"problem\"||a=\"absent\"\\nc=\"the scalp and right lower leg lacerations\" 68:3 68:9||t=\"problem\"||a=\"present\"\\nc=\"the left forearm and right lower leg wound\" 99:0 99:7||t=\"problem\"||a=\"present\"\\nc=\"gross deformities\" 39:1 39:2||t=\"problem\"||a=\"absent\"\\nc=\"an inferior displaced left midclavicular fracture\" 42:3 42:8||t=\"problem\"||a=\"present\"\\nc=\"pneumothorax\" 43:0 43:0||t=\"problem\"||a=\"absent\"\\nc=\"cervical spine injury\" 47:7 47:9||t=\"problem\"||a=\"absent\"\\nc=\"scalp laceration\" 100:0 100:1||t=\"problem\"||a=\"present\"\\nc=\"mild tenderness\" 73:18 73:19||t=\"problem\"||a=\"present\"\\nc=\"a minor stepoff\" 73:14 73:16||t=\"problem\"||a=\"present\"\\nc=\"pain\" 95:9 95:9||t=\"problem\"||a=\"hypothetical\"\\nc=\"right anterior tibial laceration\" 93:1 93:4||t=\"problem\"||a=\"present\"\\nc=\"occipital scalp laceration\" 92:1 92:3||t=\"problem\"||a=\"present\"\\nc=\"fracture displacement\" 50:9 50:10||t=\"problem\"||a=\"absent\"\\nc=\"pelvic fracture\" 46:9 46:10||t=\"problem\"||a=\"absent\"\\nc=\"mild pulmonary contusions\" 46:3 46:5||t=\"problem\"||a=\"present\"\\nc=\"transverse mid shaft radial fracture\" 51:6 51:10||t=\"problem\"||a=\"present\"\\nc=\"ulnar displacement\" 51:12 51:13||t=\"problem\"||a=\"present\"\\nc=\"purulence\" 72:5 72:5||t=\"problem\"||a=\"absent\"\\nc=\"intra-abdominal bleeding\" 52:11 52:12||t=\"problem\"||a=\"absent\"\\nc=\"continued ecchymosis\" 73:7 73:8||t=\"problem\"||a=\"present\"\\nc=\"fracture displacement\" 48:8 48:9||t=\"problem\"||a=\"absent\"\\nc=\"displacement\" 49:10 49:10||t=\"problem\"||a=\"absent\"\\nc=\"fracture\" 49:8 49:8||t=\"problem\"||a=\"absent\"\\nc=\"the patient \\'s left clavicular fracture\" 69:5 69:10||t=\"problem\"||a=\"present\"\\nc=\"the patient \\'s head wound laceration\" 71:0 71:5||t=\"problem\"||a=\"present\"\\n'"
            ],
            "application/vnd.google.colaboratory.intrinsic+json": {
              "type": "string"
            }
          },
          "metadata": {},
          "execution_count": 9
        }
      ],
      "id": "vvH55VVuhEMF"
    },
    {
      "cell_type": "code",
      "source": [
        "def get_tags(record):\n",
        "  note = all_notes[record].split('\\n')\n",
        "  number_of_lines = len(note)\n",
        "\n",
        "  all_note = []\n",
        "  all_tag = []\n",
        "  note_lines = [n.split() for n in note]\n",
        "  tag_list = [['O' for j in i] for i in note_lines]\n",
        "\n",
        "  concept_lines = all_concepts[record].split('\\n')\n",
        "  for i in concept_lines:\n",
        "    if len(i) > 0:\n",
        "\n",
        "      # print(i)\n",
        "      c = re.findall(r'c=\\\".+\"',i)\n",
        "      stuff = re.findall('[0-9]{1,3}:[0-9]{1,3}\\s[0-9]{1,3}:[0-9]{1,3}\\|\\|',i)[0]\n",
        "\n",
        "      line = re.findall(r'[0-9]{1,3}:',stuff)\n",
        "      line1 = int(line[0][:-1])\n",
        "      line2 = int(line[1][:-1])\n",
        "\n",
        "      indexes = re.findall(r':[0-9]{1,3}',stuff)\n",
        "      ind1 = int(indexes[0][1:])\n",
        "      ind2 = int(indexes[1][1:])\n",
        "\n",
        "      t = re.findall(r'a=\\\"[a-z_]+\\\"',i)\n",
        "      tag = t[0][3:-1]\n",
        "\n",
        "      for line in range(line1,line2+1):\n",
        "        for index in range(ind1,ind2+1):\n",
        "          if line==line1 and index==ind1:\n",
        "            tag_list[line-1][index] = 'B' + '-' + tag\n",
        "          else:\n",
        "            tag_list[line-1][index] = 'I' + '-' + tag\n",
        "\n",
        "  for t in tag_list:\n",
        "    for ti in t:\n",
        "      all_tag.append(ti)\n",
        "\n",
        "  for n in note_lines:\n",
        "    for ni in n:\n",
        "      all_note.append(ni)\n",
        "  return all_note, all_tag\n",
        "\n",
        "records_dict = {}\n",
        "for record in all_notes.keys():\n",
        "  note,tag = get_tags(record)\n",
        "  the_dict = {'words':note,'tags':tag}\n",
        "  records_dict[record] = the_dict"
      ],
      "metadata": {
        "id": "hwkmCPfXhdRk"
      },
      "execution_count": null,
      "outputs": [],
      "id": "hwkmCPfXhdRk"
    },
    {
      "cell_type": "code",
      "execution_count": null,
      "metadata": {
        "id": "yVaR5NTV4FQD",
        "outputId": "34dc587b-dab5-4d8a-ffd1-401d84d6000c",
        "colab": {
          "base_uri": "https://localhost:8080/"
        }
      },
      "outputs": [
        {
          "output_type": "stream",
          "name": "stdout",
          "text": [
            "['be', 'awake', ',', 'but', 'confused', 'at', 'the', 'scene', 'of', 'the', 'accident', 'with', 'no', 'memory', 'of', 'the', 'incident', '.', 'She', 'was']\n",
            "['O', 'O', 'O', 'O', 'B-present', 'O', 'O', 'O', 'O', 'O', 'O', 'O', 'O', 'O', 'O', 'O', 'O', 'O', 'O', 'O']\n"
          ]
        }
      ],
      "source": [
        "print(records_dict['record-21']['words'][100:120])\n",
        "print(records_dict['record-21']['tags'][100:120])"
      ],
      "id": "yVaR5NTV4FQD"
    },
    {
      "cell_type": "code",
      "execution_count": null,
      "metadata": {
        "id": "GjeQNbZZ537c"
      },
      "outputs": [],
      "source": [
        "train_data = [records_dict[i] for i in train_records]\n",
        "test_data = [records_dict[i] for i in test_notes_records]\n",
        "df_train = pd.DataFrame(train_data)\n",
        "df_test = pd.DataFrame(test_data)"
      ],
      "id": "GjeQNbZZ537c"
    },
    {
      "cell_type": "code",
      "execution_count": null,
      "metadata": {
        "outputId": "c3261f76-9827-4663-f93f-573f80679042",
        "colab": {
          "base_uri": "https://localhost:8080/",
          "height": 928
        },
        "id": "e_XtHpC8ANw4"
      },
      "outputs": [
        {
          "output_type": "stream",
          "name": "stdout",
          "text": [
            "Collecting datasets\n",
            "  Downloading datasets-2.19.0-py3-none-any.whl (542 kB)\n",
            "\u001b[2K     \u001b[90m━━━━━━━━━━━━━━━━━━━━━━━━━━━━━━━━━━━━━━━━\u001b[0m \u001b[32m542.0/542.0 kB\u001b[0m \u001b[31m9.7 MB/s\u001b[0m eta \u001b[36m0:00:00\u001b[0m\n",
            "\u001b[?25hRequirement already satisfied: filelock in /usr/local/lib/python3.10/dist-packages (from datasets) (3.14.0)\n",
            "Requirement already satisfied: numpy>=1.17 in /usr/local/lib/python3.10/dist-packages (from datasets) (1.25.2)\n",
            "Requirement already satisfied: pyarrow>=12.0.0 in /usr/local/lib/python3.10/dist-packages (from datasets) (14.0.2)\n",
            "Requirement already satisfied: pyarrow-hotfix in /usr/local/lib/python3.10/dist-packages (from datasets) (0.6)\n",
            "Collecting dill<0.3.9,>=0.3.0 (from datasets)\n",
            "  Downloading dill-0.3.8-py3-none-any.whl (116 kB)\n",
            "\u001b[2K     \u001b[90m━━━━━━━━━━━━━━━━━━━━━━━━━━━━━━━━━━━━━━━━\u001b[0m \u001b[32m116.3/116.3 kB\u001b[0m \u001b[31m9.5 MB/s\u001b[0m eta \u001b[36m0:00:00\u001b[0m\n",
            "\u001b[?25hRequirement already satisfied: pandas in /usr/local/lib/python3.10/dist-packages (from datasets) (2.0.3)\n",
            "Requirement already satisfied: requests>=2.19.0 in /usr/local/lib/python3.10/dist-packages (from datasets) (2.31.0)\n",
            "Requirement already satisfied: tqdm>=4.62.1 in /usr/local/lib/python3.10/dist-packages (from datasets) (4.66.2)\n",
            "Collecting xxhash (from datasets)\n",
            "  Downloading xxhash-3.4.1-cp310-cp310-manylinux_2_17_x86_64.manylinux2014_x86_64.whl (194 kB)\n",
            "\u001b[2K     \u001b[90m━━━━━━━━━━━━━━━━━━━━━━━━━━━━━━━━━━━━━━━━\u001b[0m \u001b[32m194.1/194.1 kB\u001b[0m \u001b[31m13.3 MB/s\u001b[0m eta \u001b[36m0:00:00\u001b[0m\n",
            "\u001b[?25hCollecting multiprocess (from datasets)\n",
            "  Downloading multiprocess-0.70.16-py310-none-any.whl (134 kB)\n",
            "\u001b[2K     \u001b[90m━━━━━━━━━━━━━━━━━━━━━━━━━━━━━━━━━━━━━━━━\u001b[0m \u001b[32m134.8/134.8 kB\u001b[0m \u001b[31m14.5 MB/s\u001b[0m eta \u001b[36m0:00:00\u001b[0m\n",
            "\u001b[?25hRequirement already satisfied: fsspec[http]<=2024.3.1,>=2023.1.0 in /usr/local/lib/python3.10/dist-packages (from datasets) (2023.6.0)\n",
            "Requirement already satisfied: aiohttp in /usr/local/lib/python3.10/dist-packages (from datasets) (3.9.5)\n",
            "Collecting huggingface-hub>=0.21.2 (from datasets)\n",
            "  Downloading huggingface_hub-0.23.0-py3-none-any.whl (401 kB)\n",
            "\u001b[2K     \u001b[90m━━━━━━━━━━━━━━━━━━━━━━━━━━━━━━━━━━━━━━━━\u001b[0m \u001b[32m401.2/401.2 kB\u001b[0m \u001b[31m17.5 MB/s\u001b[0m eta \u001b[36m0:00:00\u001b[0m\n",
            "\u001b[?25hRequirement already satisfied: packaging in /usr/local/lib/python3.10/dist-packages (from datasets) (24.0)\n",
            "Requirement already satisfied: pyyaml>=5.1 in /usr/local/lib/python3.10/dist-packages (from datasets) (6.0.1)\n",
            "Requirement already satisfied: aiosignal>=1.1.2 in /usr/local/lib/python3.10/dist-packages (from aiohttp->datasets) (1.3.1)\n",
            "Requirement already satisfied: attrs>=17.3.0 in /usr/local/lib/python3.10/dist-packages (from aiohttp->datasets) (23.2.0)\n",
            "Requirement already satisfied: frozenlist>=1.1.1 in /usr/local/lib/python3.10/dist-packages (from aiohttp->datasets) (1.4.1)\n",
            "Requirement already satisfied: multidict<7.0,>=4.5 in /usr/local/lib/python3.10/dist-packages (from aiohttp->datasets) (6.0.5)\n",
            "Requirement already satisfied: yarl<2.0,>=1.0 in /usr/local/lib/python3.10/dist-packages (from aiohttp->datasets) (1.9.4)\n",
            "Requirement already satisfied: async-timeout<5.0,>=4.0 in /usr/local/lib/python3.10/dist-packages (from aiohttp->datasets) (4.0.3)\n",
            "Requirement already satisfied: typing-extensions>=3.7.4.3 in /usr/local/lib/python3.10/dist-packages (from huggingface-hub>=0.21.2->datasets) (4.11.0)\n",
            "Requirement already satisfied: charset-normalizer<4,>=2 in /usr/local/lib/python3.10/dist-packages (from requests>=2.19.0->datasets) (3.3.2)\n",
            "Requirement already satisfied: idna<4,>=2.5 in /usr/local/lib/python3.10/dist-packages (from requests>=2.19.0->datasets) (3.7)\n",
            "Requirement already satisfied: urllib3<3,>=1.21.1 in /usr/local/lib/python3.10/dist-packages (from requests>=2.19.0->datasets) (2.0.7)\n",
            "Requirement already satisfied: certifi>=2017.4.17 in /usr/local/lib/python3.10/dist-packages (from requests>=2.19.0->datasets) (2024.2.2)\n",
            "Requirement already satisfied: python-dateutil>=2.8.2 in /usr/local/lib/python3.10/dist-packages (from pandas->datasets) (2.8.2)\n",
            "Requirement already satisfied: pytz>=2020.1 in /usr/local/lib/python3.10/dist-packages (from pandas->datasets) (2023.4)\n",
            "Requirement already satisfied: tzdata>=2022.1 in /usr/local/lib/python3.10/dist-packages (from pandas->datasets) (2024.1)\n",
            "Requirement already satisfied: six>=1.5 in /usr/local/lib/python3.10/dist-packages (from python-dateutil>=2.8.2->pandas->datasets) (1.16.0)\n",
            "Installing collected packages: xxhash, dill, multiprocess, huggingface-hub, datasets\n",
            "  Attempting uninstall: huggingface-hub\n",
            "    Found existing installation: huggingface-hub 0.20.3\n",
            "    Uninstalling huggingface-hub-0.20.3:\n",
            "      Successfully uninstalled huggingface-hub-0.20.3\n",
            "Successfully installed datasets-2.19.0 dill-0.3.8 huggingface-hub-0.23.0 multiprocess-0.70.16 xxhash-3.4.1\n"
          ]
        },
        {
          "output_type": "display_data",
          "data": {
            "application/vnd.colab-display-data+json": {
              "pip_warning": {
                "packages": [
                  "huggingface_hub"
                ]
              },
              "id": "70aef27b274a4505acdf713185b1a268"
            }
          },
          "metadata": {}
        }
      ],
      "source": [
        "!pip install datasets"
      ],
      "id": "e_XtHpC8ANw4"
    },
    {
      "cell_type": "code",
      "source": [
        "tags = []\n",
        "\n",
        "for i in df_train['tags'].to_list() + df_test['tags'].to_list():\n",
        "  for j in i:\n",
        "    if j not in tags:\n",
        "      tags.append(j)\n",
        "\n",
        "print(tags)"
      ],
      "metadata": {
        "colab": {
          "base_uri": "https://localhost:8080/"
        },
        "id": "9D9V7xW8UFtA",
        "outputId": "a8f64ca8-d1e7-4293-98a7-e05e65d14c1f"
      },
      "id": "9D9V7xW8UFtA",
      "execution_count": null,
      "outputs": [
        {
          "output_type": "stream",
          "name": "stdout",
          "text": [
            "['O', 'B-absent', 'B-present', 'I-absent', 'I-present', 'B-hypothetical', 'B-possible', 'I-possible', 'I-hypothetical', 'B-conditional', 'I-conditional', 'B-associated_with_someone_else', 'I-associated_with_someone_else']\n"
          ]
        }
      ]
    },
    {
      "cell_type": "code",
      "source": [
        "X_train = df_train['words']\n",
        "y_train = df_train['tags']\n",
        "\n",
        "X_test = df_test['words']\n",
        "y_test = df_test['tags']\n",
        "\n",
        "\n",
        "info_dict_train = {}\n",
        "info_dict_train['id'] = list(map(str,list(df_train.index)))\n",
        "info_dict_train['tokens'] = list(X_train.values)\n",
        "info_dict_train['ner_tags'] = list(y_train.values)\n",
        "\n",
        "info_dict_test = {}\n",
        "info_dict_test['id'] = list(map(str,list(df_test.index)))\n",
        "info_dict_test['tokens'] = list(X_test.values)\n",
        "info_dict_test['ner_tags'] = list(y_test.values)\n",
        "\n",
        "from datasets import Dataset, Sequence, ClassLabel\n",
        "\n",
        "dataset_train = Dataset.from_dict(info_dict_train)\n",
        "dataset_train = dataset_train.cast_column('ner_tags', Sequence(ClassLabel(names=tags)))\n",
        "\n",
        "dataset_test = Dataset.from_dict(info_dict_test)\n",
        "dataset_test = dataset_test.cast_column('ner_tags', Sequence(ClassLabel(names=tags)))\n"
      ],
      "metadata": {
        "colab": {
          "base_uri": "https://localhost:8080/",
          "height": 81,
          "referenced_widgets": [
            "6a83138206ea449b9773993881639757",
            "b878cb60886944d1be2c723efc40e519",
            "5f991a979fd04123aaa5fe1279e1ca4c",
            "bed00c9ae38c4e1eba678b4422593a05",
            "c62eac9419ac465f992fced45cfacd5d",
            "cd37daa877924b48a872863b6d06a2e1",
            "ca6f5c9d8c3940f78af9e988d297889c",
            "da436eee8bd84f7cb4295d69ff23da44",
            "0b2e5e2c998f4fffb89f983db191a25b",
            "6e527002459f4948b31e46d3d488de03",
            "840121208c2c4636853fe186300fb7da",
            "12a8ced491ed4433a9cb57db408e5203",
            "61e24d6bb7aa45018d7cb78821bfed51",
            "57b53000604a4cd898f7cd5ecb2776a4",
            "74a12675b32042bf83683219e102f7dc",
            "9033b7ad6d394343bd0943a628d0f812",
            "9c16918e01874931a1779e2c4df43cfc",
            "1f727944ff394c3392cd470a13198ef3",
            "f4e7016caa9d4a07bc09bf90e75104cb",
            "5ee326be512741a1a0cb4d3d7b126aa4",
            "ea94192dfd644ef68839343de2674b61",
            "35933fed2efc4f9e8846946919732176"
          ]
        },
        "id": "YWsyuYFkti5c",
        "outputId": "72e112d6-d067-4b2b-8186-7772f4389922"
      },
      "id": "YWsyuYFkti5c",
      "execution_count": null,
      "outputs": [
        {
          "output_type": "display_data",
          "data": {
            "text/plain": [
              "Casting the dataset:   0%|          | 0/170 [00:00<?, ? examples/s]"
            ],
            "application/vnd.jupyter.widget-view+json": {
              "version_major": 2,
              "version_minor": 0,
              "model_id": "6a83138206ea449b9773993881639757"
            }
          },
          "metadata": {}
        },
        {
          "output_type": "display_data",
          "data": {
            "text/plain": [
              "Casting the dataset:   0%|          | 0/256 [00:00<?, ? examples/s]"
            ],
            "application/vnd.jupyter.widget-view+json": {
              "version_major": 2,
              "version_minor": 0,
              "model_id": "12a8ced491ed4433a9cb57db408e5203"
            }
          },
          "metadata": {}
        }
      ]
    },
    {
      "cell_type": "code",
      "source": [
        "checkpoint = 'dmis-lab/biobert-v1.1'\n",
        "\n",
        "#checkpoint= 'google-bert/bert-base-uncased'\n",
        "\n",
        "tokenizer = AutoTokenizer.from_pretrained(checkpoint,model_max_length=512)"
      ],
      "metadata": {
        "colab": {
          "base_uri": "https://localhost:8080/"
        },
        "id": "ojq9D0FmQi3G",
        "outputId": "2c6a457c-d1d5-4517-a934-ce466682c6db"
      },
      "id": "ojq9D0FmQi3G",
      "execution_count": null,
      "outputs": [
        {
          "output_type": "stream",
          "name": "stderr",
          "text": [
            "/usr/local/lib/python3.10/dist-packages/huggingface_hub/file_download.py:1132: FutureWarning: `resume_download` is deprecated and will be removed in version 1.0.0. Downloads always resume when possible. If you want to force a new download, use `force_download=True`.\n",
            "  warnings.warn(\n"
          ]
        }
      ]
    },
    {
      "cell_type": "code",
      "source": [
        "tokenized_input = tokenizer(records_dict['record-21']['words'], is_split_into_words=True)\n",
        "tokens = tokenizer.convert_ids_to_tokens(tokenized_input[\"input_ids\"])\n",
        "word_ids = tokenized_input.word_ids()\n",
        "aligned_labels = [-100 if i is None else records_dict['record-21']['tags'][i] for i in word_ids]\n",
        "\n",
        "assert len(aligned_labels) == len(tokenized_input[\"input_ids\"])"
      ],
      "metadata": {
        "colab": {
          "base_uri": "https://localhost:8080/"
        },
        "id": "-Qp3LbfzQ4_s",
        "outputId": "ffe4f9ef-4a6e-4914-b7e3-d5518ff23152"
      },
      "id": "-Qp3LbfzQ4_s",
      "execution_count": null,
      "outputs": [
        {
          "output_type": "stream",
          "name": "stderr",
          "text": [
            "Token indices sequence length is longer than the specified maximum sequence length for this model (2055 > 512). Running this sequence through the model will result in indexing errors\n"
          ]
        }
      ]
    },
    {
      "cell_type": "code",
      "source": [
        "def tokenize_and_align_labels(examples):\n",
        "    tokenized_inputs = tokenizer(examples[\"tokens\"], truncation=True, is_split_into_words=True, max_length=512,\n",
        "                                stride=3, return_overflowing_tokens=True\n",
        "                                 )\n",
        "\n",
        "    sample_map = tokenized_inputs.pop(\"overflow_to_sample_mapping\")\n",
        "    for key, values in examples.items():\n",
        "        tokenized_inputs[key] = [values[i] for i in sample_map]\n",
        "\n",
        "    labels = []\n",
        "    for i, label in enumerate(tokenized_inputs[\"ner_tags\"]):\n",
        "        word_ids = tokenized_inputs.word_ids(batch_index=i)\n",
        "\n",
        "        previous_word_idx = None\n",
        "        label_ids = []\n",
        "        for word_idx in word_ids:\n",
        "            # Special tokens have a word id that is None. We set the label to -100 so they are automatically\n",
        "            # ignored in the loss function.\n",
        "            if word_idx is None:\n",
        "                label_ids.append(-100)\n",
        "            # We set the label for the first token of each word.\n",
        "            elif word_idx != previous_word_idx:\n",
        "                label_ids.append(label[word_idx])\n",
        "            # For the other tokens in a word, we set the label to either the current label or -100, depending on\n",
        "            # the label_all_tokens flag.\n",
        "            else:\n",
        "                label_ids.append(-100)\n",
        "            previous_word_idx = word_idx\n",
        "\n",
        "        labels.append(label_ids)\n",
        "\n",
        "    tokenized_inputs[\"labels\"] = labels\n",
        "    return tokenized_inputs"
      ],
      "metadata": {
        "id": "HaReNkxem4ye"
      },
      "execution_count": null,
      "outputs": [],
      "id": "HaReNkxem4ye"
    },
    {
      "cell_type": "code",
      "source": [
        "tokenized_train = dataset_train.map(tokenize_and_align_labels,batched=True)\n",
        "tokenized_test = dataset_test.map(tokenize_and_align_labels,batched=True)"
      ],
      "metadata": {
        "id": "TkmzH0_QrCcQ",
        "colab": {
          "base_uri": "https://localhost:8080/",
          "height": 81,
          "referenced_widgets": [
            "170eca0f4a484cec9b34156994d5e392",
            "75a50f0493c64873810a4c84462ffec4",
            "31ccd0d5f55e467ba1770589720ff361",
            "4c5103415a484709a92d7a68998e1bb6",
            "ec5ec740ebba4ad7ae0b0eff020efb23",
            "bf314d746f314a628a4bb56cf60cb931",
            "9505ca1f819a4c2ea9f0fd8ab98cbc7a",
            "9df756c69ae34825a855ca6cb3271c03",
            "616ba2d28e0c49478f0b935c0313d4f9",
            "065c4a423dff459cb2f74523331ab0e3",
            "554f0b08f3f641f391a7aed169f9fcf2",
            "af91eebb129d456ea5e72eb44de9ee3f",
            "f86c036608164c5a886dbe2d58ace235",
            "7ae5959a42dd4b15aedfee49a467a02f",
            "6d63c8994f8e4cfa98fc7a88936f6615",
            "e2509a97993445649a3478d9e16a994b",
            "2d0602d3cf7f472eb25d77e1ce8c184f",
            "5557d66a35e14ca089d420175ec9aa04",
            "15ea5e31c90a4a5cbaa047a20a696eb7",
            "aa38f5c762ca4a8b90e28fde3e32b309",
            "f7f6fa8dfbd14331bd342f137852d1af",
            "d59ee46fd66b4ae391dcca0cdc22e374"
          ]
        },
        "outputId": "52f2a193-562e-4d59-b1a6-0902fbf9cd80"
      },
      "id": "TkmzH0_QrCcQ",
      "execution_count": null,
      "outputs": [
        {
          "output_type": "display_data",
          "data": {
            "text/plain": [
              "Map:   0%|          | 0/170 [00:00<?, ? examples/s]"
            ],
            "application/vnd.jupyter.widget-view+json": {
              "version_major": 2,
              "version_minor": 0,
              "model_id": "170eca0f4a484cec9b34156994d5e392"
            }
          },
          "metadata": {}
        },
        {
          "output_type": "display_data",
          "data": {
            "text/plain": [
              "Map:   0%|          | 0/256 [00:00<?, ? examples/s]"
            ],
            "application/vnd.jupyter.widget-view+json": {
              "version_major": 2,
              "version_minor": 0,
              "model_id": "af91eebb129d456ea5e72eb44de9ee3f"
            }
          },
          "metadata": {}
        }
      ]
    },
    {
      "cell_type": "code",
      "execution_count": null,
      "id": "a09ac33d",
      "metadata": {
        "id": "a09ac33d"
      },
      "outputs": [],
      "source": [
        "train_validation = tokenized_train.train_test_split(test_size= 0.2, seed=42)"
      ]
    },
    {
      "cell_type": "code",
      "execution_count": null,
      "id": "3c5721bd",
      "metadata": {
        "id": "3c5721bd"
      },
      "outputs": [],
      "source": [
        "from datasets import DatasetDict\n",
        "final_dataset = DatasetDict({\n",
        "    'train': train_validation['train'],\n",
        "    'validation':train_validation['test'],\n",
        "    'test': tokenized_test\n",
        "})"
      ]
    },
    {
      "cell_type": "code",
      "source": [
        "final_dataset"
      ],
      "metadata": {
        "colab": {
          "base_uri": "https://localhost:8080/"
        },
        "id": "BvvCiT_ARJ3h",
        "outputId": "cd19786d-98be-44f8-8006-4cdb779cef24"
      },
      "id": "BvvCiT_ARJ3h",
      "execution_count": null,
      "outputs": [
        {
          "output_type": "execute_result",
          "data": {
            "text/plain": [
              "DatasetDict({\n",
              "    train: Dataset({\n",
              "        features: ['id', 'tokens', 'ner_tags', 'input_ids', 'token_type_ids', 'attention_mask', 'labels'],\n",
              "        num_rows: 448\n",
              "    })\n",
              "    validation: Dataset({\n",
              "        features: ['id', 'tokens', 'ner_tags', 'input_ids', 'token_type_ids', 'attention_mask', 'labels'],\n",
              "        num_rows: 112\n",
              "    })\n",
              "    test: Dataset({\n",
              "        features: ['id', 'tokens', 'ner_tags', 'input_ids', 'token_type_ids', 'attention_mask', 'labels'],\n",
              "        num_rows: 974\n",
              "    })\n",
              "})"
            ]
          },
          "metadata": {},
          "execution_count": 45
        }
      ]
    },
    {
      "cell_type": "code",
      "source": [
        "ner_feature = final_dataset[\"train\"].features[\"ner_tags\"]"
      ],
      "metadata": {
        "id": "6PL6NK2dRL8i"
      },
      "id": "6PL6NK2dRL8i",
      "execution_count": null,
      "outputs": []
    },
    {
      "cell_type": "code",
      "source": [
        "label_names = ner_feature.feature.names"
      ],
      "metadata": {
        "id": "v-n6lgzdRXVs"
      },
      "id": "v-n6lgzdRXVs",
      "execution_count": null,
      "outputs": []
    },
    {
      "cell_type": "code",
      "execution_count": null,
      "id": "845380a6",
      "metadata": {
        "id": "845380a6"
      },
      "outputs": [],
      "source": [
        "from transformers import DataCollatorForTokenClassification\n",
        "\n",
        "data_collator = DataCollatorForTokenClassification(tokenizer=tokenizer,return_tensors='pt')"
      ]
    },
    {
      "cell_type": "code",
      "source": [
        "!pip install evaluate"
      ],
      "metadata": {
        "colab": {
          "base_uri": "https://localhost:8080/"
        },
        "id": "yWGk40lWdadJ",
        "outputId": "524fea8f-0989-4047-d7f0-b07017b6acae"
      },
      "id": "yWGk40lWdadJ",
      "execution_count": null,
      "outputs": [
        {
          "output_type": "stream",
          "name": "stdout",
          "text": [
            "Collecting evaluate\n",
            "  Downloading evaluate-0.4.2-py3-none-any.whl (84 kB)\n",
            "\u001b[?25l     \u001b[90m━━━━━━━━━━━━━━━━━━━━━━━━━━━━━━━━━━━━━━━━\u001b[0m \u001b[32m0.0/84.1 kB\u001b[0m \u001b[31m?\u001b[0m eta \u001b[36m-:--:--\u001b[0m\r\u001b[2K     \u001b[90m━━━━━━━━━━━━━━━━━━━━━━━━━━━━━━━━━━━━━━━━\u001b[0m \u001b[32m84.1/84.1 kB\u001b[0m \u001b[31m2.7 MB/s\u001b[0m eta \u001b[36m0:00:00\u001b[0m\n",
            "\u001b[?25hRequirement already satisfied: datasets>=2.0.0 in /usr/local/lib/python3.10/dist-packages (from evaluate) (2.19.0)\n",
            "Requirement already satisfied: numpy>=1.17 in /usr/local/lib/python3.10/dist-packages (from evaluate) (1.25.2)\n",
            "Requirement already satisfied: dill in /usr/local/lib/python3.10/dist-packages (from evaluate) (0.3.8)\n",
            "Requirement already satisfied: pandas in /usr/local/lib/python3.10/dist-packages (from evaluate) (2.0.3)\n",
            "Requirement already satisfied: requests>=2.19.0 in /usr/local/lib/python3.10/dist-packages (from evaluate) (2.31.0)\n",
            "Requirement already satisfied: tqdm>=4.62.1 in /usr/local/lib/python3.10/dist-packages (from evaluate) (4.66.2)\n",
            "Requirement already satisfied: xxhash in /usr/local/lib/python3.10/dist-packages (from evaluate) (3.4.1)\n",
            "Requirement already satisfied: multiprocess in /usr/local/lib/python3.10/dist-packages (from evaluate) (0.70.16)\n",
            "Requirement already satisfied: fsspec[http]>=2021.05.0 in /usr/local/lib/python3.10/dist-packages (from evaluate) (2023.6.0)\n",
            "Requirement already satisfied: huggingface-hub>=0.7.0 in /usr/local/lib/python3.10/dist-packages (from evaluate) (0.23.0)\n",
            "Requirement already satisfied: packaging in /usr/local/lib/python3.10/dist-packages (from evaluate) (24.0)\n",
            "Requirement already satisfied: filelock in /usr/local/lib/python3.10/dist-packages (from datasets>=2.0.0->evaluate) (3.14.0)\n",
            "Requirement already satisfied: pyarrow>=12.0.0 in /usr/local/lib/python3.10/dist-packages (from datasets>=2.0.0->evaluate) (14.0.2)\n",
            "Requirement already satisfied: pyarrow-hotfix in /usr/local/lib/python3.10/dist-packages (from datasets>=2.0.0->evaluate) (0.6)\n",
            "Requirement already satisfied: aiohttp in /usr/local/lib/python3.10/dist-packages (from datasets>=2.0.0->evaluate) (3.9.5)\n",
            "Requirement already satisfied: pyyaml>=5.1 in /usr/local/lib/python3.10/dist-packages (from datasets>=2.0.0->evaluate) (6.0.1)\n",
            "Requirement already satisfied: typing-extensions>=3.7.4.3 in /usr/local/lib/python3.10/dist-packages (from huggingface-hub>=0.7.0->evaluate) (4.11.0)\n",
            "Requirement already satisfied: charset-normalizer<4,>=2 in /usr/local/lib/python3.10/dist-packages (from requests>=2.19.0->evaluate) (3.3.2)\n",
            "Requirement already satisfied: idna<4,>=2.5 in /usr/local/lib/python3.10/dist-packages (from requests>=2.19.0->evaluate) (3.7)\n",
            "Requirement already satisfied: urllib3<3,>=1.21.1 in /usr/local/lib/python3.10/dist-packages (from requests>=2.19.0->evaluate) (2.0.7)\n",
            "Requirement already satisfied: certifi>=2017.4.17 in /usr/local/lib/python3.10/dist-packages (from requests>=2.19.0->evaluate) (2024.2.2)\n",
            "Requirement already satisfied: python-dateutil>=2.8.2 in /usr/local/lib/python3.10/dist-packages (from pandas->evaluate) (2.8.2)\n",
            "Requirement already satisfied: pytz>=2020.1 in /usr/local/lib/python3.10/dist-packages (from pandas->evaluate) (2023.4)\n",
            "Requirement already satisfied: tzdata>=2022.1 in /usr/local/lib/python3.10/dist-packages (from pandas->evaluate) (2024.1)\n",
            "Requirement already satisfied: aiosignal>=1.1.2 in /usr/local/lib/python3.10/dist-packages (from aiohttp->datasets>=2.0.0->evaluate) (1.3.1)\n",
            "Requirement already satisfied: attrs>=17.3.0 in /usr/local/lib/python3.10/dist-packages (from aiohttp->datasets>=2.0.0->evaluate) (23.2.0)\n",
            "Requirement already satisfied: frozenlist>=1.1.1 in /usr/local/lib/python3.10/dist-packages (from aiohttp->datasets>=2.0.0->evaluate) (1.4.1)\n",
            "Requirement already satisfied: multidict<7.0,>=4.5 in /usr/local/lib/python3.10/dist-packages (from aiohttp->datasets>=2.0.0->evaluate) (6.0.5)\n",
            "Requirement already satisfied: yarl<2.0,>=1.0 in /usr/local/lib/python3.10/dist-packages (from aiohttp->datasets>=2.0.0->evaluate) (1.9.4)\n",
            "Requirement already satisfied: async-timeout<5.0,>=4.0 in /usr/local/lib/python3.10/dist-packages (from aiohttp->datasets>=2.0.0->evaluate) (4.0.3)\n",
            "Requirement already satisfied: six>=1.5 in /usr/local/lib/python3.10/dist-packages (from python-dateutil>=2.8.2->pandas->evaluate) (1.16.0)\n",
            "Installing collected packages: evaluate\n",
            "Successfully installed evaluate-0.4.2\n"
          ]
        }
      ]
    },
    {
      "cell_type": "code",
      "source": [
        "!pip install seqeval"
      ],
      "metadata": {
        "colab": {
          "base_uri": "https://localhost:8080/"
        },
        "id": "iuNaGBqjdcZV",
        "outputId": "936022b4-2959-4326-cf26-cd55f179b112"
      },
      "id": "iuNaGBqjdcZV",
      "execution_count": null,
      "outputs": [
        {
          "output_type": "stream",
          "name": "stdout",
          "text": [
            "Collecting seqeval\n",
            "  Downloading seqeval-1.2.2.tar.gz (43 kB)\n",
            "\u001b[2K     \u001b[90m━━━━━━━━━━━━━━━━━━━━━━━━━━━━━━━━━━━━━━━━\u001b[0m \u001b[32m43.6/43.6 kB\u001b[0m \u001b[31m792.5 kB/s\u001b[0m eta \u001b[36m0:00:00\u001b[0m\n",
            "\u001b[?25h  Preparing metadata (setup.py) ... \u001b[?25l\u001b[?25hdone\n",
            "Requirement already satisfied: numpy>=1.14.0 in /usr/local/lib/python3.10/dist-packages (from seqeval) (1.25.2)\n",
            "Requirement already satisfied: scikit-learn>=0.21.3 in /usr/local/lib/python3.10/dist-packages (from seqeval) (1.2.2)\n",
            "Requirement already satisfied: scipy>=1.3.2 in /usr/local/lib/python3.10/dist-packages (from scikit-learn>=0.21.3->seqeval) (1.11.4)\n",
            "Requirement already satisfied: joblib>=1.1.1 in /usr/local/lib/python3.10/dist-packages (from scikit-learn>=0.21.3->seqeval) (1.4.0)\n",
            "Requirement already satisfied: threadpoolctl>=2.0.0 in /usr/local/lib/python3.10/dist-packages (from scikit-learn>=0.21.3->seqeval) (3.5.0)\n",
            "Building wheels for collected packages: seqeval\n",
            "  Building wheel for seqeval (setup.py) ... \u001b[?25l\u001b[?25hdone\n",
            "  Created wheel for seqeval: filename=seqeval-1.2.2-py3-none-any.whl size=16161 sha256=9cd6ebcd93fcf9d7d700d238346edec5cda670763387043b4564cf67943fd99a\n",
            "  Stored in directory: /root/.cache/pip/wheels/1a/67/4a/ad4082dd7dfc30f2abfe4d80a2ed5926a506eb8a972b4767fa\n",
            "Successfully built seqeval\n",
            "Installing collected packages: seqeval\n",
            "Successfully installed seqeval-1.2.2\n"
          ]
        }
      ]
    },
    {
      "cell_type": "code",
      "execution_count": null,
      "id": "5dd1d66b",
      "metadata": {
        "id": "5dd1d66b"
      },
      "outputs": [],
      "source": [
        "import evaluate\n",
        "\n",
        "metric = evaluate.load('seqeval')"
      ]
    },
    {
      "cell_type": "code",
      "execution_count": null,
      "id": "eb69d45c",
      "metadata": {
        "id": "eb69d45c"
      },
      "outputs": [],
      "source": [
        "labels = final_dataset[\"train\"][0][\"ner_tags\"]\n",
        "labels = [label_names[i] for i in labels]"
      ]
    },
    {
      "cell_type": "code",
      "source": [],
      "metadata": {
        "colab": {
          "base_uri": "https://localhost:8080/",
          "height": 141
        },
        "id": "Dnc0NFtGZFIK",
        "outputId": "70b34464-43af-4a40-b8d6-9340c890e6d6"
      },
      "id": "Dnc0NFtGZFIK",
      "execution_count": null,
      "outputs": [
        {
          "output_type": "error",
          "ename": "AttributeError",
          "evalue": "'list' object has no attribute 'shape'",
          "traceback": [
            "\u001b[0;31m---------------------------------------------------------------------------\u001b[0m",
            "\u001b[0;31mAttributeError\u001b[0m                            Traceback (most recent call last)",
            "\u001b[0;32m<ipython-input-71-2a3a7522e540>\u001b[0m in \u001b[0;36m<cell line: 1>\u001b[0;34m()\u001b[0m\n\u001b[0;32m----> 1\u001b[0;31m \u001b[0mlabels\u001b[0m\u001b[0;34m.\u001b[0m\u001b[0mshape\u001b[0m\u001b[0;34m\u001b[0m\u001b[0;34m\u001b[0m\u001b[0m\n\u001b[0m",
            "\u001b[0;31mAttributeError\u001b[0m: 'list' object has no attribute 'shape'"
          ]
        }
      ]
    },
    {
      "cell_type": "code",
      "execution_count": null,
      "id": "ade2fd06",
      "metadata": {
        "id": "ade2fd06"
      },
      "outputs": [],
      "source": [
        "import numpy as np\n",
        "from sklearn.metrics import f1_score\n",
        "from sklearn.metrics import classification_report\n",
        "from sklearn.preprocessing import MultiLabelBinarizer\n",
        "\n",
        "def compute_metrics(eval_preds):\n",
        "    logits, labels = eval_preds\n",
        "    predictions = np.argmax(logits, axis=-1)\n",
        "\n",
        "    # Remove ignored index (special tokens) and convert to labels\n",
        "    true_labels = [[label_names[l] for l in label if l != -100] for label in labels]\n",
        "    true_predictions = [\n",
        "        [label_names[p] for (p, l) in zip(prediction, label) if l != -100]\n",
        "        for prediction, label in zip(predictions, labels)\n",
        "    ]\n",
        "\n",
        "    mlb = MultiLabelBinarizer()\n",
        "    true_labels_binary = mlb.fit_transform(true_labels)\n",
        "    # true_labels_binary = np.array(true_labels_binary)\n",
        "    # true_labels_binary = true_labels_binary.astype(int)\n",
        "    true_predictions_binary = mlb.transform(true_predictions)\n",
        "    # true_predictions_binary = np.array(true_predictions_binary)\n",
        "    # true_predictions_binary = true_predictions_binary.astype(int)\n",
        "\n",
        "    cr = classification_report(true_labels_binary,true_predictions_binary)\n",
        "    print(cr)\n",
        "\n",
        "    all_metrics = metric.compute(predictions=true_predictions, references=true_labels)\n",
        "    f1_individual = f1_score(true_labels_binary,true_predictions_binary,average=None)\n",
        "    return {\n",
        "        \"f1\": all_metrics[\"overall_f1\"],\n",
        "        \"f1_O\": f1_individual[0],\n",
        "        \"f1_B_absent\": f1_individual[1],\n",
        "        \"f1_B_present\": f1_individual[2],\n",
        "        \"f1_I_absent\": f1_individual[3],\n",
        "        \"f1_I_present\": f1_individual[4],\n",
        "        \"f1_B_hypothetical\": f1_individual[5],\n",
        "        \"f1_B_possible\": f1_individual[6],\n",
        "        \"f1_I_possible\": f1_individual[7],\n",
        "        \"f1_I_hypothetical\": f1_individual[8],\n",
        "        \"f1_B_conditional\": f1_individual[9],\n",
        "        \"f1_I_conditional\": f1_individual[10],\n",
        "        \"f1_B_associated_with_someone_else\": f1_individual[11],\n",
        "        \"f1_I_associated_with_someone_else\": f1_individual[12]\n",
        "\n",
        "        # \"classification_report\": cr\n",
        "    }"
      ]
    },
    {
      "cell_type": "code",
      "execution_count": null,
      "id": "9df6d506",
      "metadata": {
        "id": "9df6d506"
      },
      "outputs": [],
      "source": [
        "id2label = {i: label for i, label in enumerate(label_names)}\n",
        "label2id = {v: k for k, v in id2label.items()}"
      ]
    },
    {
      "cell_type": "code",
      "source": [
        "from transformers import AutoModelForTokenClassification\n",
        "\n",
        "model = AutoModelForTokenClassification.from_pretrained(\n",
        "    checkpoint,\n",
        "    id2label=id2label,\n",
        "    label2id=label2id,\n",
        ")"
      ],
      "metadata": {
        "colab": {
          "base_uri": "https://localhost:8080/"
        },
        "id": "B5WWAsjD0F9S",
        "outputId": "28b4e01d-5a4b-44fe-d686-f7c4518c6944"
      },
      "id": "B5WWAsjD0F9S",
      "execution_count": null,
      "outputs": [
        {
          "output_type": "stream",
          "name": "stderr",
          "text": [
            "/usr/local/lib/python3.10/dist-packages/huggingface_hub/file_download.py:1132: FutureWarning: `resume_download` is deprecated and will be removed in version 1.0.0. Downloads always resume when possible. If you want to force a new download, use `force_download=True`.\n",
            "  warnings.warn(\n",
            "Some weights of BertForTokenClassification were not initialized from the model checkpoint at dmis-lab/biobert-v1.1 and are newly initialized: ['classifier.bias', 'classifier.weight']\n",
            "You should probably TRAIN this model on a down-stream task to be able to use it for predictions and inference.\n"
          ]
        }
      ]
    },
    {
      "cell_type": "code",
      "execution_count": null,
      "id": "eba3e49d",
      "metadata": {
        "colab": {
          "base_uri": "https://localhost:8080/"
        },
        "id": "eba3e49d",
        "outputId": "41ea1dec-b81e-4469-f270-3b917b22aa99"
      },
      "outputs": [
        {
          "output_type": "stream",
          "name": "stdout",
          "text": [
            "Requirement already satisfied: transformers[torch] in /usr/local/lib/python3.10/dist-packages (4.40.1)\n",
            "Requirement already satisfied: filelock in /usr/local/lib/python3.10/dist-packages (from transformers[torch]) (3.14.0)\n",
            "Requirement already satisfied: huggingface-hub<1.0,>=0.19.3 in /usr/local/lib/python3.10/dist-packages (from transformers[torch]) (0.23.0)\n",
            "Requirement already satisfied: numpy>=1.17 in /usr/local/lib/python3.10/dist-packages (from transformers[torch]) (1.25.2)\n",
            "Requirement already satisfied: packaging>=20.0 in /usr/local/lib/python3.10/dist-packages (from transformers[torch]) (24.0)\n",
            "Requirement already satisfied: pyyaml>=5.1 in /usr/local/lib/python3.10/dist-packages (from transformers[torch]) (6.0.1)\n",
            "Requirement already satisfied: regex!=2019.12.17 in /usr/local/lib/python3.10/dist-packages (from transformers[torch]) (2023.12.25)\n",
            "Requirement already satisfied: requests in /usr/local/lib/python3.10/dist-packages (from transformers[torch]) (2.31.0)\n",
            "Requirement already satisfied: tokenizers<0.20,>=0.19 in /usr/local/lib/python3.10/dist-packages (from transformers[torch]) (0.19.1)\n",
            "Requirement already satisfied: safetensors>=0.4.1 in /usr/local/lib/python3.10/dist-packages (from transformers[torch]) (0.4.3)\n",
            "Requirement already satisfied: tqdm>=4.27 in /usr/local/lib/python3.10/dist-packages (from transformers[torch]) (4.66.2)\n",
            "Requirement already satisfied: torch in /usr/local/lib/python3.10/dist-packages (from transformers[torch]) (2.2.1+cu121)\n",
            "Requirement already satisfied: accelerate>=0.21.0 in /usr/local/lib/python3.10/dist-packages (from transformers[torch]) (0.30.0)\n",
            "Requirement already satisfied: psutil in /usr/local/lib/python3.10/dist-packages (from accelerate>=0.21.0->transformers[torch]) (5.9.5)\n",
            "Requirement already satisfied: fsspec>=2023.5.0 in /usr/local/lib/python3.10/dist-packages (from huggingface-hub<1.0,>=0.19.3->transformers[torch]) (2023.6.0)\n",
            "Requirement already satisfied: typing-extensions>=3.7.4.3 in /usr/local/lib/python3.10/dist-packages (from huggingface-hub<1.0,>=0.19.3->transformers[torch]) (4.11.0)\n",
            "Requirement already satisfied: sympy in /usr/local/lib/python3.10/dist-packages (from torch->transformers[torch]) (1.12)\n",
            "Requirement already satisfied: networkx in /usr/local/lib/python3.10/dist-packages (from torch->transformers[torch]) (3.3)\n",
            "Requirement already satisfied: jinja2 in /usr/local/lib/python3.10/dist-packages (from torch->transformers[torch]) (3.1.3)\n",
            "Requirement already satisfied: nvidia-cuda-nvrtc-cu12==12.1.105 in /usr/local/lib/python3.10/dist-packages (from torch->transformers[torch]) (12.1.105)\n",
            "Requirement already satisfied: nvidia-cuda-runtime-cu12==12.1.105 in /usr/local/lib/python3.10/dist-packages (from torch->transformers[torch]) (12.1.105)\n",
            "Requirement already satisfied: nvidia-cuda-cupti-cu12==12.1.105 in /usr/local/lib/python3.10/dist-packages (from torch->transformers[torch]) (12.1.105)\n",
            "Requirement already satisfied: nvidia-cudnn-cu12==8.9.2.26 in /usr/local/lib/python3.10/dist-packages (from torch->transformers[torch]) (8.9.2.26)\n",
            "Requirement already satisfied: nvidia-cublas-cu12==12.1.3.1 in /usr/local/lib/python3.10/dist-packages (from torch->transformers[torch]) (12.1.3.1)\n",
            "Requirement already satisfied: nvidia-cufft-cu12==11.0.2.54 in /usr/local/lib/python3.10/dist-packages (from torch->transformers[torch]) (11.0.2.54)\n",
            "Requirement already satisfied: nvidia-curand-cu12==10.3.2.106 in /usr/local/lib/python3.10/dist-packages (from torch->transformers[torch]) (10.3.2.106)\n",
            "Requirement already satisfied: nvidia-cusolver-cu12==11.4.5.107 in /usr/local/lib/python3.10/dist-packages (from torch->transformers[torch]) (11.4.5.107)\n",
            "Requirement already satisfied: nvidia-cusparse-cu12==12.1.0.106 in /usr/local/lib/python3.10/dist-packages (from torch->transformers[torch]) (12.1.0.106)\n",
            "Requirement already satisfied: nvidia-nccl-cu12==2.19.3 in /usr/local/lib/python3.10/dist-packages (from torch->transformers[torch]) (2.19.3)\n",
            "Requirement already satisfied: nvidia-nvtx-cu12==12.1.105 in /usr/local/lib/python3.10/dist-packages (from torch->transformers[torch]) (12.1.105)\n",
            "Requirement already satisfied: triton==2.2.0 in /usr/local/lib/python3.10/dist-packages (from torch->transformers[torch]) (2.2.0)\n",
            "Requirement already satisfied: nvidia-nvjitlink-cu12 in /usr/local/lib/python3.10/dist-packages (from nvidia-cusolver-cu12==11.4.5.107->torch->transformers[torch]) (12.4.127)\n",
            "Requirement already satisfied: charset-normalizer<4,>=2 in /usr/local/lib/python3.10/dist-packages (from requests->transformers[torch]) (3.3.2)\n",
            "Requirement already satisfied: idna<4,>=2.5 in /usr/local/lib/python3.10/dist-packages (from requests->transformers[torch]) (3.7)\n",
            "Requirement already satisfied: urllib3<3,>=1.21.1 in /usr/local/lib/python3.10/dist-packages (from requests->transformers[torch]) (2.0.7)\n",
            "Requirement already satisfied: certifi>=2017.4.17 in /usr/local/lib/python3.10/dist-packages (from requests->transformers[torch]) (2024.2.2)\n",
            "Requirement already satisfied: MarkupSafe>=2.0 in /usr/local/lib/python3.10/dist-packages (from jinja2->torch->transformers[torch]) (2.1.5)\n",
            "Requirement already satisfied: mpmath>=0.19 in /usr/local/lib/python3.10/dist-packages (from sympy->torch->transformers[torch]) (1.3.0)\n"
          ]
        }
      ],
      "source": [
        "!pip install transformers[torch]"
      ]
    },
    {
      "cell_type": "code",
      "source": [
        "!pip install accelerate -U"
      ],
      "metadata": {
        "colab": {
          "base_uri": "https://localhost:8080/"
        },
        "id": "-W16WusOeo3X",
        "outputId": "62d7e37e-b938-400c-869a-44e370cd32ec"
      },
      "id": "-W16WusOeo3X",
      "execution_count": null,
      "outputs": [
        {
          "output_type": "stream",
          "name": "stdout",
          "text": [
            "Requirement already satisfied: accelerate in /usr/local/lib/python3.10/dist-packages (0.30.0)\n",
            "Requirement already satisfied: numpy>=1.17 in /usr/local/lib/python3.10/dist-packages (from accelerate) (1.25.2)\n",
            "Requirement already satisfied: packaging>=20.0 in /usr/local/lib/python3.10/dist-packages (from accelerate) (24.0)\n",
            "Requirement already satisfied: psutil in /usr/local/lib/python3.10/dist-packages (from accelerate) (5.9.5)\n",
            "Requirement already satisfied: pyyaml in /usr/local/lib/python3.10/dist-packages (from accelerate) (6.0.1)\n",
            "Requirement already satisfied: torch>=1.10.0 in /usr/local/lib/python3.10/dist-packages (from accelerate) (2.2.1+cu121)\n",
            "Requirement already satisfied: huggingface-hub in /usr/local/lib/python3.10/dist-packages (from accelerate) (0.23.0)\n",
            "Requirement already satisfied: safetensors>=0.3.1 in /usr/local/lib/python3.10/dist-packages (from accelerate) (0.4.3)\n",
            "Requirement already satisfied: filelock in /usr/local/lib/python3.10/dist-packages (from torch>=1.10.0->accelerate) (3.14.0)\n",
            "Requirement already satisfied: typing-extensions>=4.8.0 in /usr/local/lib/python3.10/dist-packages (from torch>=1.10.0->accelerate) (4.11.0)\n",
            "Requirement already satisfied: sympy in /usr/local/lib/python3.10/dist-packages (from torch>=1.10.0->accelerate) (1.12)\n",
            "Requirement already satisfied: networkx in /usr/local/lib/python3.10/dist-packages (from torch>=1.10.0->accelerate) (3.3)\n",
            "Requirement already satisfied: jinja2 in /usr/local/lib/python3.10/dist-packages (from torch>=1.10.0->accelerate) (3.1.3)\n",
            "Requirement already satisfied: fsspec in /usr/local/lib/python3.10/dist-packages (from torch>=1.10.0->accelerate) (2023.6.0)\n",
            "Requirement already satisfied: nvidia-cuda-nvrtc-cu12==12.1.105 in /usr/local/lib/python3.10/dist-packages (from torch>=1.10.0->accelerate) (12.1.105)\n",
            "Requirement already satisfied: nvidia-cuda-runtime-cu12==12.1.105 in /usr/local/lib/python3.10/dist-packages (from torch>=1.10.0->accelerate) (12.1.105)\n",
            "Requirement already satisfied: nvidia-cuda-cupti-cu12==12.1.105 in /usr/local/lib/python3.10/dist-packages (from torch>=1.10.0->accelerate) (12.1.105)\n",
            "Requirement already satisfied: nvidia-cudnn-cu12==8.9.2.26 in /usr/local/lib/python3.10/dist-packages (from torch>=1.10.0->accelerate) (8.9.2.26)\n",
            "Requirement already satisfied: nvidia-cublas-cu12==12.1.3.1 in /usr/local/lib/python3.10/dist-packages (from torch>=1.10.0->accelerate) (12.1.3.1)\n",
            "Requirement already satisfied: nvidia-cufft-cu12==11.0.2.54 in /usr/local/lib/python3.10/dist-packages (from torch>=1.10.0->accelerate) (11.0.2.54)\n",
            "Requirement already satisfied: nvidia-curand-cu12==10.3.2.106 in /usr/local/lib/python3.10/dist-packages (from torch>=1.10.0->accelerate) (10.3.2.106)\n",
            "Requirement already satisfied: nvidia-cusolver-cu12==11.4.5.107 in /usr/local/lib/python3.10/dist-packages (from torch>=1.10.0->accelerate) (11.4.5.107)\n",
            "Requirement already satisfied: nvidia-cusparse-cu12==12.1.0.106 in /usr/local/lib/python3.10/dist-packages (from torch>=1.10.0->accelerate) (12.1.0.106)\n",
            "Requirement already satisfied: nvidia-nccl-cu12==2.19.3 in /usr/local/lib/python3.10/dist-packages (from torch>=1.10.0->accelerate) (2.19.3)\n",
            "Requirement already satisfied: nvidia-nvtx-cu12==12.1.105 in /usr/local/lib/python3.10/dist-packages (from torch>=1.10.0->accelerate) (12.1.105)\n",
            "Requirement already satisfied: triton==2.2.0 in /usr/local/lib/python3.10/dist-packages (from torch>=1.10.0->accelerate) (2.2.0)\n",
            "Requirement already satisfied: nvidia-nvjitlink-cu12 in /usr/local/lib/python3.10/dist-packages (from nvidia-cusolver-cu12==11.4.5.107->torch>=1.10.0->accelerate) (12.4.127)\n",
            "Requirement already satisfied: requests in /usr/local/lib/python3.10/dist-packages (from huggingface-hub->accelerate) (2.31.0)\n",
            "Requirement already satisfied: tqdm>=4.42.1 in /usr/local/lib/python3.10/dist-packages (from huggingface-hub->accelerate) (4.66.2)\n",
            "Requirement already satisfied: MarkupSafe>=2.0 in /usr/local/lib/python3.10/dist-packages (from jinja2->torch>=1.10.0->accelerate) (2.1.5)\n",
            "Requirement already satisfied: charset-normalizer<4,>=2 in /usr/local/lib/python3.10/dist-packages (from requests->huggingface-hub->accelerate) (3.3.2)\n",
            "Requirement already satisfied: idna<4,>=2.5 in /usr/local/lib/python3.10/dist-packages (from requests->huggingface-hub->accelerate) (3.7)\n",
            "Requirement already satisfied: urllib3<3,>=1.21.1 in /usr/local/lib/python3.10/dist-packages (from requests->huggingface-hub->accelerate) (2.0.7)\n",
            "Requirement already satisfied: certifi>=2017.4.17 in /usr/local/lib/python3.10/dist-packages (from requests->huggingface-hub->accelerate) (2024.2.2)\n",
            "Requirement already satisfied: mpmath>=0.19 in /usr/local/lib/python3.10/dist-packages (from sympy->torch>=1.10.0->accelerate) (1.3.0)\n"
          ]
        }
      ]
    },
    {
      "cell_type": "code",
      "execution_count": null,
      "id": "dc1f5f0c",
      "metadata": {
        "id": "dc1f5f0c"
      },
      "outputs": [],
      "source": [
        "# hyperparameters: optimizer, weight_decay, learning_rate, batch_size\n",
        "from transformers import TrainingArguments\n",
        "from transformers import EarlyStoppingCallback, IntervalStrategy\n",
        "\n",
        "args = TrainingArguments(\n",
        "    checkpoint,\n",
        "    evaluation_strategy=IntervalStrategy.STEPS,\n",
        "    eval_steps = 50,\n",
        "    save_total_limit = 5,\n",
        "    learning_rate=2e-5,\n",
        "    num_train_epochs=20,\n",
        "    weight_decay=0.01,\n",
        "    logging_steps=1,\n",
        "    metric_for_best_model = 'f1',\n",
        "    load_best_model_at_end=True,\n",
        "    seed = 42\n",
        ")"
      ]
    },
    {
      "cell_type": "code",
      "execution_count": null,
      "id": "1e3424fe",
      "metadata": {
        "id": "1e3424fe",
        "colab": {
          "base_uri": "https://localhost:8080/",
          "height": 1000
        },
        "outputId": "6742e8ac-cfaa-4ac3-852d-e59d8edc88b1"
      },
      "outputs": [
        {
          "output_type": "display_data",
          "data": {
            "text/plain": [
              "<IPython.core.display.HTML object>"
            ],
            "text/html": [
              "\n",
              "    <div>\n",
              "      \n",
              "      <progress value='600' max='1120' style='width:300px; height:20px; vertical-align: middle;'></progress>\n",
              "      [ 600/1120 08:37 < 07:29, 1.16 it/s, Epoch 10/20]\n",
              "    </div>\n",
              "    <table border=\"1\" class=\"dataframe\">\n",
              "  <thead>\n",
              " <tr style=\"text-align: left;\">\n",
              "      <th>Step</th>\n",
              "      <th>Training Loss</th>\n",
              "      <th>Validation Loss</th>\n",
              "      <th>F1</th>\n",
              "      <th>F1 O</th>\n",
              "      <th>F1 B Absent</th>\n",
              "      <th>F1 B Present</th>\n",
              "      <th>F1 I Absent</th>\n",
              "      <th>F1 I Present</th>\n",
              "      <th>F1 B Hypothetical</th>\n",
              "      <th>F1 B Possible</th>\n",
              "      <th>F1 I Possible</th>\n",
              "      <th>F1 I Hypothetical</th>\n",
              "      <th>F1 B Conditional</th>\n",
              "      <th>F1 I Conditional</th>\n",
              "      <th>F1 B Associated With Someone Else</th>\n",
              "      <th>F1 I Associated With Someone Else</th>\n",
              "    </tr>\n",
              "  </thead>\n",
              "  <tbody>\n",
              "    <tr>\n",
              "      <td>50</td>\n",
              "      <td>0.270700</td>\n",
              "      <td>0.231893</td>\n",
              "      <td>0.382996</td>\n",
              "      <td>0.000000</td>\n",
              "      <td>0.000000</td>\n",
              "      <td>0.000000</td>\n",
              "      <td>0.000000</td>\n",
              "      <td>0.000000</td>\n",
              "      <td>0.875000</td>\n",
              "      <td>0.000000</td>\n",
              "      <td>0.000000</td>\n",
              "      <td>0.000000</td>\n",
              "      <td>0.000000</td>\n",
              "      <td>0.000000</td>\n",
              "      <td>0.941176</td>\n",
              "      <td>1.000000</td>\n",
              "    </tr>\n",
              "    <tr>\n",
              "      <td>100</td>\n",
              "      <td>0.151700</td>\n",
              "      <td>0.142842</td>\n",
              "      <td>0.611577</td>\n",
              "      <td>0.932331</td>\n",
              "      <td>0.000000</td>\n",
              "      <td>0.000000</td>\n",
              "      <td>0.148148</td>\n",
              "      <td>0.000000</td>\n",
              "      <td>0.959596</td>\n",
              "      <td>0.897196</td>\n",
              "      <td>0.000000</td>\n",
              "      <td>0.000000</td>\n",
              "      <td>0.000000</td>\n",
              "      <td>0.000000</td>\n",
              "      <td>0.962162</td>\n",
              "      <td>1.000000</td>\n",
              "    </tr>\n",
              "    <tr>\n",
              "      <td>150</td>\n",
              "      <td>0.158100</td>\n",
              "      <td>0.129130</td>\n",
              "      <td>0.661914</td>\n",
              "      <td>0.969231</td>\n",
              "      <td>0.000000</td>\n",
              "      <td>0.000000</td>\n",
              "      <td>0.583333</td>\n",
              "      <td>0.129032</td>\n",
              "      <td>0.979592</td>\n",
              "      <td>0.905660</td>\n",
              "      <td>0.000000</td>\n",
              "      <td>0.000000</td>\n",
              "      <td>0.380952</td>\n",
              "      <td>0.375000</td>\n",
              "      <td>0.967742</td>\n",
              "      <td>1.000000</td>\n",
              "    </tr>\n",
              "    <tr>\n",
              "      <td>200</td>\n",
              "      <td>0.101400</td>\n",
              "      <td>0.117948</td>\n",
              "      <td>0.707965</td>\n",
              "      <td>0.961240</td>\n",
              "      <td>0.000000</td>\n",
              "      <td>0.000000</td>\n",
              "      <td>0.714286</td>\n",
              "      <td>0.553191</td>\n",
              "      <td>0.984615</td>\n",
              "      <td>0.924528</td>\n",
              "      <td>0.000000</td>\n",
              "      <td>0.000000</td>\n",
              "      <td>0.692308</td>\n",
              "      <td>0.578947</td>\n",
              "      <td>0.972973</td>\n",
              "      <td>1.000000</td>\n",
              "    </tr>\n",
              "    <tr>\n",
              "      <td>250</td>\n",
              "      <td>0.045800</td>\n",
              "      <td>0.113607</td>\n",
              "      <td>0.746740</td>\n",
              "      <td>0.953125</td>\n",
              "      <td>0.000000</td>\n",
              "      <td>0.000000</td>\n",
              "      <td>0.711111</td>\n",
              "      <td>0.703704</td>\n",
              "      <td>0.984615</td>\n",
              "      <td>0.933333</td>\n",
              "      <td>0.000000</td>\n",
              "      <td>0.000000</td>\n",
              "      <td>0.800000</td>\n",
              "      <td>0.782609</td>\n",
              "      <td>0.972678</td>\n",
              "      <td>1.000000</td>\n",
              "    </tr>\n",
              "    <tr>\n",
              "      <td>300</td>\n",
              "      <td>0.047000</td>\n",
              "      <td>0.109438</td>\n",
              "      <td>0.753419</td>\n",
              "      <td>0.944882</td>\n",
              "      <td>0.000000</td>\n",
              "      <td>0.000000</td>\n",
              "      <td>0.727273</td>\n",
              "      <td>0.679245</td>\n",
              "      <td>0.989691</td>\n",
              "      <td>0.942308</td>\n",
              "      <td>0.000000</td>\n",
              "      <td>0.000000</td>\n",
              "      <td>0.800000</td>\n",
              "      <td>0.782609</td>\n",
              "      <td>0.978261</td>\n",
              "      <td>1.000000</td>\n",
              "    </tr>\n",
              "    <tr>\n",
              "      <td>350</td>\n",
              "      <td>0.026600</td>\n",
              "      <td>0.109464</td>\n",
              "      <td>0.769108</td>\n",
              "      <td>0.944882</td>\n",
              "      <td>0.200000</td>\n",
              "      <td>0.000000</td>\n",
              "      <td>0.782609</td>\n",
              "      <td>0.740741</td>\n",
              "      <td>0.989691</td>\n",
              "      <td>0.924528</td>\n",
              "      <td>0.000000</td>\n",
              "      <td>0.000000</td>\n",
              "      <td>0.800000</td>\n",
              "      <td>0.782609</td>\n",
              "      <td>0.978261</td>\n",
              "      <td>1.000000</td>\n",
              "    </tr>\n",
              "    <tr>\n",
              "      <td>400</td>\n",
              "      <td>0.017900</td>\n",
              "      <td>0.111293</td>\n",
              "      <td>0.765169</td>\n",
              "      <td>0.938462</td>\n",
              "      <td>0.461538</td>\n",
              "      <td>0.000000</td>\n",
              "      <td>0.800000</td>\n",
              "      <td>0.792453</td>\n",
              "      <td>0.989691</td>\n",
              "      <td>0.915888</td>\n",
              "      <td>0.000000</td>\n",
              "      <td>0.000000</td>\n",
              "      <td>0.812500</td>\n",
              "      <td>0.782609</td>\n",
              "      <td>0.978261</td>\n",
              "      <td>1.000000</td>\n",
              "    </tr>\n",
              "    <tr>\n",
              "      <td>450</td>\n",
              "      <td>0.030100</td>\n",
              "      <td>0.117238</td>\n",
              "      <td>0.758674</td>\n",
              "      <td>0.945736</td>\n",
              "      <td>0.461538</td>\n",
              "      <td>0.000000</td>\n",
              "      <td>0.791667</td>\n",
              "      <td>0.745763</td>\n",
              "      <td>0.989691</td>\n",
              "      <td>0.924528</td>\n",
              "      <td>0.222222</td>\n",
              "      <td>0.000000</td>\n",
              "      <td>0.787879</td>\n",
              "      <td>0.765957</td>\n",
              "      <td>0.972678</td>\n",
              "      <td>1.000000</td>\n",
              "    </tr>\n",
              "    <tr>\n",
              "      <td>500</td>\n",
              "      <td>0.045900</td>\n",
              "      <td>0.116808</td>\n",
              "      <td>0.772192</td>\n",
              "      <td>0.945736</td>\n",
              "      <td>0.571429</td>\n",
              "      <td>0.000000</td>\n",
              "      <td>0.840000</td>\n",
              "      <td>0.769231</td>\n",
              "      <td>0.984456</td>\n",
              "      <td>0.917431</td>\n",
              "      <td>0.222222</td>\n",
              "      <td>0.250000</td>\n",
              "      <td>0.764706</td>\n",
              "      <td>0.800000</td>\n",
              "      <td>0.972678</td>\n",
              "      <td>1.000000</td>\n",
              "    </tr>\n",
              "    <tr>\n",
              "      <td>550</td>\n",
              "      <td>0.025000</td>\n",
              "      <td>0.115808</td>\n",
              "      <td>0.761830</td>\n",
              "      <td>0.945736</td>\n",
              "      <td>0.571429</td>\n",
              "      <td>0.000000</td>\n",
              "      <td>0.846154</td>\n",
              "      <td>0.836364</td>\n",
              "      <td>0.984456</td>\n",
              "      <td>0.909091</td>\n",
              "      <td>0.222222</td>\n",
              "      <td>0.285714</td>\n",
              "      <td>0.800000</td>\n",
              "      <td>0.808511</td>\n",
              "      <td>0.972678</td>\n",
              "      <td>1.000000</td>\n",
              "    </tr>\n",
              "    <tr>\n",
              "      <td>600</td>\n",
              "      <td>0.014300</td>\n",
              "      <td>0.119096</td>\n",
              "      <td>0.767167</td>\n",
              "      <td>0.953125</td>\n",
              "      <td>0.571429</td>\n",
              "      <td>0.000000</td>\n",
              "      <td>0.846154</td>\n",
              "      <td>0.814815</td>\n",
              "      <td>0.984456</td>\n",
              "      <td>0.925926</td>\n",
              "      <td>0.545455</td>\n",
              "      <td>0.555556</td>\n",
              "      <td>0.857143</td>\n",
              "      <td>0.818182</td>\n",
              "      <td>0.972376</td>\n",
              "      <td>1.000000</td>\n",
              "    </tr>\n",
              "  </tbody>\n",
              "</table><p>"
            ]
          },
          "metadata": {}
        },
        {
          "output_type": "stream",
          "name": "stderr",
          "text": [
            "/usr/local/lib/python3.10/dist-packages/sklearn/metrics/_classification.py:1344: UndefinedMetricWarning: Precision and F-score are ill-defined and being set to 0.0 in labels with no predicted samples. Use `zero_division` parameter to control this behavior.\n",
            "  _warn_prf(average, modifier, msg_start, len(result))\n"
          ]
        },
        {
          "output_type": "stream",
          "name": "stdout",
          "text": [
            "              precision    recall  f1-score   support\n",
            "\n",
            "           0       0.00      0.00      0.00        64\n",
            "           1       0.00      0.00      0.00         9\n",
            "           2       0.00      0.00      0.00        14\n",
            "           3       0.00      0.00      0.00        24\n",
            "           4       0.00      0.00      0.00        29\n",
            "           5       0.96      0.80      0.88        96\n",
            "           6       0.00      0.00      0.00        50\n",
            "           7       0.00      0.00      0.00         7\n",
            "           8       0.00      0.00      0.00        10\n",
            "           9       0.00      0.00      0.00        17\n",
            "          10       0.00      0.00      0.00        24\n",
            "          11       0.91      0.98      0.94        90\n",
            "          12       1.00      1.00      1.00       112\n",
            "\n",
            "   micro avg       0.96      0.51      0.66       546\n",
            "   macro avg       0.22      0.21      0.22       546\n",
            "weighted avg       0.52      0.51      0.51       546\n",
            " samples avg       0.95      0.58      0.70       546\n",
            "\n"
          ]
        },
        {
          "output_type": "stream",
          "name": "stderr",
          "text": [
            "/usr/local/lib/python3.10/dist-packages/seqeval/metrics/v1.py:57: UndefinedMetricWarning: Precision and F-score are ill-defined and being set to 0.0 in labels with no predicted samples. Use `zero_division` parameter to control this behavior.\n",
            "  _warn_prf(average, modifier, msg_start, len(result))\n",
            "/usr/local/lib/python3.10/dist-packages/sklearn/metrics/_classification.py:1344: UndefinedMetricWarning: Precision and F-score are ill-defined and being set to 0.0 in labels with no predicted samples. Use `zero_division` parameter to control this behavior.\n",
            "  _warn_prf(average, modifier, msg_start, len(result))\n"
          ]
        },
        {
          "output_type": "stream",
          "name": "stdout",
          "text": [
            "              precision    recall  f1-score   support\n",
            "\n",
            "           0       0.90      0.97      0.93        64\n",
            "           1       0.00      0.00      0.00         9\n",
            "           2       0.00      0.00      0.00        14\n",
            "           3       0.67      0.08      0.15        24\n",
            "           4       0.00      0.00      0.00        29\n",
            "           5       0.93      0.99      0.96        96\n",
            "           6       0.84      0.96      0.90        50\n",
            "           7       0.00      0.00      0.00         7\n",
            "           8       0.00      0.00      0.00        10\n",
            "           9       0.00      0.00      0.00        17\n",
            "          10       0.00      0.00      0.00        24\n",
            "          11       0.94      0.99      0.96        90\n",
            "          12       1.00      1.00      1.00       112\n",
            "\n",
            "   micro avg       0.93      0.75      0.83       546\n",
            "   macro avg       0.41      0.38      0.38       546\n",
            "weighted avg       0.74      0.75      0.73       546\n",
            " samples avg       0.93      0.80      0.84       546\n",
            "\n"
          ]
        },
        {
          "output_type": "stream",
          "name": "stderr",
          "text": [
            "/usr/local/lib/python3.10/dist-packages/seqeval/metrics/v1.py:57: UndefinedMetricWarning: Precision and F-score are ill-defined and being set to 0.0 in labels with no predicted samples. Use `zero_division` parameter to control this behavior.\n",
            "  _warn_prf(average, modifier, msg_start, len(result))\n",
            "/usr/local/lib/python3.10/dist-packages/sklearn/metrics/_classification.py:1344: UndefinedMetricWarning: Precision and F-score are ill-defined and being set to 0.0 in labels with no predicted samples. Use `zero_division` parameter to control this behavior.\n",
            "  _warn_prf(average, modifier, msg_start, len(result))\n"
          ]
        },
        {
          "output_type": "stream",
          "name": "stdout",
          "text": [
            "              precision    recall  f1-score   support\n",
            "\n",
            "           0       0.95      0.98      0.97        64\n",
            "           1       0.00      0.00      0.00         9\n",
            "           2       0.00      0.00      0.00        14\n",
            "           3       0.58      0.58      0.58        24\n",
            "           4       1.00      0.07      0.13        29\n",
            "           5       0.96      1.00      0.98        96\n",
            "           6       0.86      0.96      0.91        50\n",
            "           7       0.00      0.00      0.00         7\n",
            "           8       0.00      0.00      0.00        10\n",
            "           9       1.00      0.24      0.38        17\n",
            "          10       0.75      0.25      0.38        24\n",
            "          11       0.94      1.00      0.97        90\n",
            "          12       1.00      1.00      1.00       112\n",
            "\n",
            "   micro avg       0.93      0.80      0.86       546\n",
            "   macro avg       0.62      0.47      0.48       546\n",
            "weighted avg       0.86      0.80      0.79       546\n",
            " samples avg       0.94      0.85      0.88       546\n",
            "\n"
          ]
        },
        {
          "output_type": "stream",
          "name": "stderr",
          "text": [
            "/usr/local/lib/python3.10/dist-packages/seqeval/metrics/v1.py:57: UndefinedMetricWarning: Precision and F-score are ill-defined and being set to 0.0 in labels with no predicted samples. Use `zero_division` parameter to control this behavior.\n",
            "  _warn_prf(average, modifier, msg_start, len(result))\n",
            "/usr/local/lib/python3.10/dist-packages/sklearn/metrics/_classification.py:1344: UndefinedMetricWarning: Precision and F-score are ill-defined and being set to 0.0 in labels with no predicted samples. Use `zero_division` parameter to control this behavior.\n",
            "  _warn_prf(average, modifier, msg_start, len(result))\n"
          ]
        },
        {
          "output_type": "stream",
          "name": "stdout",
          "text": [
            "              precision    recall  f1-score   support\n",
            "\n",
            "           0       0.95      0.97      0.96        64\n",
            "           1       0.00      0.00      0.00         9\n",
            "           2       0.00      0.00      0.00        14\n",
            "           3       0.83      0.62      0.71        24\n",
            "           4       0.72      0.45      0.55        29\n",
            "           5       0.97      1.00      0.98        96\n",
            "           6       0.88      0.98      0.92        50\n",
            "           7       0.00      0.00      0.00         7\n",
            "           8       0.00      0.00      0.00        10\n",
            "           9       1.00      0.53      0.69        17\n",
            "          10       0.79      0.46      0.58        24\n",
            "          11       0.95      1.00      0.97        90\n",
            "          12       1.00      1.00      1.00       112\n",
            "\n",
            "   micro avg       0.94      0.84      0.89       546\n",
            "   macro avg       0.62      0.54      0.57       546\n",
            "weighted avg       0.86      0.84      0.84       546\n",
            " samples avg       0.95      0.88      0.90       546\n",
            "\n"
          ]
        },
        {
          "output_type": "stream",
          "name": "stderr",
          "text": [
            "/usr/local/lib/python3.10/dist-packages/seqeval/metrics/v1.py:57: UndefinedMetricWarning: Precision and F-score are ill-defined and being set to 0.0 in labels with no predicted samples. Use `zero_division` parameter to control this behavior.\n",
            "  _warn_prf(average, modifier, msg_start, len(result))\n",
            "/usr/local/lib/python3.10/dist-packages/sklearn/metrics/_classification.py:1344: UndefinedMetricWarning: Precision and F-score are ill-defined and being set to 0.0 in labels with no predicted samples. Use `zero_division` parameter to control this behavior.\n",
            "  _warn_prf(average, modifier, msg_start, len(result))\n"
          ]
        },
        {
          "output_type": "stream",
          "name": "stdout",
          "text": [
            "              precision    recall  f1-score   support\n",
            "\n",
            "           0       0.95      0.95      0.95        64\n",
            "           1       0.00      0.00      0.00         9\n",
            "           2       0.00      0.00      0.00        14\n",
            "           3       0.76      0.67      0.71        24\n",
            "           4       0.76      0.66      0.70        29\n",
            "           5       0.97      1.00      0.98        96\n",
            "           6       0.89      0.98      0.93        50\n",
            "           7       0.00      0.00      0.00         7\n",
            "           8       0.00      0.00      0.00        10\n",
            "           9       0.92      0.71      0.80        17\n",
            "          10       0.82      0.75      0.78        24\n",
            "          11       0.96      0.99      0.97        90\n",
            "          12       1.00      1.00      1.00       112\n",
            "\n",
            "   micro avg       0.94      0.86      0.90       546\n",
            "   macro avg       0.62      0.59      0.60       546\n",
            "weighted avg       0.87      0.86      0.86       546\n",
            " samples avg       0.95      0.90      0.91       546\n",
            "\n"
          ]
        },
        {
          "output_type": "stream",
          "name": "stderr",
          "text": [
            "/usr/local/lib/python3.10/dist-packages/seqeval/metrics/v1.py:57: UndefinedMetricWarning: Precision and F-score are ill-defined and being set to 0.0 in labels with no predicted samples. Use `zero_division` parameter to control this behavior.\n",
            "  _warn_prf(average, modifier, msg_start, len(result))\n",
            "/usr/local/lib/python3.10/dist-packages/sklearn/metrics/_classification.py:1344: UndefinedMetricWarning: Precision and F-score are ill-defined and being set to 0.0 in labels with no predicted samples. Use `zero_division` parameter to control this behavior.\n",
            "  _warn_prf(average, modifier, msg_start, len(result))\n"
          ]
        },
        {
          "output_type": "stream",
          "name": "stdout",
          "text": [
            "              precision    recall  f1-score   support\n",
            "\n",
            "           0       0.95      0.94      0.94        64\n",
            "           1       0.00      0.00      0.00         9\n",
            "           2       0.00      0.00      0.00        14\n",
            "           3       0.80      0.67      0.73        24\n",
            "           4       0.75      0.62      0.68        29\n",
            "           5       0.98      1.00      0.99        96\n",
            "           6       0.91      0.98      0.94        50\n",
            "           7       0.00      0.00      0.00         7\n",
            "           8       0.00      0.00      0.00        10\n",
            "           9       0.92      0.71      0.80        17\n",
            "          10       0.82      0.75      0.78        24\n",
            "          11       0.96      1.00      0.98        90\n",
            "          12       1.00      1.00      1.00       112\n",
            "\n",
            "   micro avg       0.94      0.86      0.90       546\n",
            "   macro avg       0.62      0.59      0.60       546\n",
            "weighted avg       0.87      0.86      0.86       546\n",
            " samples avg       0.95      0.90      0.91       546\n",
            "\n"
          ]
        },
        {
          "output_type": "stream",
          "name": "stderr",
          "text": [
            "/usr/local/lib/python3.10/dist-packages/seqeval/metrics/v1.py:57: UndefinedMetricWarning: Precision and F-score are ill-defined and being set to 0.0 in labels with no predicted samples. Use `zero_division` parameter to control this behavior.\n",
            "  _warn_prf(average, modifier, msg_start, len(result))\n",
            "/usr/local/lib/python3.10/dist-packages/sklearn/metrics/_classification.py:1344: UndefinedMetricWarning: Precision and F-score are ill-defined and being set to 0.0 in labels with no predicted samples. Use `zero_division` parameter to control this behavior.\n",
            "  _warn_prf(average, modifier, msg_start, len(result))\n"
          ]
        },
        {
          "output_type": "stream",
          "name": "stdout",
          "text": [
            "              precision    recall  f1-score   support\n",
            "\n",
            "           0       0.95      0.94      0.94        64\n",
            "           1       1.00      0.11      0.20         9\n",
            "           2       0.00      0.00      0.00        14\n",
            "           3       0.82      0.75      0.78        24\n",
            "           4       0.80      0.69      0.74        29\n",
            "           5       0.98      1.00      0.99        96\n",
            "           6       0.88      0.98      0.92        50\n",
            "           7       0.00      0.00      0.00         7\n",
            "           8       0.00      0.00      0.00        10\n",
            "           9       0.92      0.71      0.80        17\n",
            "          10       0.82      0.75      0.78        24\n",
            "          11       0.96      1.00      0.98        90\n",
            "          12       1.00      1.00      1.00       112\n",
            "\n",
            "   micro avg       0.94      0.87      0.90       546\n",
            "   macro avg       0.70      0.61      0.63       546\n",
            "weighted avg       0.89      0.87      0.87       546\n",
            " samples avg       0.95      0.91      0.92       546\n",
            "\n"
          ]
        },
        {
          "output_type": "stream",
          "name": "stderr",
          "text": [
            "/usr/local/lib/python3.10/dist-packages/seqeval/metrics/v1.py:57: UndefinedMetricWarning: Precision and F-score are ill-defined and being set to 0.0 in labels with no predicted samples. Use `zero_division` parameter to control this behavior.\n",
            "  _warn_prf(average, modifier, msg_start, len(result))\n",
            "/usr/local/lib/python3.10/dist-packages/sklearn/metrics/_classification.py:1344: UndefinedMetricWarning: Precision and F-score are ill-defined and being set to 0.0 in labels with no predicted samples. Use `zero_division` parameter to control this behavior.\n",
            "  _warn_prf(average, modifier, msg_start, len(result))\n"
          ]
        },
        {
          "output_type": "stream",
          "name": "stdout",
          "text": [
            "              precision    recall  f1-score   support\n",
            "\n",
            "           0       0.92      0.95      0.94        64\n",
            "           1       0.75      0.33      0.46         9\n",
            "           2       0.00      0.00      0.00        14\n",
            "           3       0.77      0.83      0.80        24\n",
            "           4       0.88      0.72      0.79        29\n",
            "           5       0.98      1.00      0.99        96\n",
            "           6       0.86      0.98      0.92        50\n",
            "           7       0.00      0.00      0.00         7\n",
            "           8       0.00      0.00      0.00        10\n",
            "           9       0.87      0.76      0.81        17\n",
            "          10       0.82      0.75      0.78        24\n",
            "          11       0.96      1.00      0.98        90\n",
            "          12       1.00      1.00      1.00       112\n",
            "\n",
            "   micro avg       0.93      0.88      0.91       546\n",
            "   macro avg       0.68      0.64      0.65       546\n",
            "weighted avg       0.88      0.88      0.88       546\n",
            " samples avg       0.94      0.92      0.92       546\n",
            "\n"
          ]
        },
        {
          "output_type": "stream",
          "name": "stderr",
          "text": [
            "/usr/local/lib/python3.10/dist-packages/seqeval/metrics/v1.py:57: UndefinedMetricWarning: Precision and F-score are ill-defined and being set to 0.0 in labels with no predicted samples. Use `zero_division` parameter to control this behavior.\n",
            "  _warn_prf(average, modifier, msg_start, len(result))\n",
            "/usr/local/lib/python3.10/dist-packages/sklearn/metrics/_classification.py:1344: UndefinedMetricWarning: Precision and F-score are ill-defined and being set to 0.0 in labels with no predicted samples. Use `zero_division` parameter to control this behavior.\n",
            "  _warn_prf(average, modifier, msg_start, len(result))\n"
          ]
        },
        {
          "output_type": "stream",
          "name": "stdout",
          "text": [
            "              precision    recall  f1-score   support\n",
            "\n",
            "           0       0.94      0.95      0.95        64\n",
            "           1       0.75      0.33      0.46         9\n",
            "           2       0.00      0.00      0.00        14\n",
            "           3       0.79      0.79      0.79        24\n",
            "           4       0.73      0.76      0.75        29\n",
            "           5       0.98      1.00      0.99        96\n",
            "           6       0.88      0.98      0.92        50\n",
            "           7       0.50      0.14      0.22         7\n",
            "           8       0.00      0.00      0.00        10\n",
            "           9       0.81      0.76      0.79        17\n",
            "          10       0.78      0.75      0.77        24\n",
            "          11       0.96      0.99      0.97        90\n",
            "          12       1.00      1.00      1.00       112\n",
            "\n",
            "   micro avg       0.92      0.88      0.90       546\n",
            "   macro avg       0.70      0.65      0.66       546\n",
            "weighted avg       0.88      0.88      0.88       546\n",
            " samples avg       0.93      0.92      0.91       546\n",
            "\n"
          ]
        },
        {
          "output_type": "stream",
          "name": "stderr",
          "text": [
            "/usr/local/lib/python3.10/dist-packages/seqeval/metrics/v1.py:57: UndefinedMetricWarning: Precision and F-score are ill-defined and being set to 0.0 in labels with no predicted samples. Use `zero_division` parameter to control this behavior.\n",
            "  _warn_prf(average, modifier, msg_start, len(result))\n",
            "/usr/local/lib/python3.10/dist-packages/sklearn/metrics/_classification.py:1344: UndefinedMetricWarning: Precision and F-score are ill-defined and being set to 0.0 in labels with no predicted samples. Use `zero_division` parameter to control this behavior.\n",
            "  _warn_prf(average, modifier, msg_start, len(result))\n"
          ]
        },
        {
          "output_type": "stream",
          "name": "stdout",
          "text": [
            "              precision    recall  f1-score   support\n",
            "\n",
            "           0       0.94      0.95      0.95        64\n",
            "           1       0.80      0.44      0.57         9\n",
            "           2       0.00      0.00      0.00        14\n",
            "           3       0.81      0.88      0.84        24\n",
            "           4       0.87      0.69      0.77        29\n",
            "           5       0.98      0.99      0.98        96\n",
            "           6       0.85      1.00      0.92        50\n",
            "           7       0.50      0.14      0.22         7\n",
            "           8       0.33      0.20      0.25        10\n",
            "           9       0.76      0.76      0.76        17\n",
            "          10       0.86      0.75      0.80        24\n",
            "          11       0.96      0.99      0.97        90\n",
            "          12       1.00      1.00      1.00       112\n",
            "\n",
            "   micro avg       0.92      0.89      0.91       546\n",
            "   macro avg       0.74      0.68      0.70       546\n",
            "weighted avg       0.89      0.89      0.89       546\n",
            " samples avg       0.93      0.92      0.92       546\n",
            "\n"
          ]
        },
        {
          "output_type": "stream",
          "name": "stderr",
          "text": [
            "/usr/local/lib/python3.10/dist-packages/sklearn/metrics/_classification.py:1344: UndefinedMetricWarning: Precision and F-score are ill-defined and being set to 0.0 in labels with no predicted samples. Use `zero_division` parameter to control this behavior.\n",
            "  _warn_prf(average, modifier, msg_start, len(result))\n"
          ]
        },
        {
          "output_type": "stream",
          "name": "stdout",
          "text": [
            "              precision    recall  f1-score   support\n",
            "\n",
            "           0       0.94      0.95      0.95        64\n",
            "           1       0.80      0.44      0.57         9\n",
            "           2       0.00      0.00      0.00        14\n",
            "           3       0.79      0.92      0.85        24\n",
            "           4       0.88      0.79      0.84        29\n",
            "           5       0.98      0.99      0.98        96\n",
            "           6       0.83      1.00      0.91        50\n",
            "           7       0.50      0.14      0.22         7\n",
            "           8       0.50      0.20      0.29        10\n",
            "           9       0.78      0.82      0.80        17\n",
            "          10       0.83      0.79      0.81        24\n",
            "          11       0.96      0.99      0.97        90\n",
            "          12       1.00      1.00      1.00       112\n",
            "\n",
            "   micro avg       0.92      0.90      0.91       546\n",
            "   macro avg       0.75      0.70      0.71       546\n",
            "weighted avg       0.89      0.90      0.89       546\n",
            " samples avg       0.94      0.92      0.92       546\n",
            "\n"
          ]
        },
        {
          "output_type": "stream",
          "name": "stderr",
          "text": [
            "/usr/local/lib/python3.10/dist-packages/sklearn/metrics/_classification.py:1344: UndefinedMetricWarning: Precision and F-score are ill-defined and being set to 0.0 in labels with no predicted samples. Use `zero_division` parameter to control this behavior.\n",
            "  _warn_prf(average, modifier, msg_start, len(result))\n"
          ]
        },
        {
          "output_type": "stream",
          "name": "stdout",
          "text": [
            "              precision    recall  f1-score   support\n",
            "\n",
            "           0       0.95      0.95      0.95        64\n",
            "           1       0.80      0.44      0.57         9\n",
            "           2       0.00      0.00      0.00        14\n",
            "           3       0.79      0.92      0.85        24\n",
            "           4       0.88      0.76      0.81        29\n",
            "           5       0.98      0.99      0.98        96\n",
            "           6       0.86      1.00      0.93        50\n",
            "           7       0.75      0.43      0.55         7\n",
            "           8       0.62      0.50      0.56        10\n",
            "           9       0.83      0.88      0.86        17\n",
            "          10       0.90      0.75      0.82        24\n",
            "          11       0.97      0.98      0.97        90\n",
            "          12       1.00      1.00      1.00       112\n",
            "\n",
            "   micro avg       0.93      0.91      0.92       546\n",
            "   macro avg       0.80      0.74      0.76       546\n",
            "weighted avg       0.91      0.91      0.90       546\n",
            " samples avg       0.94      0.93      0.93       546\n",
            "\n"
          ]
        },
        {
          "output_type": "execute_result",
          "data": {
            "text/plain": [
              "TrainOutput(global_step=600, training_loss=0.1118725722314169, metrics={'train_runtime': 518.0943, 'train_samples_per_second': 17.294, 'train_steps_per_second': 2.162, 'total_flos': 1254349165363200.0, 'train_loss': 0.1118725722314169, 'epoch': 10.714285714285714})"
            ]
          },
          "metadata": {},
          "execution_count": 77
        }
      ],
      "source": [
        "from transformers import Trainer\n",
        "\n",
        "trainer = Trainer(\n",
        "    model=model,\n",
        "    args=args,\n",
        "    train_dataset=final_dataset[\"train\"],\n",
        "    eval_dataset=final_dataset[\"validation\"],\n",
        "    data_collator=data_collator,\n",
        "    compute_metrics=compute_metrics,\n",
        "    tokenizer=tokenizer,\n",
        "    callbacks = [EarlyStoppingCallback(early_stopping_patience=2)]\n",
        ")\n",
        "trainer.train()"
      ]
    },
    {
      "cell_type": "code",
      "execution_count": null,
      "id": "016125b0",
      "metadata": {
        "id": "016125b0"
      },
      "outputs": [],
      "source": [
        "loss = []\n",
        "learning_rate = []\n",
        "epoch = []\n",
        "val_loss = []\n",
        "history = trainer.state.log_history\n",
        "f1 = []\n",
        "for step in history:\n",
        "  if 'learning_rate' in step.keys() and step['step'] % 50 == 0:\n",
        "    epoch.append(step['epoch'])\n",
        "    learning_rate.append(step['learning_rate'])\n",
        "    loss.append(step['loss'])\n",
        "  elif 'eval_loss' in step.keys() and step['step'] % 50 == 0:\n",
        "    val_loss.append(step['eval_loss'])\n",
        "    f1.append(step['eval_f1'])\n",
        "  else:\n",
        "    continue"
      ]
    },
    {
      "cell_type": "code",
      "source": [
        "import matplotlib.pyplot as plt\n",
        "\n",
        "plt.plot(epoch,loss,label='loss')\n",
        "plt.plot(epoch,val_loss,label='val loss')\n",
        "#plt.plot(epoch,list(map(lambda x: x/val_loss[0],learning_rate)),label='learning rate')\n",
        "plt.plot(epoch,f1,label='F1')\n",
        "plt.legend(loc='center right')\n",
        "plt.title('Training History of BioBERT')\n",
        "plt.xlabel('Epoch')"
      ],
      "metadata": {
        "id": "jcaIAPGWWikj",
        "colab": {
          "base_uri": "https://localhost:8080/",
          "height": 489
        },
        "outputId": "4d101939-df37-4da4-815e-ea3ab709c6f4"
      },
      "id": "jcaIAPGWWikj",
      "execution_count": null,
      "outputs": [
        {
          "output_type": "execute_result",
          "data": {
            "text/plain": [
              "Text(0.5, 0, 'Epoch')"
            ]
          },
          "metadata": {},
          "execution_count": 79
        },
        {
          "output_type": "display_data",
          "data": {
            "text/plain": [
              "<Figure size 640x480 with 1 Axes>"
            ],
            "image/png": "[encoded data removed]"
          },
          "metadata": {}
        }
      ]
    },
    {
      "cell_type": "code",
      "execution_count": null,
      "id": "b6af4e8a",
      "metadata": {
        "id": "b6af4e8a"
      },
      "outputs": [],
      "source": [
        "# trainer.save_model('model_biobert_20240406')"
      ]
    },
    {
      "cell_type": "code",
      "source": [
        "# !zip -r /content/file.zip /content/model_biobert_20240406/"
      ],
      "metadata": {
        "id": "H8mNy0qK8Zay",
        "colab": {
          "base_uri": "https://localhost:8080/"
        },
        "outputId": "2a4c3fc4-d9e6-4068-ff3c-0a9c466c5aec"
      },
      "id": "H8mNy0qK8Zay",
      "execution_count": null,
      "outputs": [
        {
          "output_type": "stream",
          "name": "stdout",
          "text": [
            "  adding: content/model_biobert_20240406/ (stored 0%)\n",
            "  adding: content/model_biobert_20240406/config.json (deflated 53%)\n",
            "  adding: content/model_biobert_20240406/training_args.bin (deflated 51%)\n",
            "  adding: content/model_biobert_20240406/tokenizer.json (deflated 70%)\n",
            "  adding: content/model_biobert_20240406/special_tokens_map.json (deflated 42%)\n",
            "  adding: content/model_biobert_20240406/vocab.txt (deflated 49%)\n",
            "  adding: content/model_biobert_20240406/model.safetensors (deflated 7%)\n",
            "  adding: content/model_biobert_20240406/tokenizer_config.json (deflated 75%)\n"
          ]
        }
      ]
    },
    {
      "cell_type": "code",
      "source": [
        "# from google.colab import files\n",
        "# files.download(\"/content/file.zip\")"
      ],
      "metadata": {
        "id": "T0ZMSsy1-ylH",
        "colab": {
          "base_uri": "https://localhost:8080/",
          "height": 34
        },
        "outputId": "cd8fecec-4290-4f41-f13b-1bc83171c6ac"
      },
      "id": "T0ZMSsy1-ylH",
      "execution_count": null,
      "outputs": [
        {
          "output_type": "display_data",
          "data": {
            "text/plain": [
              "<IPython.core.display.Javascript object>"
            ],
            "application/javascript": [
              "\n",
              "    async function download(id, filename, size) {\n",
              "      if (!google.colab.kernel.accessAllowed) {\n",
              "        return;\n",
              "      }\n",
              "      const div = document.createElement('div');\n",
              "      const label = document.createElement('label');\n",
              "      label.textContent = `Downloading \"${filename}\": `;\n",
              "      div.appendChild(label);\n",
              "      const progress = document.createElement('progress');\n",
              "      progress.max = size;\n",
              "      div.appendChild(progress);\n",
              "      document.body.appendChild(div);\n",
              "\n",
              "      const buffers = [];\n",
              "      let downloaded = 0;\n",
              "\n",
              "      const channel = await google.colab.kernel.comms.open(id);\n",
              "      // Send a message to notify the kernel that we're ready.\n",
              "      channel.send({})\n",
              "\n",
              "      for await (const message of channel.messages) {\n",
              "        // Send a message to notify the kernel that we're ready.\n",
              "        channel.send({})\n",
              "        if (message.buffers) {\n",
              "          for (const buffer of message.buffers) {\n",
              "            buffers.push(buffer);\n",
              "            downloaded += buffer.byteLength;\n",
              "            progress.value = downloaded;\n",
              "          }\n",
              "        }\n",
              "      }\n",
              "      const blob = new Blob(buffers, {type: 'application/binary'});\n",
              "      const a = document.createElement('a');\n",
              "      a.href = window.URL.createObjectURL(blob);\n",
              "      a.download = filename;\n",
              "      div.appendChild(a);\n",
              "      a.click();\n",
              "      div.remove();\n",
              "    }\n",
              "  "
            ]
          },
          "metadata": {}
        },
        {
          "output_type": "display_data",
          "data": {
            "text/plain": [
              "<IPython.core.display.Javascript object>"
            ],
            "application/javascript": [
              "download(\"download_2583d488-bd98-468e-ac37-c6b008a091f5\", \"file.zip\", 399355471)"
            ]
          },
          "metadata": {}
        }
      ]
    },
    {
      "cell_type": "code",
      "source": [
        "trainer.evaluate(final_dataset['test'])"
      ],
      "metadata": {
        "colab": {
          "base_uri": "https://localhost:8080/",
          "height": 765
        },
        "id": "AhiE4R048H7S",
        "outputId": "55065c98-edff-4d0e-b4a0-18912c97f13d"
      },
      "execution_count": null,
      "outputs": [
        {
          "output_type": "display_data",
          "data": {
            "text/plain": [
              "<IPython.core.display.HTML object>"
            ],
            "text/html": [
              "\n",
              "    <div>\n",
              "      \n",
              "      <progress value='122' max='122' style='width:300px; height:20px; vertical-align: middle;'></progress>\n",
              "      [122/122 00:30]\n",
              "    </div>\n",
              "    "
            ]
          },
          "metadata": {}
        },
        {
          "output_type": "stream",
          "name": "stderr",
          "text": [
            "/usr/local/lib/python3.10/dist-packages/sklearn/metrics/_classification.py:1344: UndefinedMetricWarning: Precision and F-score are ill-defined and being set to 0.0 in labels with no predicted samples. Use `zero_division` parameter to control this behavior.\n",
            "  _warn_prf(average, modifier, msg_start, len(result))\n"
          ]
        },
        {
          "output_type": "stream",
          "name": "stdout",
          "text": [
            "              precision    recall  f1-score   support\n",
            "\n",
            "           0       0.96      0.95      0.95       595\n",
            "           1       0.63      0.50      0.56        66\n",
            "           2       0.00      0.00      0.00        96\n",
            "           3       0.75      0.78      0.76       177\n",
            "           4       0.84      0.71      0.77       318\n",
            "           5       0.98      0.99      0.98       836\n",
            "           6       0.91      0.93      0.92       468\n",
            "           7       0.67      0.39      0.49        46\n",
            "           8       0.50      0.15      0.23        62\n",
            "           9       0.70      0.66      0.68        90\n",
            "          10       0.85      0.75      0.79       254\n",
            "          11       0.98      0.99      0.98       824\n",
            "          12       1.00      1.00      1.00       974\n",
            "\n",
            "   micro avg       0.94      0.89      0.91      4806\n",
            "   macro avg       0.75      0.68      0.70      4806\n",
            "weighted avg       0.91      0.89      0.90      4806\n",
            " samples avg       0.94      0.91      0.92      4806\n",
            "\n"
          ]
        },
        {
          "output_type": "execute_result",
          "data": {
            "text/plain": [
              "{'eval_loss': 0.12445493787527084,\n",
              " 'eval_f1': 0.7726477523389366,\n",
              " 'eval_f1_O': 0.9510135135135136,\n",
              " 'eval_f1_B_absent': 0.559322033898305,\n",
              " 'eval_f1_B_present': 0.0,\n",
              " 'eval_f1_I_absent': 0.7645429362880886,\n",
              " 'eval_f1_I_present': 0.7707979626485568,\n",
              " 'eval_f1_B_hypothetical': 0.9838805970149254,\n",
              " 'eval_f1_B_possible': 0.9199999999999999,\n",
              " 'eval_f1_I_possible': 0.4931506849315068,\n",
              " 'eval_f1_I_hypothetical': 0.22500000000000003,\n",
              " 'eval_f1_B_conditional': 0.6781609195402298,\n",
              " 'eval_f1_I_conditional': 0.7949790794979079,\n",
              " 'eval_f1_B_associated_with_someone_else': 0.9836858006042295,\n",
              " 'eval_f1_I_associated_with_someone_else': 1.0,\n",
              " 'eval_runtime': 36.5129,\n",
              " 'eval_samples_per_second': 26.676,\n",
              " 'eval_steps_per_second': 3.341,\n",
              " 'epoch': 10.714285714285714}"
            ]
          },
          "metadata": {},
          "execution_count": 80
        }
      ],
      "id": "AhiE4R048H7S"
    }
  ],
  "metadata": {
    "kernelspec": {
      "display_name": "nlp_env2",
      "language": "python",
      "name": "nlp_env2"
    },
    "language_info": {
      "codemirror_mode": {
        "name": "ipython",
        "version": 3
      },
      "file_extension": ".py",
      "mimetype": "text/x-python",
      "name": "python",
      "nbconvert_exporter": "python",
      "pygments_lexer": "ipython3",
      "version": "3.10.8"
    },
    "colab": {
      "provenance": [],
      "gpuType": "T4"
    },
    "accelerator": "GPU",
    "widgets": {
      "application/vnd.jupyter.widget-state+json": {
        "6a83138206ea449b9773993881639757": {
          "model_module": "@jupyter-widgets/controls",
          "model_name": "HBoxModel",
          "model_module_version": "1.5.0",
          "state": {
            "_dom_classes": [],
            "_model_module": "@jupyter-widgets/controls",
            "_model_module_version": "1.5.0",
            "_model_name": "HBoxModel",
            "_view_count": null,
            "_view_module": "@jupyter-widgets/controls",
            "_view_module_version": "1.5.0",
            "_view_name": "HBoxView",
            "box_style": "",
            "children": [
              "IPY_MODEL_b878cb60886944d1be2c723efc40e519",
              "IPY_MODEL_5f991a979fd04123aaa5fe1279e1ca4c",
              "IPY_MODEL_bed00c9ae38c4e1eba678b4422593a05"
            ],
            "layout": "IPY_MODEL_c62eac9419ac465f992fced45cfacd5d"
          }
        },
        "b878cb60886944d1be2c723efc40e519": {
          "model_module": "@jupyter-widgets/controls",
          "model_name": "HTMLModel",
          "model_module_version": "1.5.0",
          "state": {
            "_dom_classes": [],
            "_model_module": "@jupyter-widgets/controls",
            "_model_module_version": "1.5.0",
            "_model_name": "HTMLModel",
            "_view_count": null,
            "_view_module": "@jupyter-widgets/controls",
            "_view_module_version": "1.5.0",
            "_view_name": "HTMLView",
            "description": "",
            "description_tooltip": null,
            "layout": "IPY_MODEL_cd37daa877924b48a872863b6d06a2e1",
            "placeholder": "​",
            "style": "IPY_MODEL_ca6f5c9d8c3940f78af9e988d297889c",
            "value": "Casting the dataset: 100%"
          }
        },
        "5f991a979fd04123aaa5fe1279e1ca4c": {
          "model_module": "@jupyter-widgets/controls",
          "model_name": "FloatProgressModel",
          "model_module_version": "1.5.0",
          "state": {
            "_dom_classes": [],
            "_model_module": "@jupyter-widgets/controls",
            "_model_module_version": "1.5.0",
            "_model_name": "FloatProgressModel",
            "_view_count": null,
            "_view_module": "@jupyter-widgets/controls",
            "_view_module_version": "1.5.0",
            "_view_name": "ProgressView",
            "bar_style": "success",
            "description": "",
            "description_tooltip": null,
            "layout": "IPY_MODEL_da436eee8bd84f7cb4295d69ff23da44",
            "max": 170,
            "min": 0,
            "orientation": "horizontal",
            "style": "IPY_MODEL_0b2e5e2c998f4fffb89f983db191a25b",
            "value": 170
          }
        },
        "bed00c9ae38c4e1eba678b4422593a05": {
          "model_module": "@jupyter-widgets/controls",
          "model_name": "HTMLModel",
          "model_module_version": "1.5.0",
          "state": {
            "_dom_classes": [],
            "_model_module": "@jupyter-widgets/controls",
            "_model_module_version": "1.5.0",
            "_model_name": "HTMLModel",
            "_view_count": null,
            "_view_module": "@jupyter-widgets/controls",
            "_view_module_version": "1.5.0",
            "_view_name": "HTMLView",
            "description": "",
            "description_tooltip": null,
            "layout": "IPY_MODEL_6e527002459f4948b31e46d3d488de03",
            "placeholder": "​",
            "style": "IPY_MODEL_840121208c2c4636853fe186300fb7da",
            "value": " 170/170 [00:00&lt;00:00, 867.94 examples/s]"
          }
        },
        "c62eac9419ac465f992fced45cfacd5d": {
          "model_module": "@jupyter-widgets/base",
          "model_name": "LayoutModel",
          "model_module_version": "1.2.0",
          "state": {
            "_model_module": "@jupyter-widgets/base",
            "_model_module_version": "1.2.0",
            "_model_name": "LayoutModel",
            "_view_count": null,
            "_view_module": "@jupyter-widgets/base",
            "_view_module_version": "1.2.0",
            "_view_name": "LayoutView",
            "align_content": null,
            "align_items": null,
            "align_self": null,
            "border": null,
            "bottom": null,
            "display": null,
            "flex": null,
            "flex_flow": null,
            "grid_area": null,
            "grid_auto_columns": null,
            "grid_auto_flow": null,
            "grid_auto_rows": null,
            "grid_column": null,
            "grid_gap": null,
            "grid_row": null,
            "grid_template_areas": null,
            "grid_template_columns": null,
            "grid_template_rows": null,
            "height": null,
            "justify_content": null,
            "justify_items": null,
            "left": null,
            "margin": null,
            "max_height": null,
            "max_width": null,
            "min_height": null,
            "min_width": null,
            "object_fit": null,
            "object_position": null,
            "order": null,
            "overflow": null,
            "overflow_x": null,
            "overflow_y": null,
            "padding": null,
            "right": null,
            "top": null,
            "visibility": null,
            "width": null
          }
        },
        "cd37daa877924b48a872863b6d06a2e1": {
          "model_module": "@jupyter-widgets/base",
          "model_name": "LayoutModel",
          "model_module_version": "1.2.0",
          "state": {
            "_model_module": "@jupyter-widgets/base",
            "_model_module_version": "1.2.0",
            "_model_name": "LayoutModel",
            "_view_count": null,
            "_view_module": "@jupyter-widgets/base",
            "_view_module_version": "1.2.0",
            "_view_name": "LayoutView",
            "align_content": null,
            "align_items": null,
            "align_self": null,
            "border": null,
            "bottom": null,
            "display": null,
            "flex": null,
            "flex_flow": null,
            "grid_area": null,
            "grid_auto_columns": null,
            "grid_auto_flow": null,
            "grid_auto_rows": null,
            "grid_column": null,
            "grid_gap": null,
            "grid_row": null,
            "grid_template_areas": null,
            "grid_template_columns": null,
            "grid_template_rows": null,
            "height": null,
            "justify_content": null,
            "justify_items": null,
            "left": null,
            "margin": null,
            "max_height": null,
            "max_width": null,
            "min_height": null,
            "min_width": null,
            "object_fit": null,
            "object_position": null,
            "order": null,
            "overflow": null,
            "overflow_x": null,
            "overflow_y": null,
            "padding": null,
            "right": null,
            "top": null,
            "visibility": null,
            "width": null
          }
        },
        "ca6f5c9d8c3940f78af9e988d297889c": {
          "model_module": "@jupyter-widgets/controls",
          "model_name": "DescriptionStyleModel",
          "model_module_version": "1.5.0",
          "state": {
            "_model_module": "@jupyter-widgets/controls",
            "_model_module_version": "1.5.0",
            "_model_name": "DescriptionStyleModel",
            "_view_count": null,
            "_view_module": "@jupyter-widgets/base",
            "_view_module_version": "1.2.0",
            "_view_name": "StyleView",
            "description_width": ""
          }
        },
        "da436eee8bd84f7cb4295d69ff23da44": {
          "model_module": "@jupyter-widgets/base",
          "model_name": "LayoutModel",
          "model_module_version": "1.2.0",
          "state": {
            "_model_module": "@jupyter-widgets/base",
            "_model_module_version": "1.2.0",
            "_model_name": "LayoutModel",
            "_view_count": null,
            "_view_module": "@jupyter-widgets/base",
            "_view_module_version": "1.2.0",
            "_view_name": "LayoutView",
            "align_content": null,
            "align_items": null,
            "align_self": null,
            "border": null,
            "bottom": null,
            "display": null,
            "flex": null,
            "flex_flow": null,
            "grid_area": null,
            "grid_auto_columns": null,
            "grid_auto_flow": null,
            "grid_auto_rows": null,
            "grid_column": null,
            "grid_gap": null,
            "grid_row": null,
            "grid_template_areas": null,
            "grid_template_columns": null,
            "grid_template_rows": null,
            "height": null,
            "justify_content": null,
            "justify_items": null,
            "left": null,
            "margin": null,
            "max_height": null,
            "max_width": null,
            "min_height": null,
            "min_width": null,
            "object_fit": null,
            "object_position": null,
            "order": null,
            "overflow": null,
            "overflow_x": null,
            "overflow_y": null,
            "padding": null,
            "right": null,
            "top": null,
            "visibility": null,
            "width": null
          }
        },
        "0b2e5e2c998f4fffb89f983db191a25b": {
          "model_module": "@jupyter-widgets/controls",
          "model_name": "ProgressStyleModel",
          "model_module_version": "1.5.0",
          "state": {
            "_model_module": "@jupyter-widgets/controls",
            "_model_module_version": "1.5.0",
            "_model_name": "ProgressStyleModel",
            "_view_count": null,
            "_view_module": "@jupyter-widgets/base",
            "_view_module_version": "1.2.0",
            "_view_name": "StyleView",
            "bar_color": null,
            "description_width": ""
          }
        },
        "6e527002459f4948b31e46d3d488de03": {
          "model_module": "@jupyter-widgets/base",
          "model_name": "LayoutModel",
          "model_module_version": "1.2.0",
          "state": {
            "_model_module": "@jupyter-widgets/base",
            "_model_module_version": "1.2.0",
            "_model_name": "LayoutModel",
            "_view_count": null,
            "_view_module": "@jupyter-widgets/base",
            "_view_module_version": "1.2.0",
            "_view_name": "LayoutView",
            "align_content": null,
            "align_items": null,
            "align_self": null,
            "border": null,
            "bottom": null,
            "display": null,
            "flex": null,
            "flex_flow": null,
            "grid_area": null,
            "grid_auto_columns": null,
            "grid_auto_flow": null,
            "grid_auto_rows": null,
            "grid_column": null,
            "grid_gap": null,
            "grid_row": null,
            "grid_template_areas": null,
            "grid_template_columns": null,
            "grid_template_rows": null,
            "height": null,
            "justify_content": null,
            "justify_items": null,
            "left": null,
            "margin": null,
            "max_height": null,
            "max_width": null,
            "min_height": null,
            "min_width": null,
            "object_fit": null,
            "object_position": null,
            "order": null,
            "overflow": null,
            "overflow_x": null,
            "overflow_y": null,
            "padding": null,
            "right": null,
            "top": null,
            "visibility": null,
            "width": null
          }
        },
        "840121208c2c4636853fe186300fb7da": {
          "model_module": "@jupyter-widgets/controls",
          "model_name": "DescriptionStyleModel",
          "model_module_version": "1.5.0",
          "state": {
            "_model_module": "@jupyter-widgets/controls",
            "_model_module_version": "1.5.0",
            "_model_name": "DescriptionStyleModel",
            "_view_count": null,
            "_view_module": "@jupyter-widgets/base",
            "_view_module_version": "1.2.0",
            "_view_name": "StyleView",
            "description_width": ""
          }
        },
        "12a8ced491ed4433a9cb57db408e5203": {
          "model_module": "@jupyter-widgets/controls",
          "model_name": "HBoxModel",
          "model_module_version": "1.5.0",
          "state": {
            "_dom_classes": [],
            "_model_module": "@jupyter-widgets/controls",
            "_model_module_version": "1.5.0",
            "_model_name": "HBoxModel",
            "_view_count": null,
            "_view_module": "@jupyter-widgets/controls",
            "_view_module_version": "1.5.0",
            "_view_name": "HBoxView",
            "box_style": "",
            "children": [
              "IPY_MODEL_61e24d6bb7aa45018d7cb78821bfed51",
              "IPY_MODEL_57b53000604a4cd898f7cd5ecb2776a4",
              "IPY_MODEL_74a12675b32042bf83683219e102f7dc"
            ],
            "layout": "IPY_MODEL_9033b7ad6d394343bd0943a628d0f812"
          }
        },
        "61e24d6bb7aa45018d7cb78821bfed51": {
          "model_module": "@jupyter-widgets/controls",
          "model_name": "HTMLModel",
          "model_module_version": "1.5.0",
          "state": {
            "_dom_classes": [],
            "_model_module": "@jupyter-widgets/controls",
            "_model_module_version": "1.5.0",
            "_model_name": "HTMLModel",
            "_view_count": null,
            "_view_module": "@jupyter-widgets/controls",
            "_view_module_version": "1.5.0",
            "_view_name": "HTMLView",
            "description": "",
            "description_tooltip": null,
            "layout": "IPY_MODEL_9c16918e01874931a1779e2c4df43cfc",
            "placeholder": "​",
            "style": "IPY_MODEL_1f727944ff394c3392cd470a13198ef3",
            "value": "Casting the dataset: 100%"
          }
        },
        "57b53000604a4cd898f7cd5ecb2776a4": {
          "model_module": "@jupyter-widgets/controls",
          "model_name": "FloatProgressModel",
          "model_module_version": "1.5.0",
          "state": {
            "_dom_classes": [],
            "_model_module": "@jupyter-widgets/controls",
            "_model_module_version": "1.5.0",
            "_model_name": "FloatProgressModel",
            "_view_count": null,
            "_view_module": "@jupyter-widgets/controls",
            "_view_module_version": "1.5.0",
            "_view_name": "ProgressView",
            "bar_style": "success",
            "description": "",
            "description_tooltip": null,
            "layout": "IPY_MODEL_f4e7016caa9d4a07bc09bf90e75104cb",
            "max": 256,
            "min": 0,
            "orientation": "horizontal",
            "style": "IPY_MODEL_5ee326be512741a1a0cb4d3d7b126aa4",
            "value": 256
          }
        },
        "74a12675b32042bf83683219e102f7dc": {
          "model_module": "@jupyter-widgets/controls",
          "model_name": "HTMLModel",
          "model_module_version": "1.5.0",
          "state": {
            "_dom_classes": [],
            "_model_module": "@jupyter-widgets/controls",
            "_model_module_version": "1.5.0",
            "_model_name": "HTMLModel",
            "_view_count": null,
            "_view_module": "@jupyter-widgets/controls",
            "_view_module_version": "1.5.0",
            "_view_name": "HTMLView",
            "description": "",
            "description_tooltip": null,
            "layout": "IPY_MODEL_ea94192dfd644ef68839343de2674b61",
            "placeholder": "​",
            "style": "IPY_MODEL_35933fed2efc4f9e8846946919732176",
            "value": " 256/256 [00:00&lt;00:00, 780.61 examples/s]"
          }
        },
        "9033b7ad6d394343bd0943a628d0f812": {
          "model_module": "@jupyter-widgets/base",
          "model_name": "LayoutModel",
          "model_module_version": "1.2.0",
          "state": {
            "_model_module": "@jupyter-widgets/base",
            "_model_module_version": "1.2.0",
            "_model_name": "LayoutModel",
            "_view_count": null,
            "_view_module": "@jupyter-widgets/base",
            "_view_module_version": "1.2.0",
            "_view_name": "LayoutView",
            "align_content": null,
            "align_items": null,
            "align_self": null,
            "border": null,
            "bottom": null,
            "display": null,
            "flex": null,
            "flex_flow": null,
            "grid_area": null,
            "grid_auto_columns": null,
            "grid_auto_flow": null,
            "grid_auto_rows": null,
            "grid_column": null,
            "grid_gap": null,
            "grid_row": null,
            "grid_template_areas": null,
            "grid_template_columns": null,
            "grid_template_rows": null,
            "height": null,
            "justify_content": null,
            "justify_items": null,
            "left": null,
            "margin": null,
            "max_height": null,
            "max_width": null,
            "min_height": null,
            "min_width": null,
            "object_fit": null,
            "object_position": null,
            "order": null,
            "overflow": null,
            "overflow_x": null,
            "overflow_y": null,
            "padding": null,
            "right": null,
            "top": null,
            "visibility": null,
            "width": null
          }
        },
        "9c16918e01874931a1779e2c4df43cfc": {
          "model_module": "@jupyter-widgets/base",
          "model_name": "LayoutModel",
          "model_module_version": "1.2.0",
          "state": {
            "_model_module": "@jupyter-widgets/base",
            "_model_module_version": "1.2.0",
            "_model_name": "LayoutModel",
            "_view_count": null,
            "_view_module": "@jupyter-widgets/base",
            "_view_module_version": "1.2.0",
            "_view_name": "LayoutView",
            "align_content": null,
            "align_items": null,
            "align_self": null,
            "border": null,
            "bottom": null,
            "display": null,
            "flex": null,
            "flex_flow": null,
            "grid_area": null,
            "grid_auto_columns": null,
            "grid_auto_flow": null,
            "grid_auto_rows": null,
            "grid_column": null,
            "grid_gap": null,
            "grid_row": null,
            "grid_template_areas": null,
            "grid_template_columns": null,
            "grid_template_rows": null,
            "height": null,
            "justify_content": null,
            "justify_items": null,
            "left": null,
            "margin": null,
            "max_height": null,
            "max_width": null,
            "min_height": null,
            "min_width": null,
            "object_fit": null,
            "object_position": null,
            "order": null,
            "overflow": null,
            "overflow_x": null,
            "overflow_y": null,
            "padding": null,
            "right": null,
            "top": null,
            "visibility": null,
            "width": null
          }
        },
        "1f727944ff394c3392cd470a13198ef3": {
          "model_module": "@jupyter-widgets/controls",
          "model_name": "DescriptionStyleModel",
          "model_module_version": "1.5.0",
          "state": {
            "_model_module": "@jupyter-widgets/controls",
            "_model_module_version": "1.5.0",
            "_model_name": "DescriptionStyleModel",
            "_view_count": null,
            "_view_module": "@jupyter-widgets/base",
            "_view_module_version": "1.2.0",
            "_view_name": "StyleView",
            "description_width": ""
          }
        },
        "f4e7016caa9d4a07bc09bf90e75104cb": {
          "model_module": "@jupyter-widgets/base",
          "model_name": "LayoutModel",
          "model_module_version": "1.2.0",
          "state": {
            "_model_module": "@jupyter-widgets/base",
            "_model_module_version": "1.2.0",
            "_model_name": "LayoutModel",
            "_view_count": null,
            "_view_module": "@jupyter-widgets/base",
            "_view_module_version": "1.2.0",
            "_view_name": "LayoutView",
            "align_content": null,
            "align_items": null,
            "align_self": null,
            "border": null,
            "bottom": null,
            "display": null,
            "flex": null,
            "flex_flow": null,
            "grid_area": null,
            "grid_auto_columns": null,
            "grid_auto_flow": null,
            "grid_auto_rows": null,
            "grid_column": null,
            "grid_gap": null,
            "grid_row": null,
            "grid_template_areas": null,
            "grid_template_columns": null,
            "grid_template_rows": null,
            "height": null,
            "justify_content": null,
            "justify_items": null,
            "left": null,
            "margin": null,
            "max_height": null,
            "max_width": null,
            "min_height": null,
            "min_width": null,
            "object_fit": null,
            "object_position": null,
            "order": null,
            "overflow": null,
            "overflow_x": null,
            "overflow_y": null,
            "padding": null,
            "right": null,
            "top": null,
            "visibility": null,
            "width": null
          }
        },
        "5ee326be512741a1a0cb4d3d7b126aa4": {
          "model_module": "@jupyter-widgets/controls",
          "model_name": "ProgressStyleModel",
          "model_module_version": "1.5.0",
          "state": {
            "_model_module": "@jupyter-widgets/controls",
            "_model_module_version": "1.5.0",
            "_model_name": "ProgressStyleModel",
            "_view_count": null,
            "_view_module": "@jupyter-widgets/base",
            "_view_module_version": "1.2.0",
            "_view_name": "StyleView",
            "bar_color": null,
            "description_width": ""
          }
        },
        "ea94192dfd644ef68839343de2674b61": {
          "model_module": "@jupyter-widgets/base",
          "model_name": "LayoutModel",
          "model_module_version": "1.2.0",
          "state": {
            "_model_module": "@jupyter-widgets/base",
            "_model_module_version": "1.2.0",
            "_model_name": "LayoutModel",
            "_view_count": null,
            "_view_module": "@jupyter-widgets/base",
            "_view_module_version": "1.2.0",
            "_view_name": "LayoutView",
            "align_content": null,
            "align_items": null,
            "align_self": null,
            "border": null,
            "bottom": null,
            "display": null,
            "flex": null,
            "flex_flow": null,
            "grid_area": null,
            "grid_auto_columns": null,
            "grid_auto_flow": null,
            "grid_auto_rows": null,
            "grid_column": null,
            "grid_gap": null,
            "grid_row": null,
            "grid_template_areas": null,
            "grid_template_columns": null,
            "grid_template_rows": null,
            "height": null,
            "justify_content": null,
            "justify_items": null,
            "left": null,
            "margin": null,
            "max_height": null,
            "max_width": null,
            "min_height": null,
            "min_width": null,
            "object_fit": null,
            "object_position": null,
            "order": null,
            "overflow": null,
            "overflow_x": null,
            "overflow_y": null,
            "padding": null,
            "right": null,
            "top": null,
            "visibility": null,
            "width": null
          }
        },
        "35933fed2efc4f9e8846946919732176": {
          "model_module": "@jupyter-widgets/controls",
          "model_name": "DescriptionStyleModel",
          "model_module_version": "1.5.0",
          "state": {
            "_model_module": "@jupyter-widgets/controls",
            "_model_module_version": "1.5.0",
            "_model_name": "DescriptionStyleModel",
            "_view_count": null,
            "_view_module": "@jupyter-widgets/base",
            "_view_module_version": "1.2.0",
            "_view_name": "StyleView",
            "description_width": ""
          }
        },
        "170eca0f4a484cec9b34156994d5e392": {
          "model_module": "@jupyter-widgets/controls",
          "model_name": "HBoxModel",
          "model_module_version": "1.5.0",
          "state": {
            "_dom_classes": [],
            "_model_module": "@jupyter-widgets/controls",
            "_model_module_version": "1.5.0",
            "_model_name": "HBoxModel",
            "_view_count": null,
            "_view_module": "@jupyter-widgets/controls",
            "_view_module_version": "1.5.0",
            "_view_name": "HBoxView",
            "box_style": "",
            "children": [
              "IPY_MODEL_75a50f0493c64873810a4c84462ffec4",
              "IPY_MODEL_31ccd0d5f55e467ba1770589720ff361",
              "IPY_MODEL_4c5103415a484709a92d7a68998e1bb6"
            ],
            "layout": "IPY_MODEL_ec5ec740ebba4ad7ae0b0eff020efb23"
          }
        },
        "75a50f0493c64873810a4c84462ffec4": {
          "model_module": "@jupyter-widgets/controls",
          "model_name": "HTMLModel",
          "model_module_version": "1.5.0",
          "state": {
            "_dom_classes": [],
            "_model_module": "@jupyter-widgets/controls",
            "_model_module_version": "1.5.0",
            "_model_name": "HTMLModel",
            "_view_count": null,
            "_view_module": "@jupyter-widgets/controls",
            "_view_module_version": "1.5.0",
            "_view_name": "HTMLView",
            "description": "",
            "description_tooltip": null,
            "layout": "IPY_MODEL_bf314d746f314a628a4bb56cf60cb931",
            "placeholder": "​",
            "style": "IPY_MODEL_9505ca1f819a4c2ea9f0fd8ab98cbc7a",
            "value": "Map: 100%"
          }
        },
        "31ccd0d5f55e467ba1770589720ff361": {
          "model_module": "@jupyter-widgets/controls",
          "model_name": "FloatProgressModel",
          "model_module_version": "1.5.0",
          "state": {
            "_dom_classes": [],
            "_model_module": "@jupyter-widgets/controls",
            "_model_module_version": "1.5.0",
            "_model_name": "FloatProgressModel",
            "_view_count": null,
            "_view_module": "@jupyter-widgets/controls",
            "_view_module_version": "1.5.0",
            "_view_name": "ProgressView",
            "bar_style": "success",
            "description": "",
            "description_tooltip": null,
            "layout": "IPY_MODEL_9df756c69ae34825a855ca6cb3271c03",
            "max": 170,
            "min": 0,
            "orientation": "horizontal",
            "style": "IPY_MODEL_616ba2d28e0c49478f0b935c0313d4f9",
            "value": 170
          }
        },
        "4c5103415a484709a92d7a68998e1bb6": {
          "model_module": "@jupyter-widgets/controls",
          "model_name": "HTMLModel",
          "model_module_version": "1.5.0",
          "state": {
            "_dom_classes": [],
            "_model_module": "@jupyter-widgets/controls",
            "_model_module_version": "1.5.0",
            "_model_name": "HTMLModel",
            "_view_count": null,
            "_view_module": "@jupyter-widgets/controls",
            "_view_module_version": "1.5.0",
            "_view_name": "HTMLView",
            "description": "",
            "description_tooltip": null,
            "layout": "IPY_MODEL_065c4a423dff459cb2f74523331ab0e3",
            "placeholder": "​",
            "style": "IPY_MODEL_554f0b08f3f641f391a7aed169f9fcf2",
            "value": " 170/170 [00:01&lt;00:00, 87.08 examples/s]"
          }
        },
        "ec5ec740ebba4ad7ae0b0eff020efb23": {
          "model_module": "@jupyter-widgets/base",
          "model_name": "LayoutModel",
          "model_module_version": "1.2.0",
          "state": {
            "_model_module": "@jupyter-widgets/base",
            "_model_module_version": "1.2.0",
            "_model_name": "LayoutModel",
            "_view_count": null,
            "_view_module": "@jupyter-widgets/base",
            "_view_module_version": "1.2.0",
            "_view_name": "LayoutView",
            "align_content": null,
            "align_items": null,
            "align_self": null,
            "border": null,
            "bottom": null,
            "display": null,
            "flex": null,
            "flex_flow": null,
            "grid_area": null,
            "grid_auto_columns": null,
            "grid_auto_flow": null,
            "grid_auto_rows": null,
            "grid_column": null,
            "grid_gap": null,
            "grid_row": null,
            "grid_template_areas": null,
            "grid_template_columns": null,
            "grid_template_rows": null,
            "height": null,
            "justify_content": null,
            "justify_items": null,
            "left": null,
            "margin": null,
            "max_height": null,
            "max_width": null,
            "min_height": null,
            "min_width": null,
            "object_fit": null,
            "object_position": null,
            "order": null,
            "overflow": null,
            "overflow_x": null,
            "overflow_y": null,
            "padding": null,
            "right": null,
            "top": null,
            "visibility": null,
            "width": null
          }
        },
        "bf314d746f314a628a4bb56cf60cb931": {
          "model_module": "@jupyter-widgets/base",
          "model_name": "LayoutModel",
          "model_module_version": "1.2.0",
          "state": {
            "_model_module": "@jupyter-widgets/base",
            "_model_module_version": "1.2.0",
            "_model_name": "LayoutModel",
            "_view_count": null,
            "_view_module": "@jupyter-widgets/base",
            "_view_module_version": "1.2.0",
            "_view_name": "LayoutView",
            "align_content": null,
            "align_items": null,
            "align_self": null,
            "border": null,
            "bottom": null,
            "display": null,
            "flex": null,
            "flex_flow": null,
            "grid_area": null,
            "grid_auto_columns": null,
            "grid_auto_flow": null,
            "grid_auto_rows": null,
            "grid_column": null,
            "grid_gap": null,
            "grid_row": null,
            "grid_template_areas": null,
            "grid_template_columns": null,
            "grid_template_rows": null,
            "height": null,
            "justify_content": null,
            "justify_items": null,
            "left": null,
            "margin": null,
            "max_height": null,
            "max_width": null,
            "min_height": null,
            "min_width": null,
            "object_fit": null,
            "object_position": null,
            "order": null,
            "overflow": null,
            "overflow_x": null,
            "overflow_y": null,
            "padding": null,
            "right": null,
            "top": null,
            "visibility": null,
            "width": null
          }
        },
        "9505ca1f819a4c2ea9f0fd8ab98cbc7a": {
          "model_module": "@jupyter-widgets/controls",
          "model_name": "DescriptionStyleModel",
          "model_module_version": "1.5.0",
          "state": {
            "_model_module": "@jupyter-widgets/controls",
            "_model_module_version": "1.5.0",
            "_model_name": "DescriptionStyleModel",
            "_view_count": null,
            "_view_module": "@jupyter-widgets/base",
            "_view_module_version": "1.2.0",
            "_view_name": "StyleView",
            "description_width": ""
          }
        },
        "9df756c69ae34825a855ca6cb3271c03": {
          "model_module": "@jupyter-widgets/base",
          "model_name": "LayoutModel",
          "model_module_version": "1.2.0",
          "state": {
            "_model_module": "@jupyter-widgets/base",
            "_model_module_version": "1.2.0",
            "_model_name": "LayoutModel",
            "_view_count": null,
            "_view_module": "@jupyter-widgets/base",
            "_view_module_version": "1.2.0",
            "_view_name": "LayoutView",
            "align_content": null,
            "align_items": null,
            "align_self": null,
            "border": null,
            "bottom": null,
            "display": null,
            "flex": null,
            "flex_flow": null,
            "grid_area": null,
            "grid_auto_columns": null,
            "grid_auto_flow": null,
            "grid_auto_rows": null,
            "grid_column": null,
            "grid_gap": null,
            "grid_row": null,
            "grid_template_areas": null,
            "grid_template_columns": null,
            "grid_template_rows": null,
            "height": null,
            "justify_content": null,
            "justify_items": null,
            "left": null,
            "margin": null,
            "max_height": null,
            "max_width": null,
            "min_height": null,
            "min_width": null,
            "object_fit": null,
            "object_position": null,
            "order": null,
            "overflow": null,
            "overflow_x": null,
            "overflow_y": null,
            "padding": null,
            "right": null,
            "top": null,
            "visibility": null,
            "width": null
          }
        },
        "616ba2d28e0c49478f0b935c0313d4f9": {
          "model_module": "@jupyter-widgets/controls",
          "model_name": "ProgressStyleModel",
          "model_module_version": "1.5.0",
          "state": {
            "_model_module": "@jupyter-widgets/controls",
            "_model_module_version": "1.5.0",
            "_model_name": "ProgressStyleModel",
            "_view_count": null,
            "_view_module": "@jupyter-widgets/base",
            "_view_module_version": "1.2.0",
            "_view_name": "StyleView",
            "bar_color": null,
            "description_width": ""
          }
        },
        "065c4a423dff459cb2f74523331ab0e3": {
          "model_module": "@jupyter-widgets/base",
          "model_name": "LayoutModel",
          "model_module_version": "1.2.0",
          "state": {
            "_model_module": "@jupyter-widgets/base",
            "_model_module_version": "1.2.0",
            "_model_name": "LayoutModel",
            "_view_count": null,
            "_view_module": "@jupyter-widgets/base",
            "_view_module_version": "1.2.0",
            "_view_name": "LayoutView",
            "align_content": null,
            "align_items": null,
            "align_self": null,
            "border": null,
            "bottom": null,
            "display": null,
            "flex": null,
            "flex_flow": null,
            "grid_area": null,
            "grid_auto_columns": null,
            "grid_auto_flow": null,
            "grid_auto_rows": null,
            "grid_column": null,
            "grid_gap": null,
            "grid_row": null,
            "grid_template_areas": null,
            "grid_template_columns": null,
            "grid_template_rows": null,
            "height": null,
            "justify_content": null,
            "justify_items": null,
            "left": null,
            "margin": null,
            "max_height": null,
            "max_width": null,
            "min_height": null,
            "min_width": null,
            "object_fit": null,
            "object_position": null,
            "order": null,
            "overflow": null,
            "overflow_x": null,
            "overflow_y": null,
            "padding": null,
            "right": null,
            "top": null,
            "visibility": null,
            "width": null
          }
        },
        "554f0b08f3f641f391a7aed169f9fcf2": {
          "model_module": "@jupyter-widgets/controls",
          "model_name": "DescriptionStyleModel",
          "model_module_version": "1.5.0",
          "state": {
            "_model_module": "@jupyter-widgets/controls",
            "_model_module_version": "1.5.0",
            "_model_name": "DescriptionStyleModel",
            "_view_count": null,
            "_view_module": "@jupyter-widgets/base",
            "_view_module_version": "1.2.0",
            "_view_name": "StyleView",
            "description_width": ""
          }
        },
        "af91eebb129d456ea5e72eb44de9ee3f": {
          "model_module": "@jupyter-widgets/controls",
          "model_name": "HBoxModel",
          "model_module_version": "1.5.0",
          "state": {
            "_dom_classes": [],
            "_model_module": "@jupyter-widgets/controls",
            "_model_module_version": "1.5.0",
            "_model_name": "HBoxModel",
            "_view_count": null,
            "_view_module": "@jupyter-widgets/controls",
            "_view_module_version": "1.5.0",
            "_view_name": "HBoxView",
            "box_style": "",
            "children": [
              "IPY_MODEL_f86c036608164c5a886dbe2d58ace235",
              "IPY_MODEL_7ae5959a42dd4b15aedfee49a467a02f",
              "IPY_MODEL_6d63c8994f8e4cfa98fc7a88936f6615"
            ],
            "layout": "IPY_MODEL_e2509a97993445649a3478d9e16a994b"
          }
        },
        "f86c036608164c5a886dbe2d58ace235": {
          "model_module": "@jupyter-widgets/controls",
          "model_name": "HTMLModel",
          "model_module_version": "1.5.0",
          "state": {
            "_dom_classes": [],
            "_model_module": "@jupyter-widgets/controls",
            "_model_module_version": "1.5.0",
            "_model_name": "HTMLModel",
            "_view_count": null,
            "_view_module": "@jupyter-widgets/controls",
            "_view_module_version": "1.5.0",
            "_view_name": "HTMLView",
            "description": "",
            "description_tooltip": null,
            "layout": "IPY_MODEL_2d0602d3cf7f472eb25d77e1ce8c184f",
            "placeholder": "​",
            "style": "IPY_MODEL_5557d66a35e14ca089d420175ec9aa04",
            "value": "Map: 100%"
          }
        },
        "7ae5959a42dd4b15aedfee49a467a02f": {
          "model_module": "@jupyter-widgets/controls",
          "model_name": "FloatProgressModel",
          "model_module_version": "1.5.0",
          "state": {
            "_dom_classes": [],
            "_model_module": "@jupyter-widgets/controls",
            "_model_module_version": "1.5.0",
            "_model_name": "FloatProgressModel",
            "_view_count": null,
            "_view_module": "@jupyter-widgets/controls",
            "_view_module_version": "1.5.0",
            "_view_name": "ProgressView",
            "bar_style": "success",
            "description": "",
            "description_tooltip": null,
            "layout": "IPY_MODEL_15ea5e31c90a4a5cbaa047a20a696eb7",
            "max": 256,
            "min": 0,
            "orientation": "horizontal",
            "style": "IPY_MODEL_aa38f5c762ca4a8b90e28fde3e32b309",
            "value": 256
          }
        },
        "6d63c8994f8e4cfa98fc7a88936f6615": {
          "model_module": "@jupyter-widgets/controls",
          "model_name": "HTMLModel",
          "model_module_version": "1.5.0",
          "state": {
            "_dom_classes": [],
            "_model_module": "@jupyter-widgets/controls",
            "_model_module_version": "1.5.0",
            "_model_name": "HTMLModel",
            "_view_count": null,
            "_view_module": "@jupyter-widgets/controls",
            "_view_module_version": "1.5.0",
            "_view_name": "HTMLView",
            "description": "",
            "description_tooltip": null,
            "layout": "IPY_MODEL_f7f6fa8dfbd14331bd342f137852d1af",
            "placeholder": "​",
            "style": "IPY_MODEL_d59ee46fd66b4ae391dcca0cdc22e374",
            "value": " 256/256 [00:02&lt;00:00, 111.46 examples/s]"
          }
        },
        "e2509a97993445649a3478d9e16a994b": {
          "model_module": "@jupyter-widgets/base",
          "model_name": "LayoutModel",
          "model_module_version": "1.2.0",
          "state": {
            "_model_module": "@jupyter-widgets/base",
            "_model_module_version": "1.2.0",
            "_model_name": "LayoutModel",
            "_view_count": null,
            "_view_module": "@jupyter-widgets/base",
            "_view_module_version": "1.2.0",
            "_view_name": "LayoutView",
            "align_content": null,
            "align_items": null,
            "align_self": null,
            "border": null,
            "bottom": null,
            "display": null,
            "flex": null,
            "flex_flow": null,
            "grid_area": null,
            "grid_auto_columns": null,
            "grid_auto_flow": null,
            "grid_auto_rows": null,
            "grid_column": null,
            "grid_gap": null,
            "grid_row": null,
            "grid_template_areas": null,
            "grid_template_columns": null,
            "grid_template_rows": null,
            "height": null,
            "justify_content": null,
            "justify_items": null,
            "left": null,
            "margin": null,
            "max_height": null,
            "max_width": null,
            "min_height": null,
            "min_width": null,
            "object_fit": null,
            "object_position": null,
            "order": null,
            "overflow": null,
            "overflow_x": null,
            "overflow_y": null,
            "padding": null,
            "right": null,
            "top": null,
            "visibility": null,
            "width": null
          }
        },
        "2d0602d3cf7f472eb25d77e1ce8c184f": {
          "model_module": "@jupyter-widgets/base",
          "model_name": "LayoutModel",
          "model_module_version": "1.2.0",
          "state": {
            "_model_module": "@jupyter-widgets/base",
            "_model_module_version": "1.2.0",
            "_model_name": "LayoutModel",
            "_view_count": null,
            "_view_module": "@jupyter-widgets/base",
            "_view_module_version": "1.2.0",
            "_view_name": "LayoutView",
            "align_content": null,
            "align_items": null,
            "align_self": null,
            "border": null,
            "bottom": null,
            "display": null,
            "flex": null,
            "flex_flow": null,
            "grid_area": null,
            "grid_auto_columns": null,
            "grid_auto_flow": null,
            "grid_auto_rows": null,
            "grid_column": null,
            "grid_gap": null,
            "grid_row": null,
            "grid_template_areas": null,
            "grid_template_columns": null,
            "grid_template_rows": null,
            "height": null,
            "justify_content": null,
            "justify_items": null,
            "left": null,
            "margin": null,
            "max_height": null,
            "max_width": null,
            "min_height": null,
            "min_width": null,
            "object_fit": null,
            "object_position": null,
            "order": null,
            "overflow": null,
            "overflow_x": null,
            "overflow_y": null,
            "padding": null,
            "right": null,
            "top": null,
            "visibility": null,
            "width": null
          }
        },
        "5557d66a35e14ca089d420175ec9aa04": {
          "model_module": "@jupyter-widgets/controls",
          "model_name": "DescriptionStyleModel",
          "model_module_version": "1.5.0",
          "state": {
            "_model_module": "@jupyter-widgets/controls",
            "_model_module_version": "1.5.0",
            "_model_name": "DescriptionStyleModel",
            "_view_count": null,
            "_view_module": "@jupyter-widgets/base",
            "_view_module_version": "1.2.0",
            "_view_name": "StyleView",
            "description_width": ""
          }
        },
        "15ea5e31c90a4a5cbaa047a20a696eb7": {
          "model_module": "@jupyter-widgets/base",
          "model_name": "LayoutModel",
          "model_module_version": "1.2.0",
          "state": {
            "_model_module": "@jupyter-widgets/base",
            "_model_module_version": "1.2.0",
            "_model_name": "LayoutModel",
            "_view_count": null,
            "_view_module": "@jupyter-widgets/base",
            "_view_module_version": "1.2.0",
            "_view_name": "LayoutView",
            "align_content": null,
            "align_items": null,
            "align_self": null,
            "border": null,
            "bottom": null,
            "display": null,
            "flex": null,
            "flex_flow": null,
            "grid_area": null,
            "grid_auto_columns": null,
            "grid_auto_flow": null,
            "grid_auto_rows": null,
            "grid_column": null,
            "grid_gap": null,
            "grid_row": null,
            "grid_template_areas": null,
            "grid_template_columns": null,
            "grid_template_rows": null,
            "height": null,
            "justify_content": null,
            "justify_items": null,
            "left": null,
            "margin": null,
            "max_height": null,
            "max_width": null,
            "min_height": null,
            "min_width": null,
            "object_fit": null,
            "object_position": null,
            "order": null,
            "overflow": null,
            "overflow_x": null,
            "overflow_y": null,
            "padding": null,
            "right": null,
            "top": null,
            "visibility": null,
            "width": null
          }
        },
        "aa38f5c762ca4a8b90e28fde3e32b309": {
          "model_module": "@jupyter-widgets/controls",
          "model_name": "ProgressStyleModel",
          "model_module_version": "1.5.0",
          "state": {
            "_model_module": "@jupyter-widgets/controls",
            "_model_module_version": "1.5.0",
            "_model_name": "ProgressStyleModel",
            "_view_count": null,
            "_view_module": "@jupyter-widgets/base",
            "_view_module_version": "1.2.0",
            "_view_name": "StyleView",
            "bar_color": null,
            "description_width": ""
          }
        },
        "f7f6fa8dfbd14331bd342f137852d1af": {
          "model_module": "@jupyter-widgets/base",
          "model_name": "LayoutModel",
          "model_module_version": "1.2.0",
          "state": {
            "_model_module": "@jupyter-widgets/base",
            "_model_module_version": "1.2.0",
            "_model_name": "LayoutModel",
            "_view_count": null,
            "_view_module": "@jupyter-widgets/base",
            "_view_module_version": "1.2.0",
            "_view_name": "LayoutView",
            "align_content": null,
            "align_items": null,
            "align_self": null,
            "border": null,
            "bottom": null,
            "display": null,
            "flex": null,
            "flex_flow": null,
            "grid_area": null,
            "grid_auto_columns": null,
            "grid_auto_flow": null,
            "grid_auto_rows": null,
            "grid_column": null,
            "grid_gap": null,
            "grid_row": null,
            "grid_template_areas": null,
            "grid_template_columns": null,
            "grid_template_rows": null,
            "height": null,
            "justify_content": null,
            "justify_items": null,
            "left": null,
            "margin": null,
            "max_height": null,
            "max_width": null,
            "min_height": null,
            "min_width": null,
            "object_fit": null,
            "object_position": null,
            "order": null,
            "overflow": null,
            "overflow_x": null,
            "overflow_y": null,
            "padding": null,
            "right": null,
            "top": null,
            "visibility": null,
            "width": null
          }
        },
        "d59ee46fd66b4ae391dcca0cdc22e374": {
          "model_module": "@jupyter-widgets/controls",
          "model_name": "DescriptionStyleModel",
          "model_module_version": "1.5.0",
          "state": {
            "_model_module": "@jupyter-widgets/controls",
            "_model_module_version": "1.5.0",
            "_model_name": "DescriptionStyleModel",
            "_view_count": null,
            "_view_module": "@jupyter-widgets/base",
            "_view_module_version": "1.2.0",
            "_view_name": "StyleView",
            "description_width": ""
          }
        }
      }
    }
  },
  "nbformat": 4,
  "nbformat_minor": 5
}