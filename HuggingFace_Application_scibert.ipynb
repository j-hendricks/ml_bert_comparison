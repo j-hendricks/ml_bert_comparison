{
  "cells": [
    {
      "cell_type": "code",
      "execution_count": null,
      "id": "bc75f3b9",
      "metadata": {
        "id": "bc75f3b9"
      },
      "outputs": [],
      "source": [
        "import numpy as np\n",
        "import pandas as pd\n",
        "import string\n",
        "import re\n",
        "import os\n",
        "from transformers import AutoModel\n",
        "from transformers import AutoTokenizer"
      ]
    },
    {
      "cell_type": "code",
      "source": [
        "!pip install -U accelerate"
      ],
      "metadata": {
        "id": "Uq-1YjzWiCJS",
        "colab": {
          "base_uri": "https://localhost:8080/"
        },
        "outputId": "b0e3104b-9051-4ad2-8d60-ba5b3a8f7721"
      },
      "id": "Uq-1YjzWiCJS",
      "execution_count": null,
      "outputs": [
        {
          "output_type": "stream",
          "name": "stdout",
          "text": [
            "Collecting accelerate\n",
            "  Downloading accelerate-0.30.0-py3-none-any.whl (302 kB)\n",
            "\u001b[2K     \u001b[90m━━━━━━━━━━━━━━━━━━━━━━━━━━━━━━━━━━━━━━━━\u001b[0m \u001b[32m302.4/302.4 kB\u001b[0m \u001b[31m3.3 MB/s\u001b[0m eta \u001b[36m0:00:00\u001b[0m\n",
            "\u001b[?25hRequirement already satisfied: numpy>=1.17 in /usr/local/lib/python3.10/dist-packages (from accelerate) (1.25.2)\n",
            "Requirement already satisfied: packaging>=20.0 in /usr/local/lib/python3.10/dist-packages (from accelerate) (24.0)\n",
            "Requirement already satisfied: psutil in /usr/local/lib/python3.10/dist-packages (from accelerate) (5.9.5)\n",
            "Requirement already satisfied: pyyaml in /usr/local/lib/python3.10/dist-packages (from accelerate) (6.0.1)\n",
            "Requirement already satisfied: torch>=1.10.0 in /usr/local/lib/python3.10/dist-packages (from accelerate) (2.2.1+cu121)\n",
            "Requirement already satisfied: huggingface-hub in /usr/local/lib/python3.10/dist-packages (from accelerate) (0.20.3)\n",
            "Requirement already satisfied: safetensors>=0.3.1 in /usr/local/lib/python3.10/dist-packages (from accelerate) (0.4.3)\n",
            "Requirement already satisfied: filelock in /usr/local/lib/python3.10/dist-packages (from torch>=1.10.0->accelerate) (3.14.0)\n",
            "Requirement already satisfied: typing-extensions>=4.8.0 in /usr/local/lib/python3.10/dist-packages (from torch>=1.10.0->accelerate) (4.11.0)\n",
            "Requirement already satisfied: sympy in /usr/local/lib/python3.10/dist-packages (from torch>=1.10.0->accelerate) (1.12)\n",
            "Requirement already satisfied: networkx in /usr/local/lib/python3.10/dist-packages (from torch>=1.10.0->accelerate) (3.3)\n",
            "Requirement already satisfied: jinja2 in /usr/local/lib/python3.10/dist-packages (from torch>=1.10.0->accelerate) (3.1.3)\n",
            "Requirement already satisfied: fsspec in /usr/local/lib/python3.10/dist-packages (from torch>=1.10.0->accelerate) (2023.6.0)\n",
            "Collecting nvidia-cuda-nvrtc-cu12==12.1.105 (from torch>=1.10.0->accelerate)\n",
            "  Using cached nvidia_cuda_nvrtc_cu12-12.1.105-py3-none-manylinux1_x86_64.whl (23.7 MB)\n",
            "Collecting nvidia-cuda-runtime-cu12==12.1.105 (from torch>=1.10.0->accelerate)\n",
            "  Using cached nvidia_cuda_runtime_cu12-12.1.105-py3-none-manylinux1_x86_64.whl (823 kB)\n",
            "Collecting nvidia-cuda-cupti-cu12==12.1.105 (from torch>=1.10.0->accelerate)\n",
            "  Using cached nvidia_cuda_cupti_cu12-12.1.105-py3-none-manylinux1_x86_64.whl (14.1 MB)\n",
            "Collecting nvidia-cudnn-cu12==8.9.2.26 (from torch>=1.10.0->accelerate)\n",
            "  Using cached nvidia_cudnn_cu12-8.9.2.26-py3-none-manylinux1_x86_64.whl (731.7 MB)\n",
            "Collecting nvidia-cublas-cu12==12.1.3.1 (from torch>=1.10.0->accelerate)\n",
            "  Using cached nvidia_cublas_cu12-12.1.3.1-py3-none-manylinux1_x86_64.whl (410.6 MB)\n",
            "Collecting nvidia-cufft-cu12==11.0.2.54 (from torch>=1.10.0->accelerate)\n",
            "  Using cached nvidia_cufft_cu12-11.0.2.54-py3-none-manylinux1_x86_64.whl (121.6 MB)\n",
            "Collecting nvidia-curand-cu12==10.3.2.106 (from torch>=1.10.0->accelerate)\n",
            "  Using cached nvidia_curand_cu12-10.3.2.106-py3-none-manylinux1_x86_64.whl (56.5 MB)\n",
            "Collecting nvidia-cusolver-cu12==11.4.5.107 (from torch>=1.10.0->accelerate)\n",
            "  Using cached nvidia_cusolver_cu12-11.4.5.107-py3-none-manylinux1_x86_64.whl (124.2 MB)\n",
            "Collecting nvidia-cusparse-cu12==12.1.0.106 (from torch>=1.10.0->accelerate)\n",
            "  Using cached nvidia_cusparse_cu12-12.1.0.106-py3-none-manylinux1_x86_64.whl (196.0 MB)\n",
            "Collecting nvidia-nccl-cu12==2.19.3 (from torch>=1.10.0->accelerate)\n",
            "  Using cached nvidia_nccl_cu12-2.19.3-py3-none-manylinux1_x86_64.whl (166.0 MB)\n",
            "Collecting nvidia-nvtx-cu12==12.1.105 (from torch>=1.10.0->accelerate)\n",
            "  Using cached nvidia_nvtx_cu12-12.1.105-py3-none-manylinux1_x86_64.whl (99 kB)\n",
            "Requirement already satisfied: triton==2.2.0 in /usr/local/lib/python3.10/dist-packages (from torch>=1.10.0->accelerate) (2.2.0)\n",
            "Collecting nvidia-nvjitlink-cu12 (from nvidia-cusolver-cu12==11.4.5.107->torch>=1.10.0->accelerate)\n",
            "  Using cached nvidia_nvjitlink_cu12-12.4.127-py3-none-manylinux2014_x86_64.whl (21.1 MB)\n",
            "Requirement already satisfied: requests in /usr/local/lib/python3.10/dist-packages (from huggingface-hub->accelerate) (2.31.0)\n",
            "Requirement already satisfied: tqdm>=4.42.1 in /usr/local/lib/python3.10/dist-packages (from huggingface-hub->accelerate) (4.66.4)\n",
            "Requirement already satisfied: MarkupSafe>=2.0 in /usr/local/lib/python3.10/dist-packages (from jinja2->torch>=1.10.0->accelerate) (2.1.5)\n",
            "Requirement already satisfied: charset-normalizer<4,>=2 in /usr/local/lib/python3.10/dist-packages (from requests->huggingface-hub->accelerate) (3.3.2)\n",
            "Requirement already satisfied: idna<4,>=2.5 in /usr/local/lib/python3.10/dist-packages (from requests->huggingface-hub->accelerate) (3.7)\n",
            "Requirement already satisfied: urllib3<3,>=1.21.1 in /usr/local/lib/python3.10/dist-packages (from requests->huggingface-hub->accelerate) (2.0.7)\n",
            "Requirement already satisfied: certifi>=2017.4.17 in /usr/local/lib/python3.10/dist-packages (from requests->huggingface-hub->accelerate) (2024.2.2)\n",
            "Requirement already satisfied: mpmath>=0.19 in /usr/local/lib/python3.10/dist-packages (from sympy->torch>=1.10.0->accelerate) (1.3.0)\n",
            "Installing collected packages: nvidia-nvtx-cu12, nvidia-nvjitlink-cu12, nvidia-nccl-cu12, nvidia-curand-cu12, nvidia-cufft-cu12, nvidia-cuda-runtime-cu12, nvidia-cuda-nvrtc-cu12, nvidia-cuda-cupti-cu12, nvidia-cublas-cu12, nvidia-cusparse-cu12, nvidia-cudnn-cu12, nvidia-cusolver-cu12, accelerate\n",
            "Successfully installed accelerate-0.30.0 nvidia-cublas-cu12-12.1.3.1 nvidia-cuda-cupti-cu12-12.1.105 nvidia-cuda-nvrtc-cu12-12.1.105 nvidia-cuda-runtime-cu12-12.1.105 nvidia-cudnn-cu12-8.9.2.26 nvidia-cufft-cu12-11.0.2.54 nvidia-curand-cu12-10.3.2.106 nvidia-cusolver-cu12-11.4.5.107 nvidia-cusparse-cu12-12.1.0.106 nvidia-nccl-cu12-2.19.3 nvidia-nvjitlink-cu12-12.4.127 nvidia-nvtx-cu12-12.1.105\n"
          ]
        }
      ]
    },
    {
      "cell_type": "code",
      "source": [
        "!pip install -U transformers"
      ],
      "metadata": {
        "colab": {
          "base_uri": "https://localhost:8080/",
          "height": 564
        },
        "id": "RDaXiP-ct6-N",
        "outputId": "e9519b67-c639-4821-a44c-70903d8596ab"
      },
      "id": "RDaXiP-ct6-N",
      "execution_count": null,
      "outputs": [
        {
          "output_type": "stream",
          "name": "stdout",
          "text": [
            "Requirement already satisfied: transformers in /usr/local/lib/python3.10/dist-packages (4.40.1)\n",
            "Collecting transformers\n",
            "  Downloading transformers-4.40.2-py3-none-any.whl (9.0 MB)\n",
            "\u001b[2K     \u001b[90m━━━━━━━━━━━━━━━━━━━━━━━━━━━━━━━━━━━━━━━━\u001b[0m \u001b[32m9.0/9.0 MB\u001b[0m \u001b[31m43.7 MB/s\u001b[0m eta \u001b[36m0:00:00\u001b[0m\n",
            "\u001b[?25hRequirement already satisfied: filelock in /usr/local/lib/python3.10/dist-packages (from transformers) (3.14.0)\n",
            "Requirement already satisfied: huggingface-hub<1.0,>=0.19.3 in /usr/local/lib/python3.10/dist-packages (from transformers) (0.20.3)\n",
            "Requirement already satisfied: numpy>=1.17 in /usr/local/lib/python3.10/dist-packages (from transformers) (1.25.2)\n",
            "Requirement already satisfied: packaging>=20.0 in /usr/local/lib/python3.10/dist-packages (from transformers) (24.0)\n",
            "Requirement already satisfied: pyyaml>=5.1 in /usr/local/lib/python3.10/dist-packages (from transformers) (6.0.1)\n",
            "Requirement already satisfied: regex!=2019.12.17 in /usr/local/lib/python3.10/dist-packages (from transformers) (2023.12.25)\n",
            "Requirement already satisfied: requests in /usr/local/lib/python3.10/dist-packages (from transformers) (2.31.0)\n",
            "Requirement already satisfied: tokenizers<0.20,>=0.19 in /usr/local/lib/python3.10/dist-packages (from transformers) (0.19.1)\n",
            "Requirement already satisfied: safetensors>=0.4.1 in /usr/local/lib/python3.10/dist-packages (from transformers) (0.4.3)\n",
            "Requirement already satisfied: tqdm>=4.27 in /usr/local/lib/python3.10/dist-packages (from transformers) (4.66.4)\n",
            "Requirement already satisfied: fsspec>=2023.5.0 in /usr/local/lib/python3.10/dist-packages (from huggingface-hub<1.0,>=0.19.3->transformers) (2023.6.0)\n",
            "Requirement already satisfied: typing-extensions>=3.7.4.3 in /usr/local/lib/python3.10/dist-packages (from huggingface-hub<1.0,>=0.19.3->transformers) (4.11.0)\n",
            "Requirement already satisfied: charset-normalizer<4,>=2 in /usr/local/lib/python3.10/dist-packages (from requests->transformers) (3.3.2)\n",
            "Requirement already satisfied: idna<4,>=2.5 in /usr/local/lib/python3.10/dist-packages (from requests->transformers) (3.7)\n",
            "Requirement already satisfied: urllib3<3,>=1.21.1 in /usr/local/lib/python3.10/dist-packages (from requests->transformers) (2.0.7)\n",
            "Requirement already satisfied: certifi>=2017.4.17 in /usr/local/lib/python3.10/dist-packages (from requests->transformers) (2024.2.2)\n",
            "Installing collected packages: transformers\n",
            "  Attempting uninstall: transformers\n",
            "    Found existing installation: transformers 4.40.1\n",
            "    Uninstalling transformers-4.40.1:\n",
            "      Successfully uninstalled transformers-4.40.1\n",
            "Successfully installed transformers-4.40.2\n"
          ]
        },
        {
          "output_type": "display_data",
          "data": {
            "application/vnd.colab-display-data+json": {
              "pip_warning": {
                "packages": [
                  "transformers"
                ]
              },
              "id": "dc3333a28ece49f2af1634ac7e09c94b"
            }
          },
          "metadata": {}
        }
      ]
    },
    {
      "cell_type": "code",
      "source": [
        "from google.colab import drive\n",
        "drive.mount('/content/drive')"
      ],
      "metadata": {
        "colab": {
          "base_uri": "https://localhost:8080/"
        },
        "id": "kANl9IylZ6CE",
        "outputId": "fe317ab3-8207-44c4-e693-d0a281740c2d"
      },
      "id": "kANl9IylZ6CE",
      "execution_count": null,
      "outputs": [
        {
          "output_type": "stream",
          "name": "stdout",
          "text": [
            "Drive already mounted at /content/drive; to attempt to forcibly remount, call drive.mount(\"/content/drive\", force_remount=True).\n"
          ]
        }
      ]
    },
    {
      "cell_type": "code",
      "execution_count": null,
      "id": "7e4b2c66",
      "metadata": {
        "id": "7e4b2c66"
      },
      "outputs": [],
      "source": [
        "suffix = 'drive/MyDrive/medical_dataset_analysis/'\n",
        "\n",
        "beth_file_directory = 'concept_assertion_relation_training_data/beth/txt/'\n",
        "beth_concept_directory = 'concept_assertion_relation_training_data/beth/concept/'\n",
        "\n",
        "partner_file_directory = 'concept_assertion_relation_training_data/partners/txt/'\n",
        "partner_concept_directory = 'concept_assertion_relation_training_data/partners/concept/'\n",
        "\n",
        "test_directory = 'test_data/'\n",
        "test_directory_concepts = 'reference_standard_for_test_data/concepts/'"
      ]
    },
    {
      "cell_type": "code",
      "execution_count": null,
      "id": "efc0406b",
      "metadata": {
        "id": "efc0406b"
      },
      "outputs": [],
      "source": [
        "def getNotes(file_directory):\n",
        "    text_dict = {}\n",
        "    file_list = os.listdir(suffix+file_directory)\n",
        "    for f in file_list:\n",
        "        if f[-3:] != 'xml' and f[-3:] != 'txt' and f[-3:] != 'con':\n",
        "            file_list.remove(f)\n",
        "    if '.DS_Store' in file_list:\n",
        "        file_list.remove('.DS_Store')\n",
        "    for file_name in file_list:\n",
        "        with open(suffix+file_directory + file_name,'r') as file:\n",
        "            data = file.read()\n",
        "            text_dict[file_name[:-4]] = data\n",
        "        file.close()\n",
        "    return text_dict"
      ]
    },
    {
      "cell_type": "code",
      "execution_count": null,
      "id": "92d9b50b",
      "metadata": {
        "id": "92d9b50b"
      },
      "outputs": [],
      "source": [
        "beth_notes = getNotes(beth_file_directory)\n",
        "beth_concepts = getNotes(beth_concept_directory)\n",
        "partners_notes = getNotes(partner_file_directory)\n",
        "partners_concepts = getNotes(partner_concept_directory)"
      ]
    },
    {
      "cell_type": "code",
      "execution_count": null,
      "id": "203c3c7b",
      "metadata": {
        "id": "203c3c7b"
      },
      "outputs": [],
      "source": [
        "train_notes = beth_notes.copy()\n",
        "train_notes.update(partners_notes)\n",
        "all_notes = train_notes.copy()\n",
        "train_records = list(train_notes.keys())\n",
        "\n",
        "train_concepts = beth_concepts.copy()\n",
        "train_concepts.update(partners_concepts)\n",
        "all_concepts = train_concepts.copy()\n",
        "train_concepts_records = list(train_concepts.keys())\n",
        "\n",
        "test_notes = getNotes(test_directory)\n",
        "test_notes_records = list(test_notes.keys())\n",
        "test_concepts = getNotes(test_directory_concepts)\n",
        "test_concepts_records = list(test_concepts.keys())\n",
        "\n",
        "all_notes.update(test_notes)\n",
        "all_concepts.update(test_concepts)"
      ]
    },
    {
      "cell_type": "code",
      "source": [
        "train_notes['record-21']"
      ],
      "metadata": {
        "id": "0SG84vNkrAxD",
        "colab": {
          "base_uri": "https://localhost:8080/",
          "height": 54
        },
        "outputId": "a0c6b88a-8f75-48e1-d4b1-4a6ae9c27f81"
      },
      "id": "0SG84vNkrAxD",
      "execution_count": null,
      "outputs": [
        {
          "output_type": "execute_result",
          "data": {
            "text/plain": [
              "\"01909607\\nAdmission Date :\\n2010-06-28\\nDischarge Date :\\n2010-07-01\\nDate of Birth :\\n1990-02-01\\nSex :\\nF\\nService :\\nORTHOPEDIC\\nHISTORY OF THE PRESENT ILLNESS :\\nThis is a 20-year-old female with no significant past medical history , who was the unrestrained passenger in a high speed rollover motor vehicle accident on 2010-06-27 .\\nBy report , the patient was ejected from the vehicle on impact and found curled in the fetal position at the rear of the vehicle at the scene .\\nThe vehicle was noted to be extensively damaged .\\nBy report , the patient was noted to be awake , but confused at the scene of the accident with no memory of the incident .\\nShe was immobilized in the C-spine collar at the scene of the accident and subsequently transported by EMS to the New England Sinai Hospital & Rehab Center Emergency Department for further management .\\nPHYSICAL EXAMINATION :\\nExamination on presentation to the emergency room revealed the following :\\nTemperature 35.4 Celsius , blood pressure 116/63 , pulse 105 , respiratory rate 18 , oxygen saturation 98% on room air .\\nThe patient was alert and oriented times three in no apparent distress .\\nBoston Coma Scale of 15 .\\nTympanic membranes were noted to be clear .\\nPupils were equal , round , reactive to light at approximately 4 mm .\\nThe patient 's trachea was noted to be midline .\\nThe patient 's lung examination revealed the lungs to be clear to auscultation bilaterally , no crepitus , and a left clavicular deformity was grossly apparent on examination .\\nCARDIAC :\\nCardiac examination demonstrated regular rate and rhythm , no murmurs , rubs , or gallops .\\nABDOMEN :\\nSoft , nontender , nondistended .\\nRECTAL :\\nExamination was guaiac negative with good rectal tone .\\nThe patient 's pelvis was stable to AP and lateral compression .\\nA 5 cm laceration was noted over the patient 's occiput on further inspection with no exposed underlying bone .\\nRight upper extremity examination demonstrated intact motor , sensory , and vascular function .\\nLeft upper extremity examination demonstrated no gross deformities , tenderness to palpation in the mid forearm , intact motor function in the median , radial , and ulnar nerve distributions , intact sensation to light touch in the median and radial nerve distributions , decreased sensation in the ulnar-nerve distribution , warm and well perfused limb with 2+ radial pulses .\\nRight lower extremity examination demonstrated mild swelling and ecchymosis of the right posterior thigh and approximately a 3 cm laceration in the lower leg , expressive of moderate amounts of standard sterile\\nfashion .\\nNo gross deformities .\\nMotor , sensory , and vascular examinations were intact in all distributions .\\nLeft lower extremity examination demonstrated no gross deformities and intact motor , sensory , and vascular examinations in all distributions .\\nRadiographic studies demonstrated an inferior displaced left midclavicular fracture , no evidence of\\npneumothorax .\\nTrauma series demonstrated no evidence of a pelvic fracture .\\nHead CT demonstrated no evidence of intracranial bleeding .\\nTrauma CT demonstrated mild pulmonary contusions , but no pelvic fracture .\\nCervical spine imaging demonstrated no evidence of cervical spine injury .\\nRight tibial-fibular film series demonstrated no evidence of fracture displacement .\\nLeft humerus film series demonstrated no evidence of fracture or displacement .\\nRight foot and femur series demonstrated no evidence of fracture displacement .\\nLeft forearm and wrist series demonstrated transverse mid shaft radial fracture with ulnar displacement .\\nDiagnosis peritoneum lavage times two was negative for any signs of intra-abdominal bleeding .\\nLABORATORY DATA :\\nStudies on admission revealed the following :\\nWhite blood cell 12.9 , hemoglobin 11.5 , hematocrit 32.8 , platelet count 197,000 , sodium 141 , potassium 3.6 , chloride 110 , bicarbonate 21 , BUN 20 , creatinine 0.7 , glucose 189 , PT 13.3 , INR 1.2 , PTT 30.0 , amylase 57 , arterial blood gas 7.32 , 35 , 159 , 19 , -7 .\\nUrinalysis was within normal limits with 6 to 10 red blood cells .\\nToxicology screen was negative .\\nHOSPITAL COURSE :\\nThe patient was evaluated by the Trauma Service in the emergency room , where she received four liters\\ncrystalloid and four units packed red blood cells with good response .\\nIn addition , the patient received the above-described diagnostic procedures , which demonstrated injuries limited to a posterior scalp laceration , left fractured clavicle , left fractured radius , right thigh hematoma , and right leg laceration .\\nThe patient was subsequently admitted to the Trauma Service on 2010-06-28 under the direction of Dr. Lowery .\\nGiven the patient 's right thigh hematoma , a duplex evaluation of the right lower extremity was performed on 2010-06-28 and demonstrated no evidence of major arterial or venous injury in the level of\\nthe right inguinal region .\\nOn 06-28 , the patient was also cleared for removal of her C-spine collar and deemed stable for transfer to the Orthopedic Service under the direction of Dr. Ronda Lopez .\\nThe patient remained stable through 2010-06-29 at which point she was sent to the operating room to undergo a left radial fracture open reduction and internal fixation procedure .\\nThe patient tolerated the procedure well and demonstrated a postoperative hematocrit of 40.9 .\\nOf note , the scalp and right lower leg lacerations were closed primarily by the trauma team on admission and on hospital day #1 were noted to be clean , dry , and intact .\\nNonoperative treatment was elected for the patient 's left clavicular fracture .\\nOn postoperative day #1 , 2010-06-30 , the patient was noted to be clinically stable , tolerating oral intake , and expressive of adequate amounts of urine independent of a Foley catheter .\\nThe patient 's head wound laceration was noted to be clean and dry with intact staples .\\nThere was no erythema or purulence .\\nThe left clavicle was noted to have continued ecchymosis decreased from prior examination with a minor stepoff and mild tenderness to palpation decreased from prior examinations .\\nThe left forearm dressing was noted to be in place , clean , dry , and intact with no saturation .\\nThe patient was noted to be able to wiggle her fingers with intact flexor , extensor , abductor , and adductor function .\\nMild swelling was noted in the left hand .\\nSensation was intact in the median , radius , and ulnar-nerve distributions .\\nFingers were warm and well perfused with capillary refill less than 3 seconds .\\nThe patient 's right anterior tibial wound was noted to be clean , dry , and intact with sutures intact and no erythema or purulence noted .\\nOn 06-30 , the patient was evaluated by Occupational Therapy and fitted for a left upper extremity splint .\\nThe patient was also administered adaptive training for activities of daily life and advised regarding wound care .\\nIn addition , the patient was also fitted with a figure-of-eight clavicular splint and instructed in its\\nproper use .\\nOn 2010-07-01 , the patient was discharged from the hospital with instructions for follow up care on return to the United Kingdom .\\nCONDITION ON DISCHARGE :\\nThe patient is to be discharged to home .\\nDISCHARGE STATUS :\\nStable .\\nDIAGNOSIS :\\n1. Left transverse mid shaft radial fracture with ulnar displacement status post left radial open reduction and internal fixation .\\n2. Left midclavicular fracture managed nonoperatively .\\n3. Occipital scalp laceration .\\n4. Right anterior tibial laceration .\\nDISCHARGE MEDICATIONS :\\nPercocet one to two tablets PO q.4h. to 6h.p.r.n. pain .\\nFOLLOW-UP CARE :\\nThe patient is medically cleared for a flight to return to her home in the United Kingdom .\\nThe patient is to maintain her figure-of-eight clavicular splint and left posterior forearm splint in place for fourteen days following discharge .\\nThe left forearm and right lower leg wound should be kept clean and dry with regular dressing changes with dry gauze once per day .\\nScalp laceration should be kept clean and dry for five days following discharge after which point the patient may once wash her hair .\\nPercocet for pain as needed .\\nThe patient is to followup with an orthopedist in the United Kingdom fourteen days following discharge at which point repeat x-rays of her left forearm should be obtained and her left forearm scalp and right lower leg sutures and staples may be removed .\\nQuestions regarding follow up may be referred to Dr. Ronda Lopez at the Ayer Orthopedic Group .\\nTelephone #:\\n( 658 ) 842-8661 .\\nOrtiz V Baugher , M.D.\\n75-285\\nDictated By : Catherine K Thomas , M.D.\\nMEDQUIST36\\nD : 2010-06-30 17:18\\nT : 2010-06-30 17:39\\nJOB #:\\n03326\\nSigned electronically by : DR. Kisha Jones on : Jose 2010-07-01 8:27 AM\\n( End of Report )\""
            ],
            "application/vnd.google.colaboratory.intrinsic+json": {
              "type": "string"
            }
          },
          "metadata": {},
          "execution_count": 7
        }
      ]
    },
    {
      "cell_type": "code",
      "source": [
        "train_concepts['record-21']"
      ],
      "metadata": {
        "colab": {
          "base_uri": "https://localhost:8080/",
          "height": 54
        },
        "outputId": "cfc3ab3c-45b8-492c-a520-ccfcaa0e7a8c",
        "id": "vvH55VVuhEMF"
      },
      "execution_count": null,
      "outputs": [
        {
          "output_type": "execute_result",
          "data": {
            "text/plain": [
              "'c=\"left transverse mid shaft radial fracture\" 90:1 90:6||t=\"problem\"\\nc=\"ulnar displacement\" 90:8 90:9||t=\"problem\"\\nc=\"ap and lateral compression\" 33:7 33:10||t=\"test\"\\nc=\"bun\" 55:27 55:27||t=\"test\"\\nc=\"erythema\" 79:22 79:22||t=\"problem\"\\nc=\"apparent distress\" 21:10 21:11||t=\"problem\"\\nc=\"a 5 cm laceration\" 34:0 34:3||t=\"problem\"\\nc=\"further inspection\" 34:12 34:13||t=\"test\"\\nc=\"exposed underlying bone\" 34:16 34:18||t=\"problem\"\\nc=\"a left upper extremity splint\" 80:13 80:17||t=\"treatment\"\\nc=\"her c-spine collar\" 65:11 65:13||t=\"treatment\"\\nc=\"a left radial fracture open reduction\" 66:18 66:23||t=\"treatment\"\\nc=\"erythema\" 72:3 72:3||t=\"problem\"\\nc=\"left upper extremity examination\" 36:0 36:3||t=\"test\"\\nc=\"decreased sensation in the ulnar-nerve distribution\" 36:44 36:49||t=\"problem\"\\nc=\"gross deformities\" 36:6 36:7||t=\"problem\"\\nc=\"tenderness\" 36:9 36:9||t=\"problem\"\\nc=\"right thigh hematoma\" 61:29 61:31||t=\"problem\"\\nc=\"a duplex evaluation of the right lower extremity\" 63:8 63:15||t=\"test\"\\nc=\"major arterial or venous injury\" 63:25 63:29||t=\"problem\"\\nc=\"the patient \\'s right thigh hematoma\" 63:1 63:6||t=\"problem\"\\nc=\"internal fixation procedure\" 66:25 66:27||t=\"treatment\"\\nc=\"rubs\" 28:11 28:11||t=\"problem\"\\nc=\"wound care\" 81:15 81:16||t=\"treatment\"\\nc=\"the procedure\" 67:3 67:4||t=\"treatment\"\\nc=\"radial pulses\" 36:58 36:59||t=\"test\"\\nc=\"adaptive training\" 81:5 81:6||t=\"treatment\"\\nc=\"right lower extremity examination\" 37:0 37:3||t=\"test\"\\nc=\"mild swelling\" 37:5 37:6||t=\"problem\"\\nc=\"ecchymosis of the right posterior thigh\" 37:8 37:13||t=\"problem\"\\nc=\"a 3 cm laceration in the lower leg\" 37:16 37:23||t=\"problem\"\\nc=\"examination\" 32:0 32:0||t=\"test\"\\nc=\"purulence\" 79:24 79:24||t=\"problem\"\\nc=\"sutures\" 79:18 79:18||t=\"treatment\"\\nc=\"the patient \\'s right anterior tibial wound\" 79:0 79:6||t=\"problem\"\\nc=\"the patient \\'s lung examination\" 26:0 26:4||t=\"test\"\\nc=\"crepitus\" 26:16 26:16||t=\"problem\"\\nc=\"examination\" 19:0 19:0||t=\"test\"\\nc=\"confused\" 16:12 16:12||t=\"problem\"\\nc=\"head ct\" 45:0 45:1||t=\"test\"\\nc=\"intracranial bleeding\" 45:6 45:7||t=\"problem\"\\nc=\"a figure-of-eight clavicular splint\" 82:9 82:12||t=\"treatment\"\\nc=\"pain\" 101:2 101:2||t=\"problem\"\\nc=\"right leg laceration\" 61:34 61:36||t=\"problem\"\\nc=\"capillary refill\" 78:7 78:8||t=\"test\"\\nc=\"her left forearm scalp and right lower leg sutures\" 102:29 102:37||t=\"treatment\"\\nc=\"right upper extremity examination\" 35:0 35:3||t=\"test\"\\nc=\"repeat x-rays of her left forearm\" 102:19 102:24||t=\"test\"\\nc=\"diagnostic procedures\" 61:8 61:9||t=\"test\"\\nc=\"injuries\" 61:13 61:13||t=\"problem\"\\nc=\"a posterior scalp laceration\" 61:16 61:19||t=\"problem\"\\nc=\"left fractured clavicle\" 61:21 61:23||t=\"problem\"\\nc=\"left fractured radius\" 61:25 61:27||t=\"problem\"\\nc=\"staples\" 102:39 102:39||t=\"treatment\"\\nc=\"packed red blood cells\" 60:4 60:7||t=\"treatment\"\\nc=\"gross deformities\" 41:6 41:7||t=\"problem\"\\nc=\"mild swelling\" 76:0 76:1||t=\"problem\"\\nc=\"examination\" 26:27 26:27||t=\"test\"\\nc=\"a left clavicular deformity\" 26:19 26:22||t=\"problem\"\\nc=\"cardiac examination\" 28:0 28:1||t=\"test\"\\nc=\"gallops\" 28:14 28:14||t=\"problem\"\\nc=\"murmurs\" 28:9 28:9||t=\"problem\"\\nc=\"left midclavicular fracture\" 91:1 91:3||t=\"problem\"\\nc=\"motor , sensory , and vascular examinations\" 40:0 40:6||t=\"test\"\\nc=\"a postoperative hematocrit\" 67:8 67:10||t=\"test\"\\nc=\"saturation\" 74:19 74:19||t=\"problem\"\\nc=\"nontender\" 30:2 30:2||t=\"problem\"\\nc=\"blood pressure\" 20:4 20:5||t=\"test\"\\nc=\"left lower extremity examination\" 41:0 41:3||t=\"test\"\\nc=\"nondistended\" 30:4 30:4||t=\"problem\"\\nc=\"oxygen saturation\" 20:15 20:16||t=\"test\"\\nc=\"trauma series\" 44:0 44:1||t=\"test\"\\nc=\"a pelvic fracture\" 44:6 44:8||t=\"problem\"\\nc=\"activities of daily life\" 81:8 81:11||t=\"treatment\"\\nc=\"the scalp and right lower leg lacerations\" 68:3 68:9||t=\"problem\"\\nc=\"dry gauze\" 99:19 99:20||t=\"treatment\"\\nc=\"the left forearm and right lower leg wound\" 99:0 99:7||t=\"problem\"\\nc=\"gross deformities\" 39:1 39:2||t=\"problem\"\\nc=\"guaiac\" 32:2 32:2||t=\"test\"\\nc=\"percocet\" 101:0 101:0||t=\"treatment\"\\nc=\"glucose\" 55:33 55:33||t=\"test\"\\nc=\"radiographic studies\" 42:0 42:1||t=\"test\"\\nc=\"an inferior displaced left midclavicular fracture\" 42:3 42:8||t=\"problem\"\\nc=\"pneumothorax\" 43:0 43:0||t=\"problem\"\\nc=\"cervical spine imaging\" 47:0 47:2||t=\"test\"\\nc=\"cervical spine injury\" 47:7 47:9||t=\"problem\"\\nc=\"scalp laceration\" 100:0 100:1||t=\"problem\"\\nc=\"palpation in the mid forearm\" 36:11 36:15||t=\"test\"\\nc=\"palpation\" 73:21 73:21||t=\"test\"\\nc=\"mild tenderness\" 73:18 73:19||t=\"problem\"\\nc=\"a minor stepoff\" 73:14 73:16||t=\"problem\"\\nc=\"bicarbonate\" 55:24 55:24||t=\"test\"\\nc=\"creatinine\" 55:30 55:30||t=\"test\"\\nc=\"prior examinations\" 73:24 73:25||t=\"test\"\\nc=\"inr\" 55:39 55:39||t=\"test\"\\nc=\"left posterior forearm splint\" 98:10 98:13||t=\"treatment\"\\nc=\"the left forearm dressing\" 74:0 74:3||t=\"treatment\"\\nc=\"ptt\" 55:42 55:42||t=\"test\"\\nc=\"pain\" 95:9 95:9||t=\"problem\"\\nc=\"percocet\" 95:0 95:0||t=\"treatment\"\\nc=\"pt\" 55:36 55:36||t=\"test\"\\nc=\"respiratory rate\" 20:11 20:12||t=\"test\"\\nc=\"arterial blood gas\" 55:48 55:50||t=\"test\"\\nc=\"right anterior tibial laceration\" 93:1 93:4||t=\"problem\"\\nc=\"occipital scalp laceration\" 92:1 92:3||t=\"problem\"\\nc=\"urinalysis\" 56:0 56:0||t=\"test\"\\nc=\"light touch\" 36:34 36:35||t=\"test\"\\nc=\"amylase\" 55:45 55:45||t=\"test\"\\nc=\"fracture displacement\" 50:9 50:10||t=\"problem\"\\nc=\"toxicology screen\" 57:0 57:1||t=\"test\"\\nc=\"right foot and femur series\" 50:0 50:4||t=\"test\"\\nc=\"pelvic fracture\" 46:9 46:10||t=\"problem\"\\nc=\"crystalloid\" 60:0 60:0||t=\"treatment\"\\nc=\"mild pulmonary contusions\" 46:3 46:5||t=\"problem\"\\nc=\"left forearm and wrist series\" 51:0 51:4||t=\"test\"\\nc=\"transverse mid shaft radial fracture\" 51:6 51:10||t=\"problem\"\\nc=\"ulnar displacement\" 51:12 51:13||t=\"problem\"\\nc=\"trauma ct\" 46:0 46:1||t=\"test\"\\nc=\"red blood cells\" 56:9 56:11||t=\"test\"\\nc=\"her figure-of-eight clavicular splint\" 98:5 98:8||t=\"treatment\"\\nc=\"purulence\" 72:5 72:5||t=\"problem\"\\nc=\"temperature\" 20:0 20:0||t=\"test\"\\nc=\"diagnosis peritoneum lavage\" 52:0 52:2||t=\"test\"\\nc=\"intra-abdominal bleeding\" 52:11 52:12||t=\"problem\"\\nc=\"continued ecchymosis\" 73:7 73:8||t=\"problem\"\\nc=\"internal fixation\" 90:17 90:18||t=\"treatment\"\\nc=\"boston coma scale\" 22:0 22:2||t=\"test\"\\nc=\"right tibial-fibular film series\" 48:0 48:3||t=\"test\"\\nc=\"fracture displacement\" 48:8 48:9||t=\"problem\"\\nc=\"displacement\" 49:10 49:10||t=\"problem\"\\nc=\"fracture\" 49:8 49:8||t=\"problem\"\\nc=\"left radial open reduction\" 90:12 90:15||t=\"treatment\"\\nc=\"prior examination\" 73:11 73:12||t=\"test\"\\nc=\"left humerus film series\" 49:0 49:3||t=\"test\"\\nc=\"the c-spine collar\" 17:4 17:6||t=\"treatment\"\\nc=\"hematocrit\" 55:8 55:8||t=\"test\"\\nc=\"white blood cell\" 55:0 55:2||t=\"test\"\\nc=\"the patient \\'s left clavicular fracture\" 69:5 69:10||t=\"problem\"\\nc=\"pulse\" 20:8 20:8||t=\"test\"\\nc=\"auscultation\" 26:12 26:12||t=\"test\"\\nc=\"nonoperative treatment\" 69:0 69:1||t=\"treatment\"\\nc=\"hemoglobin\" 55:5 55:5||t=\"test\"\\nc=\"studies\" 54:0 54:0||t=\"test\"\\nc=\"chloride\" 55:21 55:21||t=\"test\"\\nc=\"further management\" 17:30 17:31||t=\"treatment\"\\nc=\"the patient \\'s head wound laceration\" 71:0 71:5||t=\"problem\"\\nc=\"intact staples\" 71:14 71:15||t=\"treatment\"\\nc=\"potassium\" 55:18 55:18||t=\"test\"\\nc=\"sodium\" 55:15 55:15||t=\"test\"\\nc=\"regular dressing changes\" 99:15 99:17||t=\"treatment\"\\nc=\"platelet count\" 55:11 55:12||t=\"test\"\\nc=\"a foley catheter\" 70:29 70:31||t=\"treatment\"\\n'"
            ],
            "application/vnd.google.colaboratory.intrinsic+json": {
              "type": "string"
            }
          },
          "metadata": {},
          "execution_count": 8
        }
      ],
      "id": "vvH55VVuhEMF"
    },
    {
      "cell_type": "code",
      "source": [
        "def get_tags(record):\n",
        "  note = all_notes[record].split('\\n')\n",
        "  number_of_lines = len(note)\n",
        "\n",
        "  all_note = []\n",
        "  all_tag = []\n",
        "  note_lines = [n.split() for n in note]\n",
        "  tag_list = [['O' for j in i] for i in note_lines]\n",
        "\n",
        "  concept_lines = all_concepts[record].split('\\n')\n",
        "  for i in concept_lines:\n",
        "    if len(i) > 0:\n",
        "\n",
        "      # print(i)\n",
        "      c = re.findall(r'c=\\\".+\"',i)\n",
        "      stuff = re.findall('[0-9]{1,3}:[0-9]{1,3}\\s[0-9]{1,3}:[0-9]{1,3}\\|\\|',i)[0]\n",
        "\n",
        "      line = re.findall(r'[0-9]{1,3}:',stuff)\n",
        "      line1 = int(line[0][:-1])\n",
        "      line2 = int(line[1][:-1])\n",
        "\n",
        "      indexes = re.findall(r':[0-9]{1,3}',stuff)\n",
        "      ind1 = int(indexes[0][1:])\n",
        "      ind2 = int(indexes[1][1:])\n",
        "\n",
        "      t = re.findall(r't=\\\"[a-z]+\\\"',i)\n",
        "      tag = t[0][3:-1]\n",
        "\n",
        "      for line in range(line1,line2+1):\n",
        "        for index in range(ind1,ind2+1):\n",
        "          if line==line1 and index==ind1:\n",
        "            tag_list[line-1][index] = 'B' + '-' + tag\n",
        "          else:\n",
        "            tag_list[line-1][index] = 'I' + '-' + tag\n",
        "\n",
        "  for t in tag_list:\n",
        "    for ti in t:\n",
        "      all_tag.append(ti)\n",
        "\n",
        "  for n in note_lines:\n",
        "    for ni in n:\n",
        "      all_note.append(ni)\n",
        "  return all_note, all_tag\n",
        "\n",
        "records_dict = {}\n",
        "for record in all_notes.keys():\n",
        "  note,tag = get_tags(record)\n",
        "  the_dict = {'words':note,'tags':tag}\n",
        "  records_dict[record] = the_dict"
      ],
      "metadata": {
        "id": "hwkmCPfXhdRk"
      },
      "execution_count": null,
      "outputs": [],
      "id": "hwkmCPfXhdRk"
    },
    {
      "cell_type": "code",
      "execution_count": null,
      "metadata": {
        "id": "yVaR5NTV4FQD",
        "outputId": "b20842ac-7b88-4ca9-ee95-217debe7fa68",
        "colab": {
          "base_uri": "https://localhost:8080/"
        }
      },
      "outputs": [
        {
          "output_type": "stream",
          "name": "stdout",
          "text": [
            "['01909607', 'Admission', 'Date', ':', '2010-06-28', 'Discharge', 'Date', ':', '2010-07-01', 'Date', 'of', 'Birth', ':', '1990-02-01', 'Sex', ':', 'F', 'Service', ':', 'ORTHOPEDIC', 'HISTORY', 'OF', 'THE', 'PRESENT', 'ILLNESS', ':', 'This', 'is', 'a', '20-year-old', 'female', 'with', 'no', 'significant', 'past', 'medical', 'history', ',', 'who', 'was', 'the', 'unrestrained', 'passenger', 'in', 'a', 'high', 'speed', 'rollover', 'motor', 'vehicle', 'accident', 'on', '2010-06-27', '.', 'By', 'report', ',', 'the', 'patient', 'was', 'ejected', 'from', 'the', 'vehicle', 'on', 'impact', 'and', 'found', 'curled', 'in', 'the', 'fetal', 'position', 'at', 'the', 'rear', 'of', 'the', 'vehicle', 'at', 'the', 'scene', '.', 'The', 'vehicle', 'was', 'noted', 'to', 'be', 'extensively', 'damaged', '.', 'By', 'report', ',', 'the', 'patient', 'was', 'noted', 'to', 'be', 'awake', ',', 'but', 'confused', 'at', 'the', 'scene', 'of', 'the', 'accident', 'with', 'no', 'memory', 'of', 'the', 'incident', '.', 'She', 'was', 'immobilized', 'in', 'the', 'C-spine', 'collar', 'at', 'the', 'scene', 'of', 'the', 'accident', 'and', 'subsequently', 'transported', 'by', 'EMS', 'to', 'the', 'New', 'England', 'Sinai', 'Hospital', '&', 'Rehab', 'Center', 'Emergency', 'Department', 'for', 'further', 'management', '.', 'PHYSICAL', 'EXAMINATION', ':', 'Examination', 'on', 'presentation', 'to', 'the', 'emergency', 'room', 'revealed', 'the', 'following', ':', 'Temperature', '35.4', 'Celsius', ',', 'blood', 'pressure', '116/63', ',', 'pulse', '105', ',', 'respiratory', 'rate', '18', ',', 'oxygen', 'saturation', '98%', 'on', 'room', 'air', '.', 'The', 'patient', 'was', 'alert', 'and', 'oriented', 'times', 'three', 'in', 'no', 'apparent', 'distress', '.', 'Boston', 'Coma', 'Scale', 'of', '15', '.', 'Tympanic', 'membranes', 'were', 'noted', 'to', 'be', 'clear', '.', 'Pupils', 'were', 'equal', ',', 'round', ',', 'reactive', 'to', 'light', 'at', 'approximately', '4', 'mm', '.', 'The', 'patient', \"'s\", 'trachea', 'was', 'noted', 'to', 'be', 'midline', '.', 'The', 'patient', \"'s\", 'lung', 'examination', 'revealed', 'the', 'lungs', 'to', 'be', 'clear', 'to', 'auscultation', 'bilaterally', ',', 'no', 'crepitus', ',', 'and', 'a', 'left', 'clavicular', 'deformity', 'was', 'grossly', 'apparent', 'on', 'examination', '.', 'CARDIAC', ':', 'Cardiac', 'examination', 'demonstrated', 'regular', 'rate', 'and', 'rhythm', ',', 'no', 'murmurs', ',', 'rubs', ',', 'or', 'gallops', '.', 'ABDOMEN', ':', 'Soft', ',', 'nontender', ',', 'nondistended', '.', 'RECTAL', ':', 'Examination', 'was', 'guaiac', 'negative', 'with', 'good', 'rectal', 'tone', '.', 'The', 'patient', \"'s\", 'pelvis', 'was', 'stable', 'to', 'AP', 'and', 'lateral', 'compression', '.', 'A', '5', 'cm', 'laceration', 'was', 'noted', 'over', 'the', 'patient', \"'s\", 'occiput', 'on', 'further', 'inspection', 'with', 'no', 'exposed', 'underlying', 'bone', '.', 'Right', 'upper', 'extremity', 'examination', 'demonstrated', 'intact', 'motor', ',', 'sensory', ',', 'and', 'vascular', 'function', '.', 'Left', 'upper', 'extremity', 'examination', 'demonstrated', 'no', 'gross', 'deformities', ',', 'tenderness', 'to', 'palpation', 'in', 'the', 'mid', 'forearm', ',', 'intact', 'motor', 'function', 'in', 'the', 'median', ',', 'radial', ',', 'and', 'ulnar', 'nerve', 'distributions', ',', 'intact', 'sensation', 'to', 'light', 'touch', 'in', 'the', 'median', 'and', 'radial', 'nerve', 'distributions', ',', 'decreased', 'sensation', 'in', 'the', 'ulnar-nerve', 'distribution', ',', 'warm', 'and', 'well', 'perfused', 'limb', 'with', '2+', 'radial', 'pulses', '.', 'Right', 'lower', 'extremity', 'examination', 'demonstrated', 'mild', 'swelling', 'and', 'ecchymosis', 'of', 'the', 'right', 'posterior', 'thigh', 'and', 'approximately', 'a', '3', 'cm', 'laceration', 'in', 'the', 'lower', 'leg', ',', 'expressive', 'of', 'moderate', 'amounts', 'of', 'standard', 'sterile', 'fashion', '.', 'No', 'gross', 'deformities', '.', 'Motor', ',', 'sensory', ',', 'and', 'vascular', 'examinations', 'were', 'intact', 'in', 'all', 'distributions', '.', 'Left', 'lower', 'extremity', 'examination', 'demonstrated', 'no', 'gross', 'deformities', 'and', 'intact', 'motor', ',', 'sensory', ',', 'and', 'vascular', 'examinations', 'in', 'all', 'distributions', '.', 'Radiographic', 'studies', 'demonstrated', 'an', 'inferior', 'displaced', 'left', 'midclavicular', 'fracture', ',', 'no', 'evidence', 'of', 'pneumothorax', '.', 'Trauma', 'series', 'demonstrated', 'no', 'evidence', 'of', 'a', 'pelvic', 'fracture', '.', 'Head', 'CT', 'demonstrated', 'no', 'evidence', 'of', 'intracranial', 'bleeding', '.', 'Trauma', 'CT', 'demonstrated', 'mild', 'pulmonary', 'contusions', ',', 'but', 'no', 'pelvic', 'fracture', '.', 'Cervical', 'spine', 'imaging', 'demonstrated', 'no', 'evidence', 'of', 'cervical', 'spine', 'injury', '.', 'Right', 'tibial-fibular', 'film', 'series', 'demonstrated', 'no', 'evidence', 'of', 'fracture', 'displacement', '.', 'Left', 'humerus', 'film', 'series', 'demonstrated', 'no', 'evidence', 'of', 'fracture', 'or', 'displacement', '.', 'Right', 'foot', 'and', 'femur', 'series', 'demonstrated', 'no', 'evidence', 'of', 'fracture', 'displacement', '.', 'Left', 'forearm', 'and', 'wrist', 'series', 'demonstrated', 'transverse', 'mid', 'shaft', 'radial', 'fracture', 'with', 'ulnar', 'displacement', '.', 'Diagnosis', 'peritoneum', 'lavage', 'times', 'two', 'was', 'negative', 'for', 'any', 'signs', 'of', 'intra-abdominal', 'bleeding', '.', 'LABORATORY', 'DATA', ':', 'Studies', 'on', 'admission', 'revealed', 'the', 'following', ':', 'White', 'blood', 'cell', '12.9', ',', 'hemoglobin', '11.5', ',', 'hematocrit', '32.8', ',', 'platelet', 'count', '197,000', ',', 'sodium', '141', ',', 'potassium', '3.6', ',', 'chloride', '110', ',', 'bicarbonate', '21', ',', 'BUN', '20', ',', 'creatinine', '0.7', ',', 'glucose', '189', ',', 'PT', '13.3', ',', 'INR', '1.2', ',', 'PTT', '30.0', ',', 'amylase', '57', ',', 'arterial', 'blood', 'gas', '7.32', ',', '35', ',', '159', ',', '19', ',', '-7', '.', 'Urinalysis', 'was', 'within', 'normal', 'limits', 'with', '6', 'to', '10', 'red', 'blood', 'cells', '.', 'Toxicology', 'screen', 'was', 'negative', '.', 'HOSPITAL', 'COURSE', ':', 'The', 'patient', 'was', 'evaluated', 'by', 'the', 'Trauma', 'Service', 'in', 'the', 'emergency', 'room', ',', 'where', 'she', 'received', 'four', 'liters', 'crystalloid', 'and', 'four', 'units', 'packed', 'red', 'blood', 'cells', 'with', 'good', 'response', '.', 'In', 'addition', ',', 'the', 'patient', 'received', 'the', 'above-described', 'diagnostic', 'procedures', ',', 'which', 'demonstrated', 'injuries', 'limited', 'to', 'a', 'posterior', 'scalp', 'laceration', ',', 'left', 'fractured', 'clavicle', ',', 'left', 'fractured', 'radius', ',', 'right', 'thigh', 'hematoma', ',', 'and', 'right', 'leg', 'laceration', '.', 'The', 'patient', 'was', 'subsequently', 'admitted', 'to', 'the', 'Trauma', 'Service', 'on', '2010-06-28', 'under', 'the', 'direction', 'of', 'Dr.', 'Lowery', '.', 'Given', 'the', 'patient', \"'s\", 'right', 'thigh', 'hematoma', ',', 'a', 'duplex', 'evaluation', 'of', 'the', 'right', 'lower', 'extremity', 'was', 'performed', 'on', '2010-06-28', 'and', 'demonstrated', 'no', 'evidence', 'of', 'major', 'arterial', 'or', 'venous', 'injury', 'in', 'the', 'level', 'of', 'the', 'right', 'inguinal', 'region', '.', 'On', '06-28', ',', 'the', 'patient', 'was', 'also', 'cleared', 'for', 'removal', 'of', 'her', 'C-spine', 'collar', 'and', 'deemed', 'stable', 'for', 'transfer', 'to', 'the', 'Orthopedic', 'Service', 'under', 'the', 'direction', 'of', 'Dr.', 'Ronda', 'Lopez', '.', 'The', 'patient', 'remained', 'stable', 'through', '2010-06-29', 'at', 'which', 'point', 'she', 'was', 'sent', 'to', 'the', 'operating', 'room', 'to', 'undergo', 'a', 'left', 'radial', 'fracture', 'open', 'reduction', 'and', 'internal', 'fixation', 'procedure', '.', 'The', 'patient', 'tolerated', 'the', 'procedure', 'well', 'and', 'demonstrated', 'a', 'postoperative', 'hematocrit', 'of', '40.9', '.', 'Of', 'note', ',', 'the', 'scalp', 'and', 'right', 'lower', 'leg', 'lacerations', 'were', 'closed', 'primarily', 'by', 'the', 'trauma', 'team', 'on', 'admission', 'and', 'on', 'hospital', 'day', '#1', 'were', 'noted', 'to', 'be', 'clean', ',', 'dry', ',', 'and', 'intact', '.', 'Nonoperative', 'treatment', 'was', 'elected', 'for', 'the', 'patient', \"'s\", 'left', 'clavicular', 'fracture', '.', 'On', 'postoperative', 'day', '#1', ',', '2010-06-30', ',', 'the', 'patient', 'was', 'noted', 'to', 'be', 'clinically', 'stable', ',', 'tolerating', 'oral', 'intake', ',', 'and', 'expressive', 'of', 'adequate', 'amounts', 'of', 'urine', 'independent', 'of', 'a', 'Foley', 'catheter', '.', 'The', 'patient', \"'s\", 'head', 'wound', 'laceration', 'was', 'noted', 'to', 'be', 'clean', 'and', 'dry', 'with', 'intact', 'staples', '.', 'There', 'was', 'no', 'erythema', 'or', 'purulence', '.', 'The', 'left', 'clavicle', 'was', 'noted', 'to', 'have', 'continued', 'ecchymosis', 'decreased', 'from', 'prior', 'examination', 'with', 'a', 'minor', 'stepoff', 'and', 'mild', 'tenderness', 'to', 'palpation', 'decreased', 'from', 'prior', 'examinations', '.', 'The', 'left', 'forearm', 'dressing', 'was', 'noted', 'to', 'be', 'in', 'place', ',', 'clean', ',', 'dry', ',', 'and', 'intact', 'with', 'no', 'saturation', '.', 'The', 'patient', 'was', 'noted', 'to', 'be', 'able', 'to', 'wiggle', 'her', 'fingers', 'with', 'intact', 'flexor', ',', 'extensor', ',', 'abductor', ',', 'and', 'adductor', 'function', '.', 'Mild', 'swelling', 'was', 'noted', 'in', 'the', 'left', 'hand', '.', 'Sensation', 'was', 'intact', 'in', 'the', 'median', ',', 'radius', ',', 'and', 'ulnar-nerve', 'distributions', '.', 'Fingers', 'were', 'warm', 'and', 'well', 'perfused', 'with', 'capillary', 'refill', 'less', 'than', '3', 'seconds', '.', 'The', 'patient', \"'s\", 'right', 'anterior', 'tibial', 'wound', 'was', 'noted', 'to', 'be', 'clean', ',', 'dry', ',', 'and', 'intact', 'with', 'sutures', 'intact', 'and', 'no', 'erythema', 'or', 'purulence', 'noted', '.', 'On', '06-30', ',', 'the', 'patient', 'was', 'evaluated', 'by', 'Occupational', 'Therapy', 'and', 'fitted', 'for', 'a', 'left', 'upper', 'extremity', 'splint', '.', 'The', 'patient', 'was', 'also', 'administered', 'adaptive', 'training', 'for', 'activities', 'of', 'daily', 'life', 'and', 'advised', 'regarding', 'wound', 'care', '.', 'In', 'addition', ',', 'the', 'patient', 'was', 'also', 'fitted', 'with', 'a', 'figure-of-eight', 'clavicular', 'splint', 'and', 'instructed', 'in', 'its', 'proper', 'use', '.', 'On', '2010-07-01', ',', 'the', 'patient', 'was', 'discharged', 'from', 'the', 'hospital', 'with', 'instructions', 'for', 'follow', 'up', 'care', 'on', 'return', 'to', 'the', 'United', 'Kingdom', '.', 'CONDITION', 'ON', 'DISCHARGE', ':', 'The', 'patient', 'is', 'to', 'be', 'discharged', 'to', 'home', '.', 'DISCHARGE', 'STATUS', ':', 'Stable', '.', 'DIAGNOSIS', ':', '1.', 'Left', 'transverse', 'mid', 'shaft', 'radial', 'fracture', 'with', 'ulnar', 'displacement', 'status', 'post', 'left', 'radial', 'open', 'reduction', 'and', 'internal', 'fixation', '.', '2.', 'Left', 'midclavicular', 'fracture', 'managed', 'nonoperatively', '.', '3.', 'Occipital', 'scalp', 'laceration', '.', '4.', 'Right', 'anterior', 'tibial', 'laceration', '.', 'DISCHARGE', 'MEDICATIONS', ':', 'Percocet', 'one', 'to', 'two', 'tablets', 'PO', 'q.4h.', 'to', '6h.p.r.n.', 'pain', '.', 'FOLLOW-UP', 'CARE', ':', 'The', 'patient', 'is', 'medically', 'cleared', 'for', 'a', 'flight', 'to', 'return', 'to', 'her', 'home', 'in', 'the', 'United', 'Kingdom', '.', 'The', 'patient', 'is', 'to', 'maintain', 'her', 'figure-of-eight', 'clavicular', 'splint', 'and', 'left', 'posterior', 'forearm', 'splint', 'in', 'place', 'for', 'fourteen', 'days', 'following', 'discharge', '.', 'The', 'left', 'forearm', 'and', 'right', 'lower', 'leg', 'wound', 'should', 'be', 'kept', 'clean', 'and', 'dry', 'with', 'regular', 'dressing', 'changes', 'with', 'dry', 'gauze', 'once', 'per', 'day', '.', 'Scalp', 'laceration', 'should', 'be', 'kept', 'clean', 'and', 'dry', 'for', 'five', 'days', 'following', 'discharge', 'after', 'which', 'point', 'the', 'patient', 'may', 'once', 'wash', 'her', 'hair', '.', 'Percocet', 'for', 'pain', 'as', 'needed', '.', 'The', 'patient', 'is', 'to', 'followup', 'with', 'an', 'orthopedist', 'in', 'the', 'United', 'Kingdom', 'fourteen', 'days', 'following', 'discharge', 'at', 'which', 'point', 'repeat', 'x-rays', 'of', 'her', 'left', 'forearm', 'should', 'be', 'obtained', 'and', 'her', 'left', 'forearm', 'scalp', 'and', 'right', 'lower', 'leg', 'sutures', 'and', 'staples', 'may', 'be', 'removed', '.', 'Questions', 'regarding', 'follow', 'up', 'may', 'be', 'referred', 'to', 'Dr.', 'Ronda', 'Lopez', 'at', 'the', 'Ayer', 'Orthopedic', 'Group', '.', 'Telephone', '#:', '(', '658', ')', '842-8661', '.', 'Ortiz', 'V', 'Baugher', ',', 'M.D.', '75-285', 'Dictated', 'By', ':', 'Catherine', 'K', 'Thomas', ',', 'M.D.', 'MEDQUIST36', 'D', ':', '2010-06-30', '17:18', 'T', ':', '2010-06-30', '17:39', 'JOB', '#:', '03326', 'Signed', 'electronically', 'by', ':', 'DR.', 'Kisha', 'Jones', 'on', ':', 'Jose', '2010-07-01', '8:27', 'AM', '(', 'End', 'of', 'Report', ')']\n",
            "['O', 'O', 'O', 'O', 'O', 'O', 'O', 'O', 'O', 'O', 'O', 'O', 'O', 'O', 'O', 'O', 'O', 'O', 'O', 'O', 'O', 'O', 'O', 'O', 'O', 'O', 'O', 'O', 'O', 'O', 'O', 'O', 'O', 'O', 'O', 'O', 'O', 'O', 'O', 'O', 'O', 'O', 'O', 'O', 'O', 'O', 'O', 'O', 'O', 'O', 'O', 'O', 'O', 'O', 'O', 'O', 'O', 'O', 'O', 'O', 'O', 'O', 'O', 'O', 'O', 'O', 'O', 'O', 'O', 'O', 'O', 'O', 'O', 'O', 'O', 'O', 'O', 'O', 'O', 'O', 'O', 'O', 'O', 'O', 'O', 'O', 'O', 'O', 'O', 'O', 'O', 'O', 'O', 'O', 'O', 'O', 'O', 'O', 'O', 'O', 'O', 'O', 'O', 'O', 'B-problem', 'O', 'O', 'O', 'O', 'O', 'O', 'O', 'O', 'O', 'O', 'O', 'O', 'O', 'O', 'O', 'O', 'O', 'B-treatment', 'I-treatment', 'I-treatment', 'O', 'O', 'O', 'O', 'O', 'O', 'O', 'O', 'O', 'O', 'O', 'O', 'O', 'O', 'O', 'O', 'O', 'O', 'O', 'O', 'O', 'O', 'O', 'B-treatment', 'I-treatment', 'O', 'O', 'O', 'O', 'B-test', 'O', 'O', 'O', 'O', 'O', 'O', 'O', 'O', 'O', 'O', 'B-test', 'O', 'O', 'O', 'B-test', 'I-test', 'O', 'O', 'B-test', 'O', 'O', 'B-test', 'I-test', 'O', 'O', 'B-test', 'I-test', 'O', 'O', 'O', 'O', 'O', 'O', 'O', 'O', 'O', 'O', 'O', 'O', 'O', 'O', 'O', 'B-problem', 'I-problem', 'O', 'B-test', 'I-test', 'I-test', 'O', 'O', 'O', 'O', 'O', 'O', 'O', 'O', 'O', 'O', 'O', 'O', 'O', 'O', 'O', 'O', 'O', 'O', 'O', 'O', 'O', 'O', 'O', 'O', 'O', 'O', 'O', 'O', 'O', 'O', 'O', 'O', 'O', 'O', 'O', 'B-test', 'I-test', 'I-test', 'I-test', 'I-test', 'O', 'O', 'O', 'O', 'O', 'O', 'O', 'B-test', 'O', 'O', 'O', 'B-problem', 'O', 'O', 'B-problem', 'I-problem', 'I-problem', 'I-problem', 'O', 'O', 'O', 'O', 'B-test', 'O', 'O', 'O', 'B-test', 'I-test', 'O', 'O', 'O', 'O', 'O', 'O', 'O', 'B-problem', 'O', 'B-problem', 'O', 'O', 'B-problem', 'O', 'O', 'O', 'O', 'O', 'B-problem', 'O', 'B-problem', 'O', 'O', 'O', 'B-test', 'O', 'B-test', 'O', 'O', 'O', 'O', 'O', 'O', 'O', 'O', 'O', 'O', 'O', 'O', 'O', 'B-test', 'I-test', 'I-test', 'I-test', 'O', 'B-problem', 'I-problem', 'I-problem', 'I-problem', 'O', 'O', 'O', 'O', 'O', 'O', 'O', 'O', 'B-test', 'I-test', 'O', 'O', 'B-problem', 'I-problem', 'I-problem', 'O', 'B-test', 'I-test', 'I-test', 'I-test', 'O', 'O', 'O', 'O', 'O', 'O', 'O', 'O', 'O', 'O', 'B-test', 'I-test', 'I-test', 'I-test', 'O', 'O', 'B-problem', 'I-problem', 'O', 'B-problem', 'O', 'B-test', 'I-test', 'I-test', 'I-test', 'I-test', 'O', 'O', 'O', 'O', 'O', 'O', 'O', 'O', 'O', 'O', 'O', 'O', 'O', 'O', 'O', 'O', 'O', 'O', 'B-test', 'I-test', 'O', 'O', 'O', 'O', 'O', 'O', 'O', 'O', 'B-problem', 'I-problem', 'I-problem', 'I-problem', 'I-problem', 'I-problem', 'O', 'O', 'O', 'O', 'O', 'O', 'O', 'O', 'B-test', 'I-test', 'O', 'B-test', 'I-test', 'I-test', 'I-test', 'O', 'B-problem', 'I-problem', 'O', 'B-problem', 'I-problem', 'I-problem', 'I-problem', 'I-problem', 'I-problem', 'O', 'O', 'B-problem', 'I-problem', 'I-problem', 'I-problem', 'I-problem', 'I-problem', 'I-problem', 'I-problem', 'O', 'O', 'O', 'O', 'O', 'O', 'O', 'O', 'O', 'O', 'O', 'B-problem', 'I-problem', 'O', 'B-test', 'I-test', 'I-test', 'I-test', 'I-test', 'I-test', 'I-test', 'O', 'O', 'O', 'O', 'O', 'O', 'B-test', 'I-test', 'I-test', 'I-test', 'O', 'O', 'B-problem', 'I-problem', 'O', 'O', 'O', 'O', 'O', 'O', 'O', 'O', 'O', 'O', 'O', 'O', 'O', 'B-test', 'I-test', 'O', 'B-problem', 'I-problem', 'I-problem', 'I-problem', 'I-problem', 'I-problem', 'O', 'O', 'O', 'O', 'B-problem', 'O', 'B-test', 'I-test', 'O', 'O', 'O', 'O', 'B-problem', 'I-problem', 'I-problem', 'O', 'B-test', 'I-test', 'O', 'O', 'O', 'O', 'B-problem', 'I-problem', 'O', 'B-test', 'I-test', 'O', 'B-problem', 'I-problem', 'I-problem', 'O', 'O', 'O', 'B-problem', 'I-problem', 'O', 'B-test', 'I-test', 'I-test', 'O', 'O', 'O', 'O', 'B-problem', 'I-problem', 'I-problem', 'O', 'B-test', 'I-test', 'I-test', 'I-test', 'O', 'O', 'O', 'O', 'B-problem', 'I-problem', 'O', 'B-test', 'I-test', 'I-test', 'I-test', 'O', 'O', 'O', 'O', 'B-problem', 'O', 'B-problem', 'O', 'B-test', 'I-test', 'I-test', 'I-test', 'I-test', 'O', 'O', 'O', 'O', 'B-problem', 'I-problem', 'O', 'B-test', 'I-test', 'I-test', 'I-test', 'I-test', 'O', 'B-problem', 'I-problem', 'I-problem', 'I-problem', 'I-problem', 'O', 'B-problem', 'I-problem', 'O', 'B-test', 'I-test', 'I-test', 'O', 'O', 'O', 'O', 'O', 'O', 'O', 'O', 'B-problem', 'I-problem', 'O', 'O', 'O', 'O', 'B-test', 'O', 'O', 'O', 'O', 'O', 'O', 'B-test', 'I-test', 'I-test', 'O', 'O', 'B-test', 'O', 'O', 'B-test', 'O', 'O', 'B-test', 'I-test', 'O', 'O', 'B-test', 'O', 'O', 'B-test', 'O', 'O', 'B-test', 'O', 'O', 'B-test', 'O', 'O', 'B-test', 'O', 'O', 'B-test', 'O', 'O', 'B-test', 'O', 'O', 'B-test', 'O', 'O', 'B-test', 'O', 'O', 'B-test', 'O', 'O', 'B-test', 'O', 'O', 'B-test', 'I-test', 'I-test', 'O', 'O', 'O', 'O', 'O', 'O', 'O', 'O', 'O', 'O', 'B-test', 'O', 'O', 'O', 'O', 'O', 'O', 'O', 'O', 'B-test', 'I-test', 'I-test', 'O', 'B-test', 'I-test', 'O', 'O', 'O', 'O', 'O', 'O', 'O', 'O', 'O', 'O', 'O', 'O', 'O', 'O', 'O', 'O', 'O', 'O', 'O', 'O', 'O', 'O', 'O', 'O', 'B-treatment', 'O', 'O', 'O', 'B-treatment', 'I-treatment', 'I-treatment', 'I-treatment', 'O', 'O', 'O', 'O', 'O', 'O', 'O', 'O', 'O', 'O', 'O', 'O', 'B-test', 'I-test', 'O', 'O', 'O', 'B-problem', 'O', 'O', 'B-problem', 'I-problem', 'I-problem', 'I-problem', 'O', 'B-problem', 'I-problem', 'I-problem', 'O', 'B-problem', 'I-problem', 'I-problem', 'O', 'B-problem', 'I-problem', 'I-problem', 'O', 'O', 'B-problem', 'I-problem', 'I-problem', 'O', 'O', 'O', 'O', 'O', 'O', 'O', 'O', 'O', 'O', 'O', 'O', 'O', 'O', 'O', 'O', 'O', 'O', 'O', 'O', 'B-problem', 'I-problem', 'I-problem', 'I-problem', 'I-problem', 'I-problem', 'O', 'B-test', 'I-test', 'I-test', 'I-test', 'I-test', 'I-test', 'I-test', 'I-test', 'O', 'O', 'O', 'O', 'O', 'O', 'O', 'O', 'O', 'B-problem', 'I-problem', 'I-problem', 'I-problem', 'I-problem', 'O', 'O', 'O', 'O', 'O', 'O', 'O', 'O', 'O', 'O', 'O', 'O', 'O', 'O', 'O', 'O', 'O', 'O', 'O', 'O', 'B-treatment', 'I-treatment', 'I-treatment', 'O', 'O', 'O', 'O', 'O', 'O', 'O', 'O', 'O', 'O', 'O', 'O', 'O', 'O', 'O', 'O', 'O', 'O', 'O', 'O', 'O', 'O', 'O', 'O', 'O', 'O', 'O', 'O', 'O', 'O', 'O', 'O', 'O', 'O', 'O', 'B-treatment', 'I-treatment', 'I-treatment', 'I-treatment', 'I-treatment', 'I-treatment', 'O', 'B-treatment', 'I-treatment', 'I-treatment', 'O', 'O', 'O', 'O', 'B-treatment', 'I-treatment', 'O', 'O', 'O', 'B-test', 'I-test', 'I-test', 'O', 'O', 'O', 'O', 'O', 'O', 'B-problem', 'I-problem', 'I-problem', 'I-problem', 'I-problem', 'I-problem', 'I-problem', 'O', 'O', 'O', 'O', 'O', 'O', 'O', 'O', 'O', 'O', 'O', 'O', 'O', 'O', 'O', 'O', 'O', 'O', 'O', 'O', 'O', 'O', 'O', 'O', 'O', 'B-treatment', 'I-treatment', 'O', 'O', 'O', 'B-problem', 'I-problem', 'I-problem', 'I-problem', 'I-problem', 'I-problem', 'O', 'O', 'O', 'O', 'O', 'O', 'O', 'O', 'O', 'O', 'O', 'O', 'O', 'O', 'O', 'O', 'O', 'O', 'O', 'O', 'O', 'O', 'O', 'O', 'O', 'O', 'O', 'O', 'O', 'O', 'B-treatment', 'I-treatment', 'I-treatment', 'O', 'B-problem', 'I-problem', 'I-problem', 'I-problem', 'I-problem', 'I-problem', 'O', 'O', 'O', 'O', 'O', 'O', 'O', 'O', 'B-treatment', 'I-treatment', 'O', 'O', 'O', 'O', 'B-problem', 'O', 'B-problem', 'O', 'O', 'O', 'O', 'O', 'O', 'O', 'O', 'B-problem', 'I-problem', 'O', 'O', 'B-test', 'I-test', 'O', 'B-problem', 'I-problem', 'I-problem', 'O', 'B-problem', 'I-problem', 'O', 'B-test', 'O', 'O', 'B-test', 'I-test', 'O', 'B-treatment', 'I-treatment', 'I-treatment', 'I-treatment', 'O', 'O', 'O', 'O', 'O', 'O', 'O', 'O', 'O', 'O', 'O', 'O', 'O', 'O', 'O', 'B-problem', 'O', 'O', 'O', 'O', 'O', 'O', 'O', 'O', 'O', 'O', 'O', 'O', 'O', 'O', 'O', 'O', 'O', 'O', 'O', 'O', 'O', 'O', 'O', 'O', 'B-problem', 'I-problem', 'O', 'O', 'O', 'O', 'O', 'O', 'O', 'O', 'O', 'O', 'O', 'O', 'O', 'O', 'O', 'O', 'O', 'O', 'O', 'O', 'O', 'O', 'O', 'O', 'O', 'O', 'O', 'B-test', 'I-test', 'O', 'O', 'O', 'O', 'O', 'B-problem', 'I-problem', 'I-problem', 'I-problem', 'I-problem', 'I-problem', 'I-problem', 'O', 'O', 'O', 'O', 'O', 'O', 'O', 'O', 'O', 'O', 'O', 'B-treatment', 'O', 'O', 'O', 'B-problem', 'O', 'B-problem', 'O', 'O', 'O', 'O', 'O', 'O', 'O', 'O', 'O', 'O', 'O', 'O', 'O', 'O', 'O', 'B-treatment', 'I-treatment', 'I-treatment', 'I-treatment', 'I-treatment', 'O', 'O', 'O', 'O', 'O', 'O', 'B-treatment', 'I-treatment', 'O', 'B-treatment', 'I-treatment', 'I-treatment', 'I-treatment', 'O', 'O', 'O', 'B-treatment', 'I-treatment', 'O', 'O', 'O', 'O', 'O', 'O', 'O', 'O', 'O', 'O', 'B-treatment', 'I-treatment', 'I-treatment', 'I-treatment', 'O', 'O', 'O', 'O', 'O', 'O', 'O', 'O', 'O', 'O', 'O', 'O', 'O', 'O', 'O', 'O', 'O', 'O', 'O', 'O', 'O', 'O', 'O', 'O', 'O', 'O', 'O', 'O', 'O', 'O', 'O', 'O', 'O', 'O', 'O', 'O', 'O', 'O', 'O', 'O', 'O', 'O', 'O', 'O', 'O', 'O', 'O', 'O', 'O', 'O', 'O', 'B-problem', 'I-problem', 'I-problem', 'I-problem', 'I-problem', 'I-problem', 'O', 'B-problem', 'I-problem', 'O', 'O', 'B-treatment', 'I-treatment', 'I-treatment', 'I-treatment', 'O', 'B-treatment', 'I-treatment', 'O', 'O', 'B-problem', 'I-problem', 'I-problem', 'O', 'O', 'O', 'O', 'B-problem', 'I-problem', 'I-problem', 'O', 'O', 'B-problem', 'I-problem', 'I-problem', 'I-problem', 'O', 'O', 'O', 'O', 'B-treatment', 'O', 'O', 'O', 'O', 'O', 'O', 'O', 'O', 'B-problem', 'O', 'O', 'O', 'O', 'O', 'O', 'O', 'O', 'O', 'O', 'O', 'O', 'O', 'O', 'O', 'O', 'O', 'O', 'O', 'O', 'O', 'O', 'O', 'O', 'O', 'O', 'O', 'B-treatment', 'I-treatment', 'I-treatment', 'I-treatment', 'O', 'B-treatment', 'I-treatment', 'I-treatment', 'I-treatment', 'O', 'O', 'O', 'O', 'O', 'O', 'O', 'O', 'B-problem', 'I-problem', 'I-problem', 'I-problem', 'I-problem', 'I-problem', 'I-problem', 'I-problem', 'O', 'O', 'O', 'O', 'O', 'O', 'O', 'B-treatment', 'I-treatment', 'I-treatment', 'O', 'B-treatment', 'I-treatment', 'O', 'O', 'O', 'O', 'B-problem', 'I-problem', 'O', 'O', 'O', 'O', 'O', 'O', 'O', 'O', 'O', 'O', 'O', 'O', 'O', 'O', 'O', 'O', 'O', 'O', 'O', 'O', 'O', 'O', 'B-treatment', 'O', 'B-problem', 'O', 'O', 'O', 'O', 'O', 'O', 'O', 'O', 'O', 'O', 'O', 'O', 'O', 'O', 'O', 'O', 'O', 'O', 'O', 'O', 'O', 'O', 'B-test', 'I-test', 'I-test', 'I-test', 'I-test', 'I-test', 'O', 'O', 'O', 'O', 'B-treatment', 'I-treatment', 'I-treatment', 'I-treatment', 'I-treatment', 'I-treatment', 'I-treatment', 'I-treatment', 'I-treatment', 'O', 'B-treatment', 'O', 'O', 'O', 'O', 'O', 'O', 'O', 'O', 'O', 'O', 'O', 'O', 'O', 'O', 'O', 'O', 'O', 'O', 'O', 'O', 'O', 'O', 'O', 'O', 'O', 'O', 'O', 'O', 'O', 'O', 'O', 'O', 'O', 'O', 'O', 'O', 'O', 'O', 'O', 'O', 'O', 'O', 'O', 'O', 'O', 'O', 'O', 'O', 'O', 'O', 'O', 'O', 'O', 'O', 'O', 'O', 'O', 'O', 'O', 'O', 'O', 'O', 'O', 'O', 'O', 'O', 'O', 'O', 'O', 'O', 'O', 'O']\n"
          ]
        }
      ],
      "source": [
        "print(records_dict['record-21']['words'])\n",
        "print(records_dict['record-21']['tags'])"
      ],
      "id": "yVaR5NTV4FQD"
    },
    {
      "cell_type": "code",
      "execution_count": null,
      "metadata": {
        "id": "GjeQNbZZ537c"
      },
      "outputs": [],
      "source": [
        "train_data = [records_dict[i] for i in train_records]\n",
        "test_data = [records_dict[i] for i in test_notes_records]\n",
        "df_train = pd.DataFrame(train_data)\n",
        "df_test = pd.DataFrame(test_data)"
      ],
      "id": "GjeQNbZZ537c"
    },
    {
      "cell_type": "code",
      "execution_count": null,
      "metadata": {
        "outputId": "42371dc3-3257-4fb7-a02a-8b4e415a022a",
        "colab": {
          "base_uri": "https://localhost:8080/",
          "height": 928
        },
        "id": "e_XtHpC8ANw4"
      },
      "outputs": [
        {
          "output_type": "stream",
          "name": "stdout",
          "text": [
            "Collecting datasets\n",
            "  Downloading datasets-2.19.1-py3-none-any.whl (542 kB)\n",
            "\u001b[2K     \u001b[90m━━━━━━━━━━━━━━━━━━━━━━━━━━━━━━━━━━━━━━━━\u001b[0m \u001b[32m542.0/542.0 kB\u001b[0m \u001b[31m8.9 MB/s\u001b[0m eta \u001b[36m0:00:00\u001b[0m\n",
            "\u001b[?25hRequirement already satisfied: filelock in /usr/local/lib/python3.10/dist-packages (from datasets) (3.14.0)\n",
            "Requirement already satisfied: numpy>=1.17 in /usr/local/lib/python3.10/dist-packages (from datasets) (1.25.2)\n",
            "Requirement already satisfied: pyarrow>=12.0.0 in /usr/local/lib/python3.10/dist-packages (from datasets) (14.0.2)\n",
            "Requirement already satisfied: pyarrow-hotfix in /usr/local/lib/python3.10/dist-packages (from datasets) (0.6)\n",
            "Collecting dill<0.3.9,>=0.3.0 (from datasets)\n",
            "  Downloading dill-0.3.8-py3-none-any.whl (116 kB)\n",
            "\u001b[2K     \u001b[90m━━━━━━━━━━━━━━━━━━━━━━━━━━━━━━━━━━━━━━━━\u001b[0m \u001b[32m116.3/116.3 kB\u001b[0m \u001b[31m16.4 MB/s\u001b[0m eta \u001b[36m0:00:00\u001b[0m\n",
            "\u001b[?25hRequirement already satisfied: pandas in /usr/local/lib/python3.10/dist-packages (from datasets) (2.0.3)\n",
            "Requirement already satisfied: requests>=2.19.0 in /usr/local/lib/python3.10/dist-packages (from datasets) (2.31.0)\n",
            "Requirement already satisfied: tqdm>=4.62.1 in /usr/local/lib/python3.10/dist-packages (from datasets) (4.66.4)\n",
            "Collecting xxhash (from datasets)\n",
            "  Downloading xxhash-3.4.1-cp310-cp310-manylinux_2_17_x86_64.manylinux2014_x86_64.whl (194 kB)\n",
            "\u001b[2K     \u001b[90m━━━━━━━━━━━━━━━━━━━━━━━━━━━━━━━━━━━━━━━━\u001b[0m \u001b[32m194.1/194.1 kB\u001b[0m \u001b[31m23.2 MB/s\u001b[0m eta \u001b[36m0:00:00\u001b[0m\n",
            "\u001b[?25hCollecting multiprocess (from datasets)\n",
            "  Downloading multiprocess-0.70.16-py310-none-any.whl (134 kB)\n",
            "\u001b[2K     \u001b[90m━━━━━━━━━━━━━━━━━━━━━━━━━━━━━━━━━━━━━━━━\u001b[0m \u001b[32m134.8/134.8 kB\u001b[0m \u001b[31m17.2 MB/s\u001b[0m eta \u001b[36m0:00:00\u001b[0m\n",
            "\u001b[?25hRequirement already satisfied: fsspec[http]<=2024.3.1,>=2023.1.0 in /usr/local/lib/python3.10/dist-packages (from datasets) (2023.6.0)\n",
            "Requirement already satisfied: aiohttp in /usr/local/lib/python3.10/dist-packages (from datasets) (3.9.5)\n",
            "Collecting huggingface-hub>=0.21.2 (from datasets)\n",
            "  Downloading huggingface_hub-0.23.0-py3-none-any.whl (401 kB)\n",
            "\u001b[2K     \u001b[90m━━━━━━━━━━━━━━━━━━━━━━━━━━━━━━━━━━━━━━━━\u001b[0m \u001b[32m401.2/401.2 kB\u001b[0m \u001b[31m45.8 MB/s\u001b[0m eta \u001b[36m0:00:00\u001b[0m\n",
            "\u001b[?25hRequirement already satisfied: packaging in /usr/local/lib/python3.10/dist-packages (from datasets) (24.0)\n",
            "Requirement already satisfied: pyyaml>=5.1 in /usr/local/lib/python3.10/dist-packages (from datasets) (6.0.1)\n",
            "Requirement already satisfied: aiosignal>=1.1.2 in /usr/local/lib/python3.10/dist-packages (from aiohttp->datasets) (1.3.1)\n",
            "Requirement already satisfied: attrs>=17.3.0 in /usr/local/lib/python3.10/dist-packages (from aiohttp->datasets) (23.2.0)\n",
            "Requirement already satisfied: frozenlist>=1.1.1 in /usr/local/lib/python3.10/dist-packages (from aiohttp->datasets) (1.4.1)\n",
            "Requirement already satisfied: multidict<7.0,>=4.5 in /usr/local/lib/python3.10/dist-packages (from aiohttp->datasets) (6.0.5)\n",
            "Requirement already satisfied: yarl<2.0,>=1.0 in /usr/local/lib/python3.10/dist-packages (from aiohttp->datasets) (1.9.4)\n",
            "Requirement already satisfied: async-timeout<5.0,>=4.0 in /usr/local/lib/python3.10/dist-packages (from aiohttp->datasets) (4.0.3)\n",
            "Requirement already satisfied: typing-extensions>=3.7.4.3 in /usr/local/lib/python3.10/dist-packages (from huggingface-hub>=0.21.2->datasets) (4.11.0)\n",
            "Requirement already satisfied: charset-normalizer<4,>=2 in /usr/local/lib/python3.10/dist-packages (from requests>=2.19.0->datasets) (3.3.2)\n",
            "Requirement already satisfied: idna<4,>=2.5 in /usr/local/lib/python3.10/dist-packages (from requests>=2.19.0->datasets) (3.7)\n",
            "Requirement already satisfied: urllib3<3,>=1.21.1 in /usr/local/lib/python3.10/dist-packages (from requests>=2.19.0->datasets) (2.0.7)\n",
            "Requirement already satisfied: certifi>=2017.4.17 in /usr/local/lib/python3.10/dist-packages (from requests>=2.19.0->datasets) (2024.2.2)\n",
            "Requirement already satisfied: python-dateutil>=2.8.2 in /usr/local/lib/python3.10/dist-packages (from pandas->datasets) (2.8.2)\n",
            "Requirement already satisfied: pytz>=2020.1 in /usr/local/lib/python3.10/dist-packages (from pandas->datasets) (2023.4)\n",
            "Requirement already satisfied: tzdata>=2022.1 in /usr/local/lib/python3.10/dist-packages (from pandas->datasets) (2024.1)\n",
            "Requirement already satisfied: six>=1.5 in /usr/local/lib/python3.10/dist-packages (from python-dateutil>=2.8.2->pandas->datasets) (1.16.0)\n",
            "Installing collected packages: xxhash, dill, multiprocess, huggingface-hub, datasets\n",
            "  Attempting uninstall: huggingface-hub\n",
            "    Found existing installation: huggingface-hub 0.20.3\n",
            "    Uninstalling huggingface-hub-0.20.3:\n",
            "      Successfully uninstalled huggingface-hub-0.20.3\n",
            "Successfully installed datasets-2.19.1 dill-0.3.8 huggingface-hub-0.23.0 multiprocess-0.70.16 xxhash-3.4.1\n"
          ]
        },
        {
          "output_type": "display_data",
          "data": {
            "application/vnd.colab-display-data+json": {
              "pip_warning": {
                "packages": [
                  "huggingface_hub"
                ]
              },
              "id": "b5bd781a995146b0bcd1226c395b604b"
            }
          },
          "metadata": {}
        }
      ],
      "source": [
        "!pip install datasets"
      ],
      "id": "e_XtHpC8ANw4"
    },
    {
      "cell_type": "code",
      "execution_count": null,
      "metadata": {
        "outputId": "45efbe60-0af7-401c-cc86-8539d10cffeb",
        "colab": {
          "base_uri": "https://localhost:8080/",
          "height": 81,
          "referenced_widgets": [
            "0a880f18f3844cc28621b517afb33db7",
            "be09949c948f444c94a82c3db867586c",
            "d4cb2254803e43b1985dba78e438ce61",
            "863f1169a9284d2bafb99543f60e0667",
            "870bad7f81494215ac216edc0ac53a82",
            "e02a671fb9e943bba8aa13525292315f",
            "6e305f61f7c142f592722af1c2c5f3dc",
            "c6deb4a1b9aa4d27884012ce2e871c70",
            "661672ff7ba14756b820fab6269c1c57",
            "be70b60c553648fea0e34365ecb2e7d3",
            "ad577ef3607d46c3833e02b93176af22",
            "e30ae240f7a94db09c1f0a125129a883",
            "dce4216414484794b950f68d3d098909",
            "698ea38db25c42df929dbeae47360e73",
            "ec85d610f98441498ab44b1193521c1d",
            "3f78f485ef9b4bec8600f1e8353d56cb",
            "2caf8913cd954aa6bcf76fb0292e63cf",
            "1b4bec82444b4d2f9c14395c25c8bcf4",
            "e18b49572f0f4c18918b1447bb278576",
            "cdc3d74b04634406b6db071abc8f2af3",
            "faed718d33894e0aa066905b0ffd0bb5",
            "651c8c5dae56470bbb873fe0867a62d2"
          ]
        },
        "id": "R5d5KJYy_nMZ"
      },
      "outputs": [
        {
          "output_type": "display_data",
          "data": {
            "text/plain": [
              "Casting the dataset:   0%|          | 0/170 [00:00<?, ? examples/s]"
            ],
            "application/vnd.jupyter.widget-view+json": {
              "version_major": 2,
              "version_minor": 0,
              "model_id": "0a880f18f3844cc28621b517afb33db7"
            }
          },
          "metadata": {}
        },
        {
          "output_type": "display_data",
          "data": {
            "text/plain": [
              "Casting the dataset:   0%|          | 0/256 [00:00<?, ? examples/s]"
            ],
            "application/vnd.jupyter.widget-view+json": {
              "version_major": 2,
              "version_minor": 0,
              "model_id": "e30ae240f7a94db09c1f0a125129a883"
            }
          },
          "metadata": {}
        }
      ],
      "source": [
        "X_train = df_train['words']\n",
        "y_train = df_train['tags']\n",
        "\n",
        "X_test = df_test['words']\n",
        "y_test = df_test['tags']\n",
        "\n",
        "tags = ['O',\n",
        "    'B-test',\n",
        "    'I-test',\n",
        "    'B-problem',\n",
        "    'I-problem',\n",
        "    'B-treatment',\n",
        "    'I-treatment']\n",
        "\n",
        "\n",
        "info_dict_train = {}\n",
        "info_dict_train['id'] = list(map(str,list(df_train.index)))\n",
        "info_dict_train['tokens'] = list(X_train.values)\n",
        "info_dict_train['ner_tags'] = list(y_train.values)\n",
        "\n",
        "info_dict_test = {}\n",
        "info_dict_test['id'] = list(map(str,list(df_test.index)))\n",
        "info_dict_test['tokens'] = list(X_test.values)\n",
        "info_dict_test['ner_tags'] = list(y_test.values)\n",
        "\n",
        "from datasets import Dataset, Sequence, ClassLabel\n",
        "\n",
        "dataset_train = Dataset.from_dict(info_dict_train)\n",
        "dataset_train = dataset_train.cast_column('ner_tags', Sequence(ClassLabel(names=tags)))\n",
        "\n",
        "dataset_test = Dataset.from_dict(info_dict_test)\n",
        "dataset_test = dataset_test.cast_column('ner_tags', Sequence(ClassLabel(names=tags)))\n"
      ],
      "id": "R5d5KJYy_nMZ"
    },
    {
      "cell_type": "code",
      "source": [
        "checkpoint = 'allenai/scibert_scivocab_uncased'\n",
        "\n",
        "#checkpoint= 'google-bert/bert-base-uncased'\n",
        "\n",
        "tokenizer = AutoTokenizer.from_pretrained(checkpoint,model_max_length=512)"
      ],
      "metadata": {
        "id": "oFxeMeLprBgq",
        "colab": {
          "base_uri": "https://localhost:8080/"
        },
        "outputId": "fbb3b5c1-8ee2-426d-8014-ce7b79845ff7"
      },
      "id": "oFxeMeLprBgq",
      "execution_count": null,
      "outputs": [
        {
          "output_type": "stream",
          "name": "stderr",
          "text": [
            "/usr/local/lib/python3.10/dist-packages/huggingface_hub/file_download.py:1132: FutureWarning: `resume_download` is deprecated and will be removed in version 1.0.0. Downloads always resume when possible. If you want to force a new download, use `force_download=True`.\n",
            "  warnings.warn(\n",
            "/usr/local/lib/python3.10/dist-packages/huggingface_hub/utils/_token.py:89: UserWarning: \n",
            "The secret `HF_TOKEN` does not exist in your Colab secrets.\n",
            "To authenticate with the Hugging Face Hub, create a token in your settings tab (https://huggingface.co/settings/tokens), set it as secret in your Google Colab and restart your session.\n",
            "You will be able to reuse this secret in all of your notebooks.\n",
            "Please note that authentication is recommended but still optional to access public models or datasets.\n",
            "  warnings.warn(\n"
          ]
        }
      ]
    },
    {
      "cell_type": "code",
      "source": [
        "tokenized_input = tokenizer(records_dict['record-21']['words'], is_split_into_words=True)\n",
        "tokens = tokenizer.convert_ids_to_tokens(tokenized_input[\"input_ids\"])\n",
        "word_ids = tokenized_input.word_ids()\n",
        "aligned_labels = [-100 if i is None else records_dict['record-21']['tags'][i] for i in word_ids]\n",
        "\n",
        "assert len(aligned_labels) == len(tokenized_input[\"input_ids\"])"
      ],
      "metadata": {
        "id": "rfOPSZeMhIlk",
        "colab": {
          "base_uri": "https://localhost:8080/"
        },
        "outputId": "0105e853-32c1-473a-f70e-10bddbd74399"
      },
      "execution_count": null,
      "outputs": [
        {
          "output_type": "stream",
          "name": "stderr",
          "text": [
            "Token indices sequence length is longer than the specified maximum sequence length for this model (1798 > 512). Running this sequence through the model will result in indexing errors\n"
          ]
        }
      ],
      "id": "rfOPSZeMhIlk"
    },
    {
      "cell_type": "code",
      "source": [
        "def tokenize_and_align_labels(examples):\n",
        "    tokenized_inputs = tokenizer(examples[\"tokens\"], truncation=True, is_split_into_words=True, max_length=512,\n",
        "                                stride=3, return_overflowing_tokens=True\n",
        "                                 )\n",
        "\n",
        "    sample_map = tokenized_inputs.pop(\"overflow_to_sample_mapping\")\n",
        "    for key, values in examples.items():\n",
        "        tokenized_inputs[key] = [values[i] for i in sample_map]\n",
        "\n",
        "    labels = []\n",
        "    for i, label in enumerate(tokenized_inputs[\"ner_tags\"]):\n",
        "        word_ids = tokenized_inputs.word_ids(batch_index=i)\n",
        "\n",
        "        previous_word_idx = None\n",
        "        label_ids = []\n",
        "        for word_idx in word_ids:\n",
        "            # Special tokens have a word id that is None. We set the label to -100 so they are automatically\n",
        "            # ignored in the loss function.\n",
        "            if word_idx is None:\n",
        "                label_ids.append(-100)\n",
        "            # We set the label for the first token of each word.\n",
        "            elif word_idx != previous_word_idx:\n",
        "                label_ids.append(label[word_idx])\n",
        "            # For the other tokens in a word, we set the label to either the current label or -100, depending on\n",
        "            # the label_all_tokens flag.\n",
        "            else:\n",
        "                label_ids.append(-100)\n",
        "            previous_word_idx = word_idx\n",
        "\n",
        "        labels.append(label_ids)\n",
        "\n",
        "    tokenized_inputs[\"labels\"] = labels\n",
        "    return tokenized_inputs"
      ],
      "metadata": {
        "id": "HaReNkxem4ye"
      },
      "execution_count": null,
      "outputs": [],
      "id": "HaReNkxem4ye"
    },
    {
      "cell_type": "code",
      "source": [
        "tokenized_train = dataset_train.map(tokenize_and_align_labels,batched=True)\n",
        "tokenized_test = dataset_test.map(tokenize_and_align_labels,batched=True)"
      ],
      "metadata": {
        "id": "TkmzH0_QrCcQ",
        "colab": {
          "base_uri": "https://localhost:8080/",
          "height": 81,
          "referenced_widgets": [
            "5035c64500474587b0b028e2e10cd307",
            "dec2062bfef7492bac6c8d62b004230e",
            "9e43b52c12904869bf5b3fc2bc243ea3",
            "8089badae64b4160890e326a98316031",
            "543a881d7a474217a2be80e498f8209a",
            "619d9d8a0bb0411e802025d0c5a6577c",
            "45899fe8c8a349bca7d158b7130b81bb",
            "b30cf9c509f3422999d29a3000e9b73e",
            "97f6cf9338134f8bb67f00a509b1e8f0",
            "a80b3722401b417781bea9d858370e1e",
            "a8ff83ba2dc349c5bc3b3f6643b99ef2",
            "7e23d37f6c03410e9d89250e22420283",
            "b42e71ccf8314983b6b3c85271f1e004",
            "7a950c5d1541485f81f9d9f0f8c00513",
            "5adbfac1b85846679255981d13f97b32",
            "628d3769fba143f4b1b53ad269241ab9",
            "675daec3130b444590508c45cea534b5",
            "5939b756bd61495fbe421a75abeba31b",
            "1d1315a03f18434d9edbe52297146c0b",
            "3a08cf049fc6437294be2dc8cbb0d0d3",
            "4c41e8e9c0e64f32822461010d612155",
            "b8243a2cfa0045938f132817f90c3071"
          ]
        },
        "outputId": "8f217c3a-5fe6-4edf-c473-64da01e05c7d"
      },
      "id": "TkmzH0_QrCcQ",
      "execution_count": null,
      "outputs": [
        {
          "output_type": "display_data",
          "data": {
            "text/plain": [
              "Map:   0%|          | 0/170 [00:00<?, ? examples/s]"
            ],
            "application/vnd.jupyter.widget-view+json": {
              "version_major": 2,
              "version_minor": 0,
              "model_id": "5035c64500474587b0b028e2e10cd307"
            }
          },
          "metadata": {}
        },
        {
          "output_type": "display_data",
          "data": {
            "text/plain": [
              "Map:   0%|          | 0/256 [00:00<?, ? examples/s]"
            ],
            "application/vnd.jupyter.widget-view+json": {
              "version_major": 2,
              "version_minor": 0,
              "model_id": "7e23d37f6c03410e9d89250e22420283"
            }
          },
          "metadata": {}
        }
      ]
    },
    {
      "cell_type": "code",
      "source": [
        "train_validation = tokenized_train.train_test_split(test_size= 0.2, seed=42)"
      ],
      "metadata": {
        "id": "zCULrQ-z1I81"
      },
      "id": "zCULrQ-z1I81",
      "execution_count": null,
      "outputs": []
    },
    {
      "cell_type": "code",
      "execution_count": null,
      "id": "19d3d30a",
      "metadata": {
        "id": "19d3d30a"
      },
      "outputs": [],
      "source": [
        "from datasets import DatasetDict\n",
        "final_dataset = DatasetDict({\n",
        "    'train': train_validation['train'],\n",
        "    'validation':train_validation['test'],\n",
        "    'test': tokenized_test\n",
        "})"
      ]
    },
    {
      "cell_type": "code",
      "execution_count": null,
      "id": "4b2269d7",
      "metadata": {
        "id": "4b2269d7",
        "colab": {
          "base_uri": "https://localhost:8080/"
        },
        "outputId": "9434c796-a920-4f5e-c099-f2330b98bd5f"
      },
      "outputs": [
        {
          "output_type": "execute_result",
          "data": {
            "text/plain": [
              "DatasetDict({\n",
              "    train: Dataset({\n",
              "        features: ['id', 'tokens', 'ner_tags', 'input_ids', 'token_type_ids', 'attention_mask', 'labels'],\n",
              "        num_rows: 369\n",
              "    })\n",
              "    validation: Dataset({\n",
              "        features: ['id', 'tokens', 'ner_tags', 'input_ids', 'token_type_ids', 'attention_mask', 'labels'],\n",
              "        num_rows: 93\n",
              "    })\n",
              "    test: Dataset({\n",
              "        features: ['id', 'tokens', 'ner_tags', 'input_ids', 'token_type_ids', 'attention_mask', 'labels'],\n",
              "        num_rows: 813\n",
              "    })\n",
              "})"
            ]
          },
          "metadata": {},
          "execution_count": 19
        }
      ],
      "source": [
        "final_dataset"
      ]
    },
    {
      "cell_type": "code",
      "execution_count": null,
      "id": "a09ac33d",
      "metadata": {
        "id": "a09ac33d"
      },
      "outputs": [],
      "source": [
        "ner_feature = final_dataset[\"train\"].features[\"ner_tags\"]"
      ]
    },
    {
      "cell_type": "code",
      "execution_count": null,
      "id": "3c5721bd",
      "metadata": {
        "id": "3c5721bd"
      },
      "outputs": [],
      "source": [
        "label_names = ner_feature.feature.names"
      ]
    },
    {
      "cell_type": "code",
      "execution_count": null,
      "id": "845380a6",
      "metadata": {
        "id": "845380a6"
      },
      "outputs": [],
      "source": [
        "from transformers import DataCollatorForTokenClassification\n",
        "\n",
        "data_collator = DataCollatorForTokenClassification(tokenizer=tokenizer,return_tensors='pt')"
      ]
    },
    {
      "cell_type": "code",
      "source": [
        "!pip install evaluate"
      ],
      "metadata": {
        "colab": {
          "base_uri": "https://localhost:8080/"
        },
        "id": "yWGk40lWdadJ",
        "outputId": "3d2ef8ed-bbe6-4093-b106-ec487a819fc7"
      },
      "id": "yWGk40lWdadJ",
      "execution_count": null,
      "outputs": [
        {
          "output_type": "stream",
          "name": "stdout",
          "text": [
            "Collecting evaluate\n",
            "  Downloading evaluate-0.4.2-py3-none-any.whl (84 kB)\n",
            "\u001b[2K     \u001b[90m━━━━━━━━━━━━━━━━━━━━━━━━━━━━━━━━━━━━━━━━\u001b[0m \u001b[32m84.1/84.1 kB\u001b[0m \u001b[31m2.1 MB/s\u001b[0m eta \u001b[36m0:00:00\u001b[0m\n",
            "\u001b[?25hRequirement already satisfied: datasets>=2.0.0 in /usr/local/lib/python3.10/dist-packages (from evaluate) (2.19.1)\n",
            "Requirement already satisfied: numpy>=1.17 in /usr/local/lib/python3.10/dist-packages (from evaluate) (1.25.2)\n",
            "Requirement already satisfied: dill in /usr/local/lib/python3.10/dist-packages (from evaluate) (0.3.8)\n",
            "Requirement already satisfied: pandas in /usr/local/lib/python3.10/dist-packages (from evaluate) (2.0.3)\n",
            "Requirement already satisfied: requests>=2.19.0 in /usr/local/lib/python3.10/dist-packages (from evaluate) (2.31.0)\n",
            "Requirement already satisfied: tqdm>=4.62.1 in /usr/local/lib/python3.10/dist-packages (from evaluate) (4.66.4)\n",
            "Requirement already satisfied: xxhash in /usr/local/lib/python3.10/dist-packages (from evaluate) (3.4.1)\n",
            "Requirement already satisfied: multiprocess in /usr/local/lib/python3.10/dist-packages (from evaluate) (0.70.16)\n",
            "Requirement already satisfied: fsspec[http]>=2021.05.0 in /usr/local/lib/python3.10/dist-packages (from evaluate) (2023.6.0)\n",
            "Requirement already satisfied: huggingface-hub>=0.7.0 in /usr/local/lib/python3.10/dist-packages (from evaluate) (0.23.0)\n",
            "Requirement already satisfied: packaging in /usr/local/lib/python3.10/dist-packages (from evaluate) (24.0)\n",
            "Requirement already satisfied: filelock in /usr/local/lib/python3.10/dist-packages (from datasets>=2.0.0->evaluate) (3.14.0)\n",
            "Requirement already satisfied: pyarrow>=12.0.0 in /usr/local/lib/python3.10/dist-packages (from datasets>=2.0.0->evaluate) (14.0.2)\n",
            "Requirement already satisfied: pyarrow-hotfix in /usr/local/lib/python3.10/dist-packages (from datasets>=2.0.0->evaluate) (0.6)\n",
            "Requirement already satisfied: aiohttp in /usr/local/lib/python3.10/dist-packages (from datasets>=2.0.0->evaluate) (3.9.5)\n",
            "Requirement already satisfied: pyyaml>=5.1 in /usr/local/lib/python3.10/dist-packages (from datasets>=2.0.0->evaluate) (6.0.1)\n",
            "Requirement already satisfied: typing-extensions>=3.7.4.3 in /usr/local/lib/python3.10/dist-packages (from huggingface-hub>=0.7.0->evaluate) (4.11.0)\n",
            "Requirement already satisfied: charset-normalizer<4,>=2 in /usr/local/lib/python3.10/dist-packages (from requests>=2.19.0->evaluate) (3.3.2)\n",
            "Requirement already satisfied: idna<4,>=2.5 in /usr/local/lib/python3.10/dist-packages (from requests>=2.19.0->evaluate) (3.7)\n",
            "Requirement already satisfied: urllib3<3,>=1.21.1 in /usr/local/lib/python3.10/dist-packages (from requests>=2.19.0->evaluate) (2.0.7)\n",
            "Requirement already satisfied: certifi>=2017.4.17 in /usr/local/lib/python3.10/dist-packages (from requests>=2.19.0->evaluate) (2024.2.2)\n",
            "Requirement already satisfied: python-dateutil>=2.8.2 in /usr/local/lib/python3.10/dist-packages (from pandas->evaluate) (2.8.2)\n",
            "Requirement already satisfied: pytz>=2020.1 in /usr/local/lib/python3.10/dist-packages (from pandas->evaluate) (2023.4)\n",
            "Requirement already satisfied: tzdata>=2022.1 in /usr/local/lib/python3.10/dist-packages (from pandas->evaluate) (2024.1)\n",
            "Requirement already satisfied: aiosignal>=1.1.2 in /usr/local/lib/python3.10/dist-packages (from aiohttp->datasets>=2.0.0->evaluate) (1.3.1)\n",
            "Requirement already satisfied: attrs>=17.3.0 in /usr/local/lib/python3.10/dist-packages (from aiohttp->datasets>=2.0.0->evaluate) (23.2.0)\n",
            "Requirement already satisfied: frozenlist>=1.1.1 in /usr/local/lib/python3.10/dist-packages (from aiohttp->datasets>=2.0.0->evaluate) (1.4.1)\n",
            "Requirement already satisfied: multidict<7.0,>=4.5 in /usr/local/lib/python3.10/dist-packages (from aiohttp->datasets>=2.0.0->evaluate) (6.0.5)\n",
            "Requirement already satisfied: yarl<2.0,>=1.0 in /usr/local/lib/python3.10/dist-packages (from aiohttp->datasets>=2.0.0->evaluate) (1.9.4)\n",
            "Requirement already satisfied: async-timeout<5.0,>=4.0 in /usr/local/lib/python3.10/dist-packages (from aiohttp->datasets>=2.0.0->evaluate) (4.0.3)\n",
            "Requirement already satisfied: six>=1.5 in /usr/local/lib/python3.10/dist-packages (from python-dateutil>=2.8.2->pandas->evaluate) (1.16.0)\n",
            "Installing collected packages: evaluate\n",
            "Successfully installed evaluate-0.4.2\n"
          ]
        }
      ]
    },
    {
      "cell_type": "code",
      "source": [
        "!pip install seqeval"
      ],
      "metadata": {
        "colab": {
          "base_uri": "https://localhost:8080/"
        },
        "id": "iuNaGBqjdcZV",
        "outputId": "49ec037f-1823-41aa-de51-b17e08d182b3"
      },
      "id": "iuNaGBqjdcZV",
      "execution_count": null,
      "outputs": [
        {
          "output_type": "stream",
          "name": "stdout",
          "text": [
            "Collecting seqeval\n",
            "  Downloading seqeval-1.2.2.tar.gz (43 kB)\n",
            "\u001b[2K     \u001b[90m━━━━━━━━━━━━━━━━━━━━━━━━━━━━━━━━━━━━━━━━\u001b[0m \u001b[32m43.6/43.6 kB\u001b[0m \u001b[31m594.0 kB/s\u001b[0m eta \u001b[36m0:00:00\u001b[0m\n",
            "\u001b[?25h  Preparing metadata (setup.py) ... \u001b[?25l\u001b[?25hdone\n",
            "Requirement already satisfied: numpy>=1.14.0 in /usr/local/lib/python3.10/dist-packages (from seqeval) (1.25.2)\n",
            "Requirement already satisfied: scikit-learn>=0.21.3 in /usr/local/lib/python3.10/dist-packages (from seqeval) (1.2.2)\n",
            "Requirement already satisfied: scipy>=1.3.2 in /usr/local/lib/python3.10/dist-packages (from scikit-learn>=0.21.3->seqeval) (1.11.4)\n",
            "Requirement already satisfied: joblib>=1.1.1 in /usr/local/lib/python3.10/dist-packages (from scikit-learn>=0.21.3->seqeval) (1.4.2)\n",
            "Requirement already satisfied: threadpoolctl>=2.0.0 in /usr/local/lib/python3.10/dist-packages (from scikit-learn>=0.21.3->seqeval) (3.5.0)\n",
            "Building wheels for collected packages: seqeval\n",
            "  Building wheel for seqeval (setup.py) ... \u001b[?25l\u001b[?25hdone\n",
            "  Created wheel for seqeval: filename=seqeval-1.2.2-py3-none-any.whl size=16161 sha256=06c8f809068a0c5e5c5593702d459605e402fb03b4e90b7a13437038ddd14805\n",
            "  Stored in directory: /root/.cache/pip/wheels/1a/67/4a/ad4082dd7dfc30f2abfe4d80a2ed5926a506eb8a972b4767fa\n",
            "Successfully built seqeval\n",
            "Installing collected packages: seqeval\n",
            "Successfully installed seqeval-1.2.2\n"
          ]
        }
      ]
    },
    {
      "cell_type": "code",
      "execution_count": null,
      "id": "5dd1d66b",
      "metadata": {
        "id": "5dd1d66b",
        "colab": {
          "base_uri": "https://localhost:8080/",
          "height": 49,
          "referenced_widgets": [
            "65a3986e63a449b882798999d083e536",
            "d045d104a5d648e0ace8c19dda82c60e",
            "eaf3532289a449408096b837967fdecd",
            "1e0f87c5fbc24daebca4a5d9327b599a",
            "b66fc41ad8234d29903ce6c84dd31f50",
            "1e3a121350614aaa9a2acda7a107f728",
            "3b3ae8eb961b4cb5a3899de6c138fb1f",
            "b6b62bd88eae43308034ffa24a1c1f8b",
            "d478f21a581e42909af65b7d7a9058de",
            "1e87813681464d1ebf6f5075b9329ab9",
            "8b3abcd952d64926ab36ef8a1682796e"
          ]
        },
        "outputId": "ba1dc5ee-ef7d-4c9d-ba24-2c3b983813ff"
      },
      "outputs": [
        {
          "output_type": "display_data",
          "data": {
            "text/plain": [
              "Downloading builder script:   0%|          | 0.00/6.34k [00:00<?, ?B/s]"
            ],
            "application/vnd.jupyter.widget-view+json": {
              "version_major": 2,
              "version_minor": 0,
              "model_id": "65a3986e63a449b882798999d083e536"
            }
          },
          "metadata": {}
        }
      ],
      "source": [
        "import evaluate\n",
        "\n",
        "metric = evaluate.load('seqeval')"
      ]
    },
    {
      "cell_type": "code",
      "execution_count": null,
      "id": "eb69d45c",
      "metadata": {
        "id": "eb69d45c"
      },
      "outputs": [],
      "source": [
        "labels = final_dataset[\"train\"][0][\"ner_tags\"]\n",
        "labels = [label_names[i] for i in labels]"
      ]
    },
    {
      "cell_type": "code",
      "execution_count": null,
      "id": "ade2fd06",
      "metadata": {
        "id": "ade2fd06"
      },
      "outputs": [],
      "source": [
        "import numpy as np\n",
        "from sklearn.metrics import f1_score\n",
        "from sklearn.metrics import classification_report\n",
        "from sklearn.preprocessing import MultiLabelBinarizer\n",
        "\n",
        "def compute_metrics(eval_preds):\n",
        "    logits, labels = eval_preds\n",
        "    predictions = np.argmax(logits, axis=-1)\n",
        "\n",
        "    # Remove ignored index (special tokens) and convert to labels\n",
        "    true_labels = [[label_names[l] for l in label if l != -100] for label in labels]\n",
        "    true_predictions = [\n",
        "        [label_names[p] for (p, l) in zip(prediction, label) if l != -100]\n",
        "        for prediction, label in zip(predictions, labels)\n",
        "    ]\n",
        "\n",
        "    mlb = MultiLabelBinarizer()\n",
        "    true_labels_binary = mlb.fit_transform(true_labels)\n",
        "    # true_labels_binary = np.array(true_labels_binary)\n",
        "    # true_labels_binary = true_labels_binary.astype(int)\n",
        "    true_predictions_binary = mlb.transform(true_predictions)\n",
        "    # true_predictions_binary = np.array(true_predictions_binary)\n",
        "    # true_predictions_binary = true_predictions_binary.astype(int)\n",
        "\n",
        "    cr = classification_report(true_labels_binary,true_predictions_binary)\n",
        "    print(cr)\n",
        "\n",
        "    all_metrics = metric.compute(predictions=true_predictions, references=true_labels)\n",
        "    f1_individual = f1_score(true_labels_binary,true_predictions_binary,average=None)\n",
        "    return {\n",
        "        \"f1\": all_metrics[\"overall_f1\"],\n",
        "        \"f1_O\": f1_individual[0],\n",
        "        \"f1_B_test\": f1_individual[1],\n",
        "        \"f1_I_test\": f1_individual[2],\n",
        "        \"f1_B_problem\": f1_individual[3],\n",
        "        \"f1_I_problem\": f1_individual[4],\n",
        "        \"f1_B_treatment\": f1_individual[5],\n",
        "        \"f1_I_treatment\": f1_individual[6],\n",
        "        # \"classification_report\": cr\n",
        "    }"
      ]
    },
    {
      "cell_type": "code",
      "execution_count": null,
      "id": "9df6d506",
      "metadata": {
        "id": "9df6d506"
      },
      "outputs": [],
      "source": [
        "id2label = {i: label for i, label in enumerate(label_names)}\n",
        "label2id = {v: k for k, v in id2label.items()}"
      ]
    },
    {
      "cell_type": "code",
      "execution_count": null,
      "id": "67bbc155",
      "metadata": {
        "colab": {
          "base_uri": "https://localhost:8080/",
          "height": 118,
          "referenced_widgets": [
            "ff2cae960b7f4b3b825124327bd8fd2c",
            "eeae1f4dd38544ffb9ed8d38cd038eaf",
            "305c00d1283546a6af93c52794d86561",
            "2caea518e09f4c3381ba7ef55d8c58d2",
            "c493e8f6297f47a79e43ab6dcb512a34",
            "a6e3c5a032044625835ed2d845e9dcc6",
            "3034a6c255c142c9a1cafa40eb751bde",
            "6419026b189a46ce85adc4846a5f0e79",
            "8684f5c52377434891747f14a27de563",
            "46e2a38099a241e78067072d1e2893a7",
            "4578fdf8e9dc40599b3d11f66a264a92"
          ]
        },
        "id": "67bbc155",
        "outputId": "d50390bc-5909-4e72-c3c3-c040892f292e"
      },
      "outputs": [
        {
          "output_type": "stream",
          "name": "stderr",
          "text": [
            "/usr/local/lib/python3.10/dist-packages/huggingface_hub/file_download.py:1132: FutureWarning: `resume_download` is deprecated and will be removed in version 1.0.0. Downloads always resume when possible. If you want to force a new download, use `force_download=True`.\n",
            "  warnings.warn(\n"
          ]
        },
        {
          "output_type": "display_data",
          "data": {
            "text/plain": [
              "pytorch_model.bin:   0%|          | 0.00/442M [00:00<?, ?B/s]"
            ],
            "application/vnd.jupyter.widget-view+json": {
              "version_major": 2,
              "version_minor": 0,
              "model_id": "ff2cae960b7f4b3b825124327bd8fd2c"
            }
          },
          "metadata": {}
        },
        {
          "output_type": "stream",
          "name": "stderr",
          "text": [
            "Some weights of BertForTokenClassification were not initialized from the model checkpoint at allenai/scibert_scivocab_uncased and are newly initialized: ['classifier.bias', 'classifier.weight']\n",
            "You should probably TRAIN this model on a down-stream task to be able to use it for predictions and inference.\n"
          ]
        }
      ],
      "source": [
        "#\n",
        "from transformers import AutoModelForTokenClassification\n",
        "\n",
        "model = AutoModelForTokenClassification.from_pretrained(\n",
        "    checkpoint,\n",
        "    id2label=id2label,\n",
        "    label2id=label2id,\n",
        ")"
      ]
    },
    {
      "cell_type": "code",
      "execution_count": null,
      "id": "eba3e49d",
      "metadata": {
        "colab": {
          "base_uri": "https://localhost:8080/"
        },
        "id": "eba3e49d",
        "outputId": "31c22e9b-6de8-4c80-f4d6-0dd76adbc110"
      },
      "outputs": [
        {
          "output_type": "stream",
          "name": "stdout",
          "text": [
            "Requirement already satisfied: transformers[torch] in /usr/local/lib/python3.10/dist-packages (4.40.2)\n",
            "Requirement already satisfied: filelock in /usr/local/lib/python3.10/dist-packages (from transformers[torch]) (3.14.0)\n",
            "Requirement already satisfied: huggingface-hub<1.0,>=0.19.3 in /usr/local/lib/python3.10/dist-packages (from transformers[torch]) (0.23.0)\n",
            "Requirement already satisfied: numpy>=1.17 in /usr/local/lib/python3.10/dist-packages (from transformers[torch]) (1.25.2)\n",
            "Requirement already satisfied: packaging>=20.0 in /usr/local/lib/python3.10/dist-packages (from transformers[torch]) (24.0)\n",
            "Requirement already satisfied: pyyaml>=5.1 in /usr/local/lib/python3.10/dist-packages (from transformers[torch]) (6.0.1)\n",
            "Requirement already satisfied: regex!=2019.12.17 in /usr/local/lib/python3.10/dist-packages (from transformers[torch]) (2023.12.25)\n",
            "Requirement already satisfied: requests in /usr/local/lib/python3.10/dist-packages (from transformers[torch]) (2.31.0)\n",
            "Requirement already satisfied: tokenizers<0.20,>=0.19 in /usr/local/lib/python3.10/dist-packages (from transformers[torch]) (0.19.1)\n",
            "Requirement already satisfied: safetensors>=0.4.1 in /usr/local/lib/python3.10/dist-packages (from transformers[torch]) (0.4.3)\n",
            "Requirement already satisfied: tqdm>=4.27 in /usr/local/lib/python3.10/dist-packages (from transformers[torch]) (4.66.4)\n",
            "Requirement already satisfied: torch in /usr/local/lib/python3.10/dist-packages (from transformers[torch]) (2.2.1+cu121)\n",
            "Requirement already satisfied: accelerate>=0.21.0 in /usr/local/lib/python3.10/dist-packages (from transformers[torch]) (0.30.0)\n",
            "Requirement already satisfied: psutil in /usr/local/lib/python3.10/dist-packages (from accelerate>=0.21.0->transformers[torch]) (5.9.5)\n",
            "Requirement already satisfied: fsspec>=2023.5.0 in /usr/local/lib/python3.10/dist-packages (from huggingface-hub<1.0,>=0.19.3->transformers[torch]) (2023.6.0)\n",
            "Requirement already satisfied: typing-extensions>=3.7.4.3 in /usr/local/lib/python3.10/dist-packages (from huggingface-hub<1.0,>=0.19.3->transformers[torch]) (4.11.0)\n",
            "Requirement already satisfied: sympy in /usr/local/lib/python3.10/dist-packages (from torch->transformers[torch]) (1.12)\n",
            "Requirement already satisfied: networkx in /usr/local/lib/python3.10/dist-packages (from torch->transformers[torch]) (3.3)\n",
            "Requirement already satisfied: jinja2 in /usr/local/lib/python3.10/dist-packages (from torch->transformers[torch]) (3.1.3)\n",
            "Requirement already satisfied: nvidia-cuda-nvrtc-cu12==12.1.105 in /usr/local/lib/python3.10/dist-packages (from torch->transformers[torch]) (12.1.105)\n",
            "Requirement already satisfied: nvidia-cuda-runtime-cu12==12.1.105 in /usr/local/lib/python3.10/dist-packages (from torch->transformers[torch]) (12.1.105)\n",
            "Requirement already satisfied: nvidia-cuda-cupti-cu12==12.1.105 in /usr/local/lib/python3.10/dist-packages (from torch->transformers[torch]) (12.1.105)\n",
            "Requirement already satisfied: nvidia-cudnn-cu12==8.9.2.26 in /usr/local/lib/python3.10/dist-packages (from torch->transformers[torch]) (8.9.2.26)\n",
            "Requirement already satisfied: nvidia-cublas-cu12==12.1.3.1 in /usr/local/lib/python3.10/dist-packages (from torch->transformers[torch]) (12.1.3.1)\n",
            "Requirement already satisfied: nvidia-cufft-cu12==11.0.2.54 in /usr/local/lib/python3.10/dist-packages (from torch->transformers[torch]) (11.0.2.54)\n",
            "Requirement already satisfied: nvidia-curand-cu12==10.3.2.106 in /usr/local/lib/python3.10/dist-packages (from torch->transformers[torch]) (10.3.2.106)\n",
            "Requirement already satisfied: nvidia-cusolver-cu12==11.4.5.107 in /usr/local/lib/python3.10/dist-packages (from torch->transformers[torch]) (11.4.5.107)\n",
            "Requirement already satisfied: nvidia-cusparse-cu12==12.1.0.106 in /usr/local/lib/python3.10/dist-packages (from torch->transformers[torch]) (12.1.0.106)\n",
            "Requirement already satisfied: nvidia-nccl-cu12==2.19.3 in /usr/local/lib/python3.10/dist-packages (from torch->transformers[torch]) (2.19.3)\n",
            "Requirement already satisfied: nvidia-nvtx-cu12==12.1.105 in /usr/local/lib/python3.10/dist-packages (from torch->transformers[torch]) (12.1.105)\n",
            "Requirement already satisfied: triton==2.2.0 in /usr/local/lib/python3.10/dist-packages (from torch->transformers[torch]) (2.2.0)\n",
            "Requirement already satisfied: nvidia-nvjitlink-cu12 in /usr/local/lib/python3.10/dist-packages (from nvidia-cusolver-cu12==11.4.5.107->torch->transformers[torch]) (12.4.127)\n",
            "Requirement already satisfied: charset-normalizer<4,>=2 in /usr/local/lib/python3.10/dist-packages (from requests->transformers[torch]) (3.3.2)\n",
            "Requirement already satisfied: idna<4,>=2.5 in /usr/local/lib/python3.10/dist-packages (from requests->transformers[torch]) (3.7)\n",
            "Requirement already satisfied: urllib3<3,>=1.21.1 in /usr/local/lib/python3.10/dist-packages (from requests->transformers[torch]) (2.0.7)\n",
            "Requirement already satisfied: certifi>=2017.4.17 in /usr/local/lib/python3.10/dist-packages (from requests->transformers[torch]) (2024.2.2)\n",
            "Requirement already satisfied: MarkupSafe>=2.0 in /usr/local/lib/python3.10/dist-packages (from jinja2->torch->transformers[torch]) (2.1.5)\n",
            "Requirement already satisfied: mpmath>=0.19 in /usr/local/lib/python3.10/dist-packages (from sympy->torch->transformers[torch]) (1.3.0)\n"
          ]
        }
      ],
      "source": [
        "!pip install transformers[torch]"
      ]
    },
    {
      "cell_type": "code",
      "source": [
        "!pip install accelerate -U"
      ],
      "metadata": {
        "colab": {
          "base_uri": "https://localhost:8080/"
        },
        "id": "-W16WusOeo3X",
        "outputId": "249ef7d9-a28d-48ad-f1f7-ae44398fa600"
      },
      "id": "-W16WusOeo3X",
      "execution_count": null,
      "outputs": [
        {
          "output_type": "stream",
          "name": "stdout",
          "text": [
            "Requirement already satisfied: accelerate in /usr/local/lib/python3.10/dist-packages (0.30.0)\n",
            "Requirement already satisfied: numpy>=1.17 in /usr/local/lib/python3.10/dist-packages (from accelerate) (1.25.2)\n",
            "Requirement already satisfied: packaging>=20.0 in /usr/local/lib/python3.10/dist-packages (from accelerate) (24.0)\n",
            "Requirement already satisfied: psutil in /usr/local/lib/python3.10/dist-packages (from accelerate) (5.9.5)\n",
            "Requirement already satisfied: pyyaml in /usr/local/lib/python3.10/dist-packages (from accelerate) (6.0.1)\n",
            "Requirement already satisfied: torch>=1.10.0 in /usr/local/lib/python3.10/dist-packages (from accelerate) (2.2.1+cu121)\n",
            "Requirement already satisfied: huggingface-hub in /usr/local/lib/python3.10/dist-packages (from accelerate) (0.23.0)\n",
            "Requirement already satisfied: safetensors>=0.3.1 in /usr/local/lib/python3.10/dist-packages (from accelerate) (0.4.3)\n",
            "Requirement already satisfied: filelock in /usr/local/lib/python3.10/dist-packages (from torch>=1.10.0->accelerate) (3.14.0)\n",
            "Requirement already satisfied: typing-extensions>=4.8.0 in /usr/local/lib/python3.10/dist-packages (from torch>=1.10.0->accelerate) (4.11.0)\n",
            "Requirement already satisfied: sympy in /usr/local/lib/python3.10/dist-packages (from torch>=1.10.0->accelerate) (1.12)\n",
            "Requirement already satisfied: networkx in /usr/local/lib/python3.10/dist-packages (from torch>=1.10.0->accelerate) (3.3)\n",
            "Requirement already satisfied: jinja2 in /usr/local/lib/python3.10/dist-packages (from torch>=1.10.0->accelerate) (3.1.3)\n",
            "Requirement already satisfied: fsspec in /usr/local/lib/python3.10/dist-packages (from torch>=1.10.0->accelerate) (2023.6.0)\n",
            "Requirement already satisfied: nvidia-cuda-nvrtc-cu12==12.1.105 in /usr/local/lib/python3.10/dist-packages (from torch>=1.10.0->accelerate) (12.1.105)\n",
            "Requirement already satisfied: nvidia-cuda-runtime-cu12==12.1.105 in /usr/local/lib/python3.10/dist-packages (from torch>=1.10.0->accelerate) (12.1.105)\n",
            "Requirement already satisfied: nvidia-cuda-cupti-cu12==12.1.105 in /usr/local/lib/python3.10/dist-packages (from torch>=1.10.0->accelerate) (12.1.105)\n",
            "Requirement already satisfied: nvidia-cudnn-cu12==8.9.2.26 in /usr/local/lib/python3.10/dist-packages (from torch>=1.10.0->accelerate) (8.9.2.26)\n",
            "Requirement already satisfied: nvidia-cublas-cu12==12.1.3.1 in /usr/local/lib/python3.10/dist-packages (from torch>=1.10.0->accelerate) (12.1.3.1)\n",
            "Requirement already satisfied: nvidia-cufft-cu12==11.0.2.54 in /usr/local/lib/python3.10/dist-packages (from torch>=1.10.0->accelerate) (11.0.2.54)\n",
            "Requirement already satisfied: nvidia-curand-cu12==10.3.2.106 in /usr/local/lib/python3.10/dist-packages (from torch>=1.10.0->accelerate) (10.3.2.106)\n",
            "Requirement already satisfied: nvidia-cusolver-cu12==11.4.5.107 in /usr/local/lib/python3.10/dist-packages (from torch>=1.10.0->accelerate) (11.4.5.107)\n",
            "Requirement already satisfied: nvidia-cusparse-cu12==12.1.0.106 in /usr/local/lib/python3.10/dist-packages (from torch>=1.10.0->accelerate) (12.1.0.106)\n",
            "Requirement already satisfied: nvidia-nccl-cu12==2.19.3 in /usr/local/lib/python3.10/dist-packages (from torch>=1.10.0->accelerate) (2.19.3)\n",
            "Requirement already satisfied: nvidia-nvtx-cu12==12.1.105 in /usr/local/lib/python3.10/dist-packages (from torch>=1.10.0->accelerate) (12.1.105)\n",
            "Requirement already satisfied: triton==2.2.0 in /usr/local/lib/python3.10/dist-packages (from torch>=1.10.0->accelerate) (2.2.0)\n",
            "Requirement already satisfied: nvidia-nvjitlink-cu12 in /usr/local/lib/python3.10/dist-packages (from nvidia-cusolver-cu12==11.4.5.107->torch>=1.10.0->accelerate) (12.4.127)\n",
            "Requirement already satisfied: requests in /usr/local/lib/python3.10/dist-packages (from huggingface-hub->accelerate) (2.31.0)\n",
            "Requirement already satisfied: tqdm>=4.42.1 in /usr/local/lib/python3.10/dist-packages (from huggingface-hub->accelerate) (4.66.4)\n",
            "Requirement already satisfied: MarkupSafe>=2.0 in /usr/local/lib/python3.10/dist-packages (from jinja2->torch>=1.10.0->accelerate) (2.1.5)\n",
            "Requirement already satisfied: charset-normalizer<4,>=2 in /usr/local/lib/python3.10/dist-packages (from requests->huggingface-hub->accelerate) (3.3.2)\n",
            "Requirement already satisfied: idna<4,>=2.5 in /usr/local/lib/python3.10/dist-packages (from requests->huggingface-hub->accelerate) (3.7)\n",
            "Requirement already satisfied: urllib3<3,>=1.21.1 in /usr/local/lib/python3.10/dist-packages (from requests->huggingface-hub->accelerate) (2.0.7)\n",
            "Requirement already satisfied: certifi>=2017.4.17 in /usr/local/lib/python3.10/dist-packages (from requests->huggingface-hub->accelerate) (2024.2.2)\n",
            "Requirement already satisfied: mpmath>=0.19 in /usr/local/lib/python3.10/dist-packages (from sympy->torch>=1.10.0->accelerate) (1.3.0)\n"
          ]
        }
      ]
    },
    {
      "cell_type": "code",
      "execution_count": null,
      "id": "dc1f5f0c",
      "metadata": {
        "id": "dc1f5f0c"
      },
      "outputs": [],
      "source": [
        "# hyperparameters: optimizer, weight_decay, learning_rate, batch_size\n",
        "from transformers import TrainingArguments\n",
        "from transformers import EarlyStoppingCallback, IntervalStrategy\n",
        "\n",
        "args = TrainingArguments(\n",
        "    checkpoint,\n",
        "    evaluation_strategy=IntervalStrategy.STEPS,\n",
        "    eval_steps = 50,\n",
        "    save_total_limit = 5,\n",
        "    learning_rate=2e-5,\n",
        "    num_train_epochs=20,\n",
        "    weight_decay=0.01,\n",
        "    logging_steps=1,\n",
        "    metric_for_best_model = 'f1',\n",
        "    load_best_model_at_end=True,\n",
        "    seed = 42\n",
        ")"
      ]
    },
    {
      "cell_type": "code",
      "execution_count": null,
      "id": "1e3424fe",
      "metadata": {
        "id": "1e3424fe",
        "colab": {
          "base_uri": "https://localhost:8080/",
          "height": 1000
        },
        "outputId": "ac2ffa47-fb96-4ee2-850b-0a00d1702b2b"
      },
      "outputs": [
        {
          "output_type": "display_data",
          "data": {
            "text/plain": [
              "<IPython.core.display.HTML object>"
            ],
            "text/html": [
              "\n",
              "    <div>\n",
              "      \n",
              "      <progress value='940' max='940' style='width:300px; height:20px; vertical-align: middle;'></progress>\n",
              "      [940/940 13:28, Epoch 20/20]\n",
              "    </div>\n",
              "    <table border=\"1\" class=\"dataframe\">\n",
              "  <thead>\n",
              " <tr style=\"text-align: left;\">\n",
              "      <th>Step</th>\n",
              "      <th>Training Loss</th>\n",
              "      <th>Validation Loss</th>\n",
              "      <th>F1</th>\n",
              "      <th>F1 O</th>\n",
              "      <th>F1 B Test</th>\n",
              "      <th>F1 I Test</th>\n",
              "      <th>F1 B Problem</th>\n",
              "      <th>F1 I Problem</th>\n",
              "      <th>F1 B Treatment</th>\n",
              "      <th>F1 I Treatment</th>\n",
              "    </tr>\n",
              "  </thead>\n",
              "  <tbody>\n",
              "    <tr>\n",
              "      <td>50</td>\n",
              "      <td>0.227700</td>\n",
              "      <td>0.205067</td>\n",
              "      <td>0.719812</td>\n",
              "      <td>0.982857</td>\n",
              "      <td>0.981818</td>\n",
              "      <td>0.988636</td>\n",
              "      <td>0.988372</td>\n",
              "      <td>0.981132</td>\n",
              "      <td>0.975904</td>\n",
              "      <td>1.000000</td>\n",
              "    </tr>\n",
              "    <tr>\n",
              "      <td>100</td>\n",
              "      <td>0.082300</td>\n",
              "      <td>0.153453</td>\n",
              "      <td>0.805356</td>\n",
              "      <td>0.994350</td>\n",
              "      <td>0.994012</td>\n",
              "      <td>0.994350</td>\n",
              "      <td>0.988372</td>\n",
              "      <td>0.987654</td>\n",
              "      <td>0.975904</td>\n",
              "      <td>1.000000</td>\n",
              "    </tr>\n",
              "    <tr>\n",
              "      <td>150</td>\n",
              "      <td>0.102700</td>\n",
              "      <td>0.140823</td>\n",
              "      <td>0.827972</td>\n",
              "      <td>0.994350</td>\n",
              "      <td>0.987952</td>\n",
              "      <td>0.994350</td>\n",
              "      <td>0.988372</td>\n",
              "      <td>0.981132</td>\n",
              "      <td>0.987952</td>\n",
              "      <td>1.000000</td>\n",
              "    </tr>\n",
              "    <tr>\n",
              "      <td>200</td>\n",
              "      <td>0.045600</td>\n",
              "      <td>0.146063</td>\n",
              "      <td>0.833870</td>\n",
              "      <td>0.994350</td>\n",
              "      <td>0.994012</td>\n",
              "      <td>0.994350</td>\n",
              "      <td>0.988372</td>\n",
              "      <td>0.981132</td>\n",
              "      <td>0.988095</td>\n",
              "      <td>1.000000</td>\n",
              "    </tr>\n",
              "    <tr>\n",
              "      <td>250</td>\n",
              "      <td>0.032700</td>\n",
              "      <td>0.155634</td>\n",
              "      <td>0.839127</td>\n",
              "      <td>0.994350</td>\n",
              "      <td>0.994012</td>\n",
              "      <td>0.994350</td>\n",
              "      <td>0.988372</td>\n",
              "      <td>1.000000</td>\n",
              "      <td>0.988095</td>\n",
              "      <td>1.000000</td>\n",
              "    </tr>\n",
              "    <tr>\n",
              "      <td>300</td>\n",
              "      <td>0.027000</td>\n",
              "      <td>0.161048</td>\n",
              "      <td>0.844278</td>\n",
              "      <td>0.994350</td>\n",
              "      <td>0.994012</td>\n",
              "      <td>0.994350</td>\n",
              "      <td>0.988372</td>\n",
              "      <td>1.000000</td>\n",
              "      <td>0.982036</td>\n",
              "      <td>1.000000</td>\n",
              "    </tr>\n",
              "    <tr>\n",
              "      <td>350</td>\n",
              "      <td>0.036800</td>\n",
              "      <td>0.164095</td>\n",
              "      <td>0.841889</td>\n",
              "      <td>0.994350</td>\n",
              "      <td>0.987952</td>\n",
              "      <td>1.000000</td>\n",
              "      <td>0.988372</td>\n",
              "      <td>0.993789</td>\n",
              "      <td>0.987952</td>\n",
              "      <td>1.000000</td>\n",
              "    </tr>\n",
              "    <tr>\n",
              "      <td>400</td>\n",
              "      <td>0.034700</td>\n",
              "      <td>0.172172</td>\n",
              "      <td>0.843336</td>\n",
              "      <td>0.994350</td>\n",
              "      <td>0.994012</td>\n",
              "      <td>1.000000</td>\n",
              "      <td>0.988372</td>\n",
              "      <td>1.000000</td>\n",
              "      <td>0.987952</td>\n",
              "      <td>1.000000</td>\n",
              "    </tr>\n",
              "    <tr>\n",
              "      <td>450</td>\n",
              "      <td>0.014800</td>\n",
              "      <td>0.178938</td>\n",
              "      <td>0.845255</td>\n",
              "      <td>0.994350</td>\n",
              "      <td>0.994012</td>\n",
              "      <td>0.994350</td>\n",
              "      <td>0.988372</td>\n",
              "      <td>0.993789</td>\n",
              "      <td>0.988095</td>\n",
              "      <td>1.000000</td>\n",
              "    </tr>\n",
              "    <tr>\n",
              "      <td>500</td>\n",
              "      <td>0.011900</td>\n",
              "      <td>0.185067</td>\n",
              "      <td>0.847510</td>\n",
              "      <td>0.994350</td>\n",
              "      <td>0.994012</td>\n",
              "      <td>0.994350</td>\n",
              "      <td>0.988372</td>\n",
              "      <td>1.000000</td>\n",
              "      <td>0.987952</td>\n",
              "      <td>1.000000</td>\n",
              "    </tr>\n",
              "    <tr>\n",
              "      <td>550</td>\n",
              "      <td>0.029000</td>\n",
              "      <td>0.190480</td>\n",
              "      <td>0.848774</td>\n",
              "      <td>0.994350</td>\n",
              "      <td>0.994012</td>\n",
              "      <td>0.994350</td>\n",
              "      <td>0.988372</td>\n",
              "      <td>0.993865</td>\n",
              "      <td>0.993939</td>\n",
              "      <td>1.000000</td>\n",
              "    </tr>\n",
              "    <tr>\n",
              "      <td>600</td>\n",
              "      <td>0.009800</td>\n",
              "      <td>0.193460</td>\n",
              "      <td>0.849601</td>\n",
              "      <td>0.994350</td>\n",
              "      <td>0.994012</td>\n",
              "      <td>0.994350</td>\n",
              "      <td>0.988372</td>\n",
              "      <td>1.000000</td>\n",
              "      <td>0.987952</td>\n",
              "      <td>1.000000</td>\n",
              "    </tr>\n",
              "    <tr>\n",
              "      <td>650</td>\n",
              "      <td>0.010400</td>\n",
              "      <td>0.199380</td>\n",
              "      <td>0.848501</td>\n",
              "      <td>0.994350</td>\n",
              "      <td>0.994012</td>\n",
              "      <td>0.994350</td>\n",
              "      <td>0.988372</td>\n",
              "      <td>1.000000</td>\n",
              "      <td>0.993939</td>\n",
              "      <td>1.000000</td>\n",
              "    </tr>\n",
              "    <tr>\n",
              "      <td>700</td>\n",
              "      <td>0.013300</td>\n",
              "      <td>0.203726</td>\n",
              "      <td>0.848986</td>\n",
              "      <td>0.994350</td>\n",
              "      <td>0.994012</td>\n",
              "      <td>0.994350</td>\n",
              "      <td>0.988372</td>\n",
              "      <td>1.000000</td>\n",
              "      <td>0.993939</td>\n",
              "      <td>1.000000</td>\n",
              "    </tr>\n",
              "    <tr>\n",
              "      <td>750</td>\n",
              "      <td>0.002400</td>\n",
              "      <td>0.206093</td>\n",
              "      <td>0.852709</td>\n",
              "      <td>0.994350</td>\n",
              "      <td>0.994012</td>\n",
              "      <td>0.994350</td>\n",
              "      <td>0.988372</td>\n",
              "      <td>1.000000</td>\n",
              "      <td>0.993939</td>\n",
              "      <td>1.000000</td>\n",
              "    </tr>\n",
              "    <tr>\n",
              "      <td>800</td>\n",
              "      <td>0.003100</td>\n",
              "      <td>0.211574</td>\n",
              "      <td>0.850227</td>\n",
              "      <td>0.994350</td>\n",
              "      <td>0.994012</td>\n",
              "      <td>0.988764</td>\n",
              "      <td>0.988372</td>\n",
              "      <td>1.000000</td>\n",
              "      <td>0.987952</td>\n",
              "      <td>1.000000</td>\n",
              "    </tr>\n",
              "    <tr>\n",
              "      <td>850</td>\n",
              "      <td>0.014900</td>\n",
              "      <td>0.211635</td>\n",
              "      <td>0.848532</td>\n",
              "      <td>0.994350</td>\n",
              "      <td>0.994012</td>\n",
              "      <td>0.994350</td>\n",
              "      <td>0.988372</td>\n",
              "      <td>1.000000</td>\n",
              "      <td>0.993939</td>\n",
              "      <td>1.000000</td>\n",
              "    </tr>\n",
              "    <tr>\n",
              "      <td>900</td>\n",
              "      <td>0.004600</td>\n",
              "      <td>0.213250</td>\n",
              "      <td>0.848070</td>\n",
              "      <td>0.994350</td>\n",
              "      <td>0.994012</td>\n",
              "      <td>0.994350</td>\n",
              "      <td>0.988372</td>\n",
              "      <td>1.000000</td>\n",
              "      <td>0.993939</td>\n",
              "      <td>1.000000</td>\n",
              "    </tr>\n",
              "  </tbody>\n",
              "</table><p>"
            ]
          },
          "metadata": {}
        },
        {
          "output_type": "stream",
          "name": "stdout",
          "text": [
            "              precision    recall  f1-score   support\n",
            "\n",
            "           0       1.00      0.97      0.98        89\n",
            "           1       1.00      0.96      0.98        84\n",
            "           2       1.00      0.98      0.99        89\n",
            "           3       1.00      0.98      0.99        87\n",
            "           4       1.00      0.96      0.98        81\n",
            "           5       0.98      0.98      0.98        83\n",
            "           6       1.00      1.00      1.00        93\n",
            "\n",
            "   micro avg       1.00      0.98      0.99       606\n",
            "   macro avg       1.00      0.97      0.99       606\n",
            "weighted avg       1.00      0.98      0.99       606\n",
            " samples avg       1.00      0.97      0.98       606\n",
            "\n",
            "              precision    recall  f1-score   support\n",
            "\n",
            "           0       1.00      0.99      0.99        89\n",
            "           1       1.00      0.99      0.99        84\n",
            "           2       1.00      0.99      0.99        89\n",
            "           3       1.00      0.98      0.99        87\n",
            "           4       0.99      0.99      0.99        81\n",
            "           5       0.98      0.98      0.98        83\n",
            "           6       1.00      1.00      1.00        93\n",
            "\n",
            "   micro avg       1.00      0.99      0.99       606\n",
            "   macro avg       0.99      0.99      0.99       606\n",
            "weighted avg       1.00      0.99      0.99       606\n",
            " samples avg       1.00      0.98      0.99       606\n",
            "\n",
            "              precision    recall  f1-score   support\n",
            "\n",
            "           0       1.00      0.99      0.99        89\n",
            "           1       1.00      0.98      0.99        84\n",
            "           2       1.00      0.99      0.99        89\n",
            "           3       1.00      0.98      0.99        87\n",
            "           4       1.00      0.96      0.98        81\n",
            "           5       0.99      0.99      0.99        83\n",
            "           6       1.00      1.00      1.00        93\n",
            "\n",
            "   micro avg       1.00      0.98      0.99       606\n",
            "   macro avg       1.00      0.98      0.99       606\n",
            "weighted avg       1.00      0.98      0.99       606\n",
            " samples avg       1.00      0.98      0.98       606\n",
            "\n",
            "              precision    recall  f1-score   support\n",
            "\n",
            "           0       1.00      0.99      0.99        89\n",
            "           1       1.00      0.99      0.99        84\n",
            "           2       1.00      0.99      0.99        89\n",
            "           3       1.00      0.98      0.99        87\n",
            "           4       1.00      0.96      0.98        81\n",
            "           5       0.98      1.00      0.99        83\n",
            "           6       1.00      1.00      1.00        93\n",
            "\n",
            "   micro avg       1.00      0.99      0.99       606\n",
            "   macro avg       1.00      0.99      0.99       606\n",
            "weighted avg       1.00      0.99      0.99       606\n",
            " samples avg       1.00      0.98      0.99       606\n",
            "\n",
            "              precision    recall  f1-score   support\n",
            "\n",
            "           0       1.00      0.99      0.99        89\n",
            "           1       1.00      0.99      0.99        84\n",
            "           2       1.00      0.99      0.99        89\n",
            "           3       1.00      0.98      0.99        87\n",
            "           4       1.00      1.00      1.00        81\n",
            "           5       0.98      1.00      0.99        83\n",
            "           6       1.00      1.00      1.00        93\n",
            "\n",
            "   micro avg       1.00      0.99      0.99       606\n",
            "   macro avg       1.00      0.99      0.99       606\n",
            "weighted avg       1.00      0.99      0.99       606\n",
            " samples avg       1.00      0.99      0.99       606\n",
            "\n",
            "              precision    recall  f1-score   support\n",
            "\n",
            "           0       1.00      0.99      0.99        89\n",
            "           1       1.00      0.99      0.99        84\n",
            "           2       1.00      0.99      0.99        89\n",
            "           3       1.00      0.98      0.99        87\n",
            "           4       1.00      1.00      1.00        81\n",
            "           5       0.98      0.99      0.98        83\n",
            "           6       1.00      1.00      1.00        93\n",
            "\n",
            "   micro avg       1.00      0.99      0.99       606\n",
            "   macro avg       1.00      0.99      0.99       606\n",
            "weighted avg       1.00      0.99      0.99       606\n",
            " samples avg       1.00      0.99      0.99       606\n",
            "\n",
            "              precision    recall  f1-score   support\n",
            "\n",
            "           0       1.00      0.99      0.99        89\n",
            "           1       1.00      0.98      0.99        84\n",
            "           2       1.00      1.00      1.00        89\n",
            "           3       1.00      0.98      0.99        87\n",
            "           4       1.00      0.99      0.99        81\n",
            "           5       0.99      0.99      0.99        83\n",
            "           6       1.00      1.00      1.00        93\n",
            "\n",
            "   micro avg       1.00      0.99      0.99       606\n",
            "   macro avg       1.00      0.99      0.99       606\n",
            "weighted avg       1.00      0.99      0.99       606\n",
            " samples avg       1.00      0.99      0.99       606\n",
            "\n",
            "              precision    recall  f1-score   support\n",
            "\n",
            "           0       1.00      0.99      0.99        89\n",
            "           1       1.00      0.99      0.99        84\n",
            "           2       1.00      1.00      1.00        89\n",
            "           3       1.00      0.98      0.99        87\n",
            "           4       1.00      1.00      1.00        81\n",
            "           5       0.99      0.99      0.99        83\n",
            "           6       1.00      1.00      1.00        93\n",
            "\n",
            "   micro avg       1.00      0.99      1.00       606\n",
            "   macro avg       1.00      0.99      0.99       606\n",
            "weighted avg       1.00      0.99      1.00       606\n",
            " samples avg       1.00      0.99      0.99       606\n",
            "\n",
            "              precision    recall  f1-score   support\n",
            "\n",
            "           0       1.00      0.99      0.99        89\n",
            "           1       1.00      0.99      0.99        84\n",
            "           2       1.00      0.99      0.99        89\n",
            "           3       1.00      0.98      0.99        87\n",
            "           4       1.00      0.99      0.99        81\n",
            "           5       0.98      1.00      0.99        83\n",
            "           6       1.00      1.00      1.00        93\n",
            "\n",
            "   micro avg       1.00      0.99      0.99       606\n",
            "   macro avg       1.00      0.99      0.99       606\n",
            "weighted avg       1.00      0.99      0.99       606\n",
            " samples avg       1.00      0.99      0.99       606\n",
            "\n",
            "              precision    recall  f1-score   support\n",
            "\n",
            "           0       1.00      0.99      0.99        89\n",
            "           1       1.00      0.99      0.99        84\n",
            "           2       1.00      0.99      0.99        89\n",
            "           3       1.00      0.98      0.99        87\n",
            "           4       1.00      1.00      1.00        81\n",
            "           5       0.99      0.99      0.99        83\n",
            "           6       1.00      1.00      1.00        93\n",
            "\n",
            "   micro avg       1.00      0.99      0.99       606\n",
            "   macro avg       1.00      0.99      0.99       606\n",
            "weighted avg       1.00      0.99      0.99       606\n",
            " samples avg       1.00      0.99      0.99       606\n",
            "\n",
            "              precision    recall  f1-score   support\n",
            "\n",
            "           0       1.00      0.99      0.99        89\n",
            "           1       1.00      0.99      0.99        84\n",
            "           2       1.00      0.99      0.99        89\n",
            "           3       1.00      0.98      0.99        87\n",
            "           4       0.99      1.00      0.99        81\n",
            "           5       1.00      0.99      0.99        83\n",
            "           6       1.00      1.00      1.00        93\n",
            "\n",
            "   micro avg       1.00      0.99      0.99       606\n",
            "   macro avg       1.00      0.99      0.99       606\n",
            "weighted avg       1.00      0.99      0.99       606\n",
            " samples avg       1.00      0.99      0.99       606\n",
            "\n",
            "              precision    recall  f1-score   support\n",
            "\n",
            "           0       1.00      0.99      0.99        89\n",
            "           1       1.00      0.99      0.99        84\n",
            "           2       1.00      0.99      0.99        89\n",
            "           3       1.00      0.98      0.99        87\n",
            "           4       1.00      1.00      1.00        81\n",
            "           5       0.99      0.99      0.99        83\n",
            "           6       1.00      1.00      1.00        93\n",
            "\n",
            "   micro avg       1.00      0.99      0.99       606\n",
            "   macro avg       1.00      0.99      0.99       606\n",
            "weighted avg       1.00      0.99      0.99       606\n",
            " samples avg       1.00      0.99      0.99       606\n",
            "\n",
            "              precision    recall  f1-score   support\n",
            "\n",
            "           0       1.00      0.99      0.99        89\n",
            "           1       1.00      0.99      0.99        84\n",
            "           2       1.00      0.99      0.99        89\n",
            "           3       1.00      0.98      0.99        87\n",
            "           4       1.00      1.00      1.00        81\n",
            "           5       1.00      0.99      0.99        83\n",
            "           6       1.00      1.00      1.00        93\n",
            "\n",
            "   micro avg       1.00      0.99      1.00       606\n",
            "   macro avg       1.00      0.99      1.00       606\n",
            "weighted avg       1.00      0.99      1.00       606\n",
            " samples avg       1.00      0.99      0.99       606\n",
            "\n",
            "              precision    recall  f1-score   support\n",
            "\n",
            "           0       1.00      0.99      0.99        89\n",
            "           1       1.00      0.99      0.99        84\n",
            "           2       1.00      0.99      0.99        89\n",
            "           3       1.00      0.98      0.99        87\n",
            "           4       1.00      1.00      1.00        81\n",
            "           5       1.00      0.99      0.99        83\n",
            "           6       1.00      1.00      1.00        93\n",
            "\n",
            "   micro avg       1.00      0.99      1.00       606\n",
            "   macro avg       1.00      0.99      1.00       606\n",
            "weighted avg       1.00      0.99      1.00       606\n",
            " samples avg       1.00      0.99      0.99       606\n",
            "\n",
            "              precision    recall  f1-score   support\n",
            "\n",
            "           0       1.00      0.99      0.99        89\n",
            "           1       1.00      0.99      0.99        84\n",
            "           2       1.00      0.99      0.99        89\n",
            "           3       1.00      0.98      0.99        87\n",
            "           4       1.00      1.00      1.00        81\n",
            "           5       1.00      0.99      0.99        83\n",
            "           6       1.00      1.00      1.00        93\n",
            "\n",
            "   micro avg       1.00      0.99      1.00       606\n",
            "   macro avg       1.00      0.99      1.00       606\n",
            "weighted avg       1.00      0.99      1.00       606\n",
            " samples avg       1.00      0.99      0.99       606\n",
            "\n",
            "              precision    recall  f1-score   support\n",
            "\n",
            "           0       1.00      0.99      0.99        89\n",
            "           1       1.00      0.99      0.99        84\n",
            "           2       0.99      0.99      0.99        89\n",
            "           3       1.00      0.98      0.99        87\n",
            "           4       1.00      1.00      1.00        81\n",
            "           5       0.99      0.99      0.99        83\n",
            "           6       1.00      1.00      1.00        93\n",
            "\n",
            "   micro avg       1.00      0.99      0.99       606\n",
            "   macro avg       1.00      0.99      0.99       606\n",
            "weighted avg       1.00      0.99      0.99       606\n",
            " samples avg       1.00      0.99      0.99       606\n",
            "\n",
            "              precision    recall  f1-score   support\n",
            "\n",
            "           0       1.00      0.99      0.99        89\n",
            "           1       1.00      0.99      0.99        84\n",
            "           2       1.00      0.99      0.99        89\n",
            "           3       1.00      0.98      0.99        87\n",
            "           4       1.00      1.00      1.00        81\n",
            "           5       1.00      0.99      0.99        83\n",
            "           6       1.00      1.00      1.00        93\n",
            "\n",
            "   micro avg       1.00      0.99      1.00       606\n",
            "   macro avg       1.00      0.99      1.00       606\n",
            "weighted avg       1.00      0.99      1.00       606\n",
            " samples avg       1.00      0.99      0.99       606\n",
            "\n",
            "              precision    recall  f1-score   support\n",
            "\n",
            "           0       1.00      0.99      0.99        89\n",
            "           1       1.00      0.99      0.99        84\n",
            "           2       1.00      0.99      0.99        89\n",
            "           3       1.00      0.98      0.99        87\n",
            "           4       1.00      1.00      1.00        81\n",
            "           5       1.00      0.99      0.99        83\n",
            "           6       1.00      1.00      1.00        93\n",
            "\n",
            "   micro avg       1.00      0.99      1.00       606\n",
            "   macro avg       1.00      0.99      1.00       606\n",
            "weighted avg       1.00      0.99      1.00       606\n",
            " samples avg       1.00      0.99      0.99       606\n",
            "\n"
          ]
        },
        {
          "output_type": "execute_result",
          "data": {
            "text/plain": [
              "TrainOutput(global_step=940, training_loss=0.061310762496902906, metrics={'train_runtime': 810.4364, 'train_samples_per_second': 9.106, 'train_steps_per_second': 1.16, 'total_flos': 1928185720156344.0, 'train_loss': 0.061310762496902906, 'epoch': 20.0})"
            ]
          },
          "metadata": {},
          "execution_count": 33
        }
      ],
      "source": [
        "from transformers import Trainer\n",
        "\n",
        "trainer = Trainer(\n",
        "    model=model,\n",
        "    args=args,\n",
        "    train_dataset=final_dataset[\"train\"],\n",
        "    eval_dataset=final_dataset[\"validation\"],\n",
        "    data_collator=data_collator,\n",
        "    compute_metrics=compute_metrics,\n",
        "    tokenizer=tokenizer,\n",
        "    callbacks = [EarlyStoppingCallback(early_stopping_patience=2)]\n",
        ")\n",
        "trainer.train()"
      ]
    },
    {
      "cell_type": "code",
      "execution_count": null,
      "id": "016125b0",
      "metadata": {
        "id": "016125b0"
      },
      "outputs": [],
      "source": [
        "loss = []\n",
        "learning_rate = []\n",
        "epoch = []\n",
        "val_loss = []\n",
        "history = trainer.state.log_history\n",
        "f1 = []\n",
        "for step in history:\n",
        "  if 'learning_rate' in step.keys() and step['step'] % 50 == 0:\n",
        "    epoch.append(step['epoch'])\n",
        "    learning_rate.append(step['learning_rate'])\n",
        "    loss.append(step['loss'])\n",
        "  elif 'eval_loss' in step.keys() and step['step'] % 50 == 0:\n",
        "    val_loss.append(step['eval_loss'])\n",
        "    f1.append(step['eval_f1'])\n",
        "  else:\n",
        "    continue"
      ]
    },
    {
      "cell_type": "code",
      "source": [
        "import matplotlib.pyplot as plt\n",
        "\n",
        "plt.plot(epoch,loss,label='loss')\n",
        "plt.plot(epoch,val_loss,label='val loss')\n",
        "#plt.plot(epoch,list(map(lambda x: x/val_loss[0],learning_rate)),label='learning rate')\n",
        "plt.plot(epoch,f1,label='F1')\n",
        "plt.legend(loc='center right')\n",
        "plt.title('Training History of BERT')\n",
        "plt.xlabel('Epoch')"
      ],
      "metadata": {
        "id": "jcaIAPGWWikj",
        "colab": {
          "base_uri": "https://localhost:8080/",
          "height": 489
        },
        "outputId": "11998575-5427-49eb-e90e-a687f3495787"
      },
      "id": "jcaIAPGWWikj",
      "execution_count": null,
      "outputs": [
        {
          "output_type": "execute_result",
          "data": {
            "text/plain": [
              "Text(0.5, 0, 'Epoch')"
            ]
          },
          "metadata": {},
          "execution_count": 35
        },
        {
          "output_type": "display_data",
          "data": {
            "text/plain": [
              "<Figure size 640x480 with 1 Axes>"
            ],
            "image/png": "[encoded data removed]"
          },
          "metadata": {}
        }
      ]
    },
    {
      "cell_type": "code",
      "execution_count": null,
      "id": "b6af4e8a",
      "metadata": {
        "id": "b6af4e8a"
      },
      "outputs": [],
      "source": [
        "#trainer.save_model('model_biobert_20240406')"
      ]
    },
    {
      "cell_type": "code",
      "source": [
        "#!zip -r /content/file.zip /content/model_biobert_20240406/"
      ],
      "metadata": {
        "id": "H8mNy0qK8Zay",
        "colab": {
          "base_uri": "https://localhost:8080/"
        },
        "outputId": "2a4c3fc4-d9e6-4068-ff3c-0a9c466c5aec"
      },
      "id": "H8mNy0qK8Zay",
      "execution_count": null,
      "outputs": [
        {
          "output_type": "stream",
          "name": "stdout",
          "text": [
            "  adding: content/model_biobert_20240406/ (stored 0%)\n",
            "  adding: content/model_biobert_20240406/config.json (deflated 53%)\n",
            "  adding: content/model_biobert_20240406/training_args.bin (deflated 51%)\n",
            "  adding: content/model_biobert_20240406/tokenizer.json (deflated 70%)\n",
            "  adding: content/model_biobert_20240406/special_tokens_map.json (deflated 42%)\n",
            "  adding: content/model_biobert_20240406/vocab.txt (deflated 49%)\n",
            "  adding: content/model_biobert_20240406/model.safetensors (deflated 7%)\n",
            "  adding: content/model_biobert_20240406/tokenizer_config.json (deflated 75%)\n"
          ]
        }
      ]
    },
    {
      "cell_type": "code",
      "source": [
        "#from google.colab import files\n",
        "#files.download(\"/content/file.zip\")"
      ],
      "metadata": {
        "id": "T0ZMSsy1-ylH",
        "colab": {
          "base_uri": "https://localhost:8080/",
          "height": 34
        },
        "outputId": "cd8fecec-4290-4f41-f13b-1bc83171c6ac"
      },
      "id": "T0ZMSsy1-ylH",
      "execution_count": null,
      "outputs": [
        {
          "output_type": "display_data",
          "data": {
            "text/plain": [
              "<IPython.core.display.Javascript object>"
            ],
            "application/javascript": [
              "\n",
              "    async function download(id, filename, size) {\n",
              "      if (!google.colab.kernel.accessAllowed) {\n",
              "        return;\n",
              "      }\n",
              "      const div = document.createElement('div');\n",
              "      const label = document.createElement('label');\n",
              "      label.textContent = `Downloading \"${filename}\": `;\n",
              "      div.appendChild(label);\n",
              "      const progress = document.createElement('progress');\n",
              "      progress.max = size;\n",
              "      div.appendChild(progress);\n",
              "      document.body.appendChild(div);\n",
              "\n",
              "      const buffers = [];\n",
              "      let downloaded = 0;\n",
              "\n",
              "      const channel = await google.colab.kernel.comms.open(id);\n",
              "      // Send a message to notify the kernel that we're ready.\n",
              "      channel.send({})\n",
              "\n",
              "      for await (const message of channel.messages) {\n",
              "        // Send a message to notify the kernel that we're ready.\n",
              "        channel.send({})\n",
              "        if (message.buffers) {\n",
              "          for (const buffer of message.buffers) {\n",
              "            buffers.push(buffer);\n",
              "            downloaded += buffer.byteLength;\n",
              "            progress.value = downloaded;\n",
              "          }\n",
              "        }\n",
              "      }\n",
              "      const blob = new Blob(buffers, {type: 'application/binary'});\n",
              "      const a = document.createElement('a');\n",
              "      a.href = window.URL.createObjectURL(blob);\n",
              "      a.download = filename;\n",
              "      div.appendChild(a);\n",
              "      a.click();\n",
              "      div.remove();\n",
              "    }\n",
              "  "
            ]
          },
          "metadata": {}
        },
        {
          "output_type": "display_data",
          "data": {
            "text/plain": [
              "<IPython.core.display.Javascript object>"
            ],
            "application/javascript": [
              "download(\"download_2583d488-bd98-468e-ac37-c6b008a091f5\", \"file.zip\", 399355471)"
            ]
          },
          "metadata": {}
        }
      ]
    },
    {
      "cell_type": "code",
      "source": [
        "trainer.evaluate(final_dataset['test'])"
      ],
      "metadata": {
        "colab": {
          "base_uri": "https://localhost:8080/",
          "height": 523
        },
        "id": "AhiE4R048H7S",
        "outputId": "e8706888-94b8-480e-ec46-77218e2ab11e"
      },
      "execution_count": null,
      "outputs": [
        {
          "output_type": "display_data",
          "data": {
            "text/plain": [
              "<IPython.core.display.HTML object>"
            ],
            "text/html": [
              "\n",
              "    <div>\n",
              "      \n",
              "      <progress value='102' max='102' style='width:300px; height:20px; vertical-align: middle;'></progress>\n",
              "      [102/102 00:27]\n",
              "    </div>\n",
              "    "
            ]
          },
          "metadata": {}
        },
        {
          "output_type": "stream",
          "name": "stdout",
          "text": [
            "              precision    recall  f1-score   support\n",
            "\n",
            "           0       0.99      0.99      0.99       738\n",
            "           1       0.99      0.99      0.99       672\n",
            "           2       1.00      0.99      0.99       738\n",
            "           3       0.99      0.99      0.99       716\n",
            "           4       0.99      0.99      0.99       640\n",
            "           5       0.98      0.99      0.98       691\n",
            "           6       1.00      1.00      1.00       813\n",
            "\n",
            "   micro avg       0.99      0.99      0.99      5008\n",
            "   macro avg       0.99      0.99      0.99      5008\n",
            "weighted avg       0.99      0.99      0.99      5008\n",
            " samples avg       0.99      0.99      0.99      5008\n",
            "\n"
          ]
        },
        {
          "output_type": "execute_result",
          "data": {
            "text/plain": [
              "{'eval_loss': 0.2026473432779312,\n",
              " 'eval_f1': 0.8492641895160662,\n",
              " 'eval_f1_O': 0.9938983050847457,\n",
              " 'eval_f1_B_test': 0.9888143176733781,\n",
              " 'eval_f1_I_test': 0.9925119128658952,\n",
              " 'eval_f1_B_problem': 0.9909407665505227,\n",
              " 'eval_f1_I_problem': 0.9883086515978177,\n",
              " 'eval_f1_B_treatment': 0.9848594087959625,\n",
              " 'eval_f1_I_treatment': 1.0,\n",
              " 'eval_runtime': 44.3598,\n",
              " 'eval_samples_per_second': 18.327,\n",
              " 'eval_steps_per_second': 2.299,\n",
              " 'epoch': 20.0}"
            ]
          },
          "metadata": {},
          "execution_count": 36
        }
      ],
      "id": "AhiE4R048H7S"
    },
    {
      "cell_type": "code",
      "source": [],
      "metadata": {
        "id": "C1TA2zoyOT18"
      },
      "id": "C1TA2zoyOT18",
      "execution_count": null,
      "outputs": []
    },
    {
      "cell_type": "code",
      "source": [],
      "metadata": {
        "id": "K3w4s0BKOU8r"
      },
      "id": "K3w4s0BKOU8r",
      "execution_count": null,
      "outputs": []
    }
  ],
  "metadata": {
    "kernelspec": {
      "display_name": "nlp_env2",
      "language": "python",
      "name": "nlp_env2"
    },
    "language_info": {
      "codemirror_mode": {
        "name": "ipython",
        "version": 3
      },
      "file_extension": ".py",
      "mimetype": "text/x-python",
      "name": "python",
      "nbconvert_exporter": "python",
      "pygments_lexer": "ipython3",
      "version": "3.10.8"
    },
    "colab": {
      "provenance": [],
      "gpuType": "T4"
    },
    "accelerator": "GPU",
    "widgets": {
      "application/vnd.jupyter.widget-state+json": {
        "0a880f18f3844cc28621b517afb33db7": {
          "model_module": "@jupyter-widgets/controls",
          "model_name": "HBoxModel",
          "model_module_version": "1.5.0",
          "state": {
            "_dom_classes": [],
            "_model_module": "@jupyter-widgets/controls",
            "_model_module_version": "1.5.0",
            "_model_name": "HBoxModel",
            "_view_count": null,
            "_view_module": "@jupyter-widgets/controls",
            "_view_module_version": "1.5.0",
            "_view_name": "HBoxView",
            "box_style": "",
            "children": [
              "IPY_MODEL_be09949c948f444c94a82c3db867586c",
              "IPY_MODEL_d4cb2254803e43b1985dba78e438ce61",
              "IPY_MODEL_863f1169a9284d2bafb99543f60e0667"
            ],
            "layout": "IPY_MODEL_870bad7f81494215ac216edc0ac53a82"
          }
        },
        "be09949c948f444c94a82c3db867586c": {
          "model_module": "@jupyter-widgets/controls",
          "model_name": "HTMLModel",
          "model_module_version": "1.5.0",
          "state": {
            "_dom_classes": [],
            "_model_module": "@jupyter-widgets/controls",
            "_model_module_version": "1.5.0",
            "_model_name": "HTMLModel",
            "_view_count": null,
            "_view_module": "@jupyter-widgets/controls",
            "_view_module_version": "1.5.0",
            "_view_name": "HTMLView",
            "description": "",
            "description_tooltip": null,
            "layout": "IPY_MODEL_e02a671fb9e943bba8aa13525292315f",
            "placeholder": "​",
            "style": "IPY_MODEL_6e305f61f7c142f592722af1c2c5f3dc",
            "value": "Casting the dataset: 100%"
          }
        },
        "d4cb2254803e43b1985dba78e438ce61": {
          "model_module": "@jupyter-widgets/controls",
          "model_name": "FloatProgressModel",
          "model_module_version": "1.5.0",
          "state": {
            "_dom_classes": [],
            "_model_module": "@jupyter-widgets/controls",
            "_model_module_version": "1.5.0",
            "_model_name": "FloatProgressModel",
            "_view_count": null,
            "_view_module": "@jupyter-widgets/controls",
            "_view_module_version": "1.5.0",
            "_view_name": "ProgressView",
            "bar_style": "success",
            "description": "",
            "description_tooltip": null,
            "layout": "IPY_MODEL_c6deb4a1b9aa4d27884012ce2e871c70",
            "max": 170,
            "min": 0,
            "orientation": "horizontal",
            "style": "IPY_MODEL_661672ff7ba14756b820fab6269c1c57",
            "value": 170
          }
        },
        "863f1169a9284d2bafb99543f60e0667": {
          "model_module": "@jupyter-widgets/controls",
          "model_name": "HTMLModel",
          "model_module_version": "1.5.0",
          "state": {
            "_dom_classes": [],
            "_model_module": "@jupyter-widgets/controls",
            "_model_module_version": "1.5.0",
            "_model_name": "HTMLModel",
            "_view_count": null,
            "_view_module": "@jupyter-widgets/controls",
            "_view_module_version": "1.5.0",
            "_view_name": "HTMLView",
            "description": "",
            "description_tooltip": null,
            "layout": "IPY_MODEL_be70b60c553648fea0e34365ecb2e7d3",
            "placeholder": "​",
            "style": "IPY_MODEL_ad577ef3607d46c3833e02b93176af22",
            "value": " 170/170 [00:00&lt;00:00, 413.39 examples/s]"
          }
        },
        "870bad7f81494215ac216edc0ac53a82": {
          "model_module": "@jupyter-widgets/base",
          "model_name": "LayoutModel",
          "model_module_version": "1.2.0",
          "state": {
            "_model_module": "@jupyter-widgets/base",
            "_model_module_version": "1.2.0",
            "_model_name": "LayoutModel",
            "_view_count": null,
            "_view_module": "@jupyter-widgets/base",
            "_view_module_version": "1.2.0",
            "_view_name": "LayoutView",
            "align_content": null,
            "align_items": null,
            "align_self": null,
            "border": null,
            "bottom": null,
            "display": null,
            "flex": null,
            "flex_flow": null,
            "grid_area": null,
            "grid_auto_columns": null,
            "grid_auto_flow": null,
            "grid_auto_rows": null,
            "grid_column": null,
            "grid_gap": null,
            "grid_row": null,
            "grid_template_areas": null,
            "grid_template_columns": null,
            "grid_template_rows": null,
            "height": null,
            "justify_content": null,
            "justify_items": null,
            "left": null,
            "margin": null,
            "max_height": null,
            "max_width": null,
            "min_height": null,
            "min_width": null,
            "object_fit": null,
            "object_position": null,
            "order": null,
            "overflow": null,
            "overflow_x": null,
            "overflow_y": null,
            "padding": null,
            "right": null,
            "top": null,
            "visibility": null,
            "width": null
          }
        },
        "e02a671fb9e943bba8aa13525292315f": {
          "model_module": "@jupyter-widgets/base",
          "model_name": "LayoutModel",
          "model_module_version": "1.2.0",
          "state": {
            "_model_module": "@jupyter-widgets/base",
            "_model_module_version": "1.2.0",
            "_model_name": "LayoutModel",
            "_view_count": null,
            "_view_module": "@jupyter-widgets/base",
            "_view_module_version": "1.2.0",
            "_view_name": "LayoutView",
            "align_content": null,
            "align_items": null,
            "align_self": null,
            "border": null,
            "bottom": null,
            "display": null,
            "flex": null,
            "flex_flow": null,
            "grid_area": null,
            "grid_auto_columns": null,
            "grid_auto_flow": null,
            "grid_auto_rows": null,
            "grid_column": null,
            "grid_gap": null,
            "grid_row": null,
            "grid_template_areas": null,
            "grid_template_columns": null,
            "grid_template_rows": null,
            "height": null,
            "justify_content": null,
            "justify_items": null,
            "left": null,
            "margin": null,
            "max_height": null,
            "max_width": null,
            "min_height": null,
            "min_width": null,
            "object_fit": null,
            "object_position": null,
            "order": null,
            "overflow": null,
            "overflow_x": null,
            "overflow_y": null,
            "padding": null,
            "right": null,
            "top": null,
            "visibility": null,
            "width": null
          }
        },
        "6e305f61f7c142f592722af1c2c5f3dc": {
          "model_module": "@jupyter-widgets/controls",
          "model_name": "DescriptionStyleModel",
          "model_module_version": "1.5.0",
          "state": {
            "_model_module": "@jupyter-widgets/controls",
            "_model_module_version": "1.5.0",
            "_model_name": "DescriptionStyleModel",
            "_view_count": null,
            "_view_module": "@jupyter-widgets/base",
            "_view_module_version": "1.2.0",
            "_view_name": "StyleView",
            "description_width": ""
          }
        },
        "c6deb4a1b9aa4d27884012ce2e871c70": {
          "model_module": "@jupyter-widgets/base",
          "model_name": "LayoutModel",
          "model_module_version": "1.2.0",
          "state": {
            "_model_module": "@jupyter-widgets/base",
            "_model_module_version": "1.2.0",
            "_model_name": "LayoutModel",
            "_view_count": null,
            "_view_module": "@jupyter-widgets/base",
            "_view_module_version": "1.2.0",
            "_view_name": "LayoutView",
            "align_content": null,
            "align_items": null,
            "align_self": null,
            "border": null,
            "bottom": null,
            "display": null,
            "flex": null,
            "flex_flow": null,
            "grid_area": null,
            "grid_auto_columns": null,
            "grid_auto_flow": null,
            "grid_auto_rows": null,
            "grid_column": null,
            "grid_gap": null,
            "grid_row": null,
            "grid_template_areas": null,
            "grid_template_columns": null,
            "grid_template_rows": null,
            "height": null,
            "justify_content": null,
            "justify_items": null,
            "left": null,
            "margin": null,
            "max_height": null,
            "max_width": null,
            "min_height": null,
            "min_width": null,
            "object_fit": null,
            "object_position": null,
            "order": null,
            "overflow": null,
            "overflow_x": null,
            "overflow_y": null,
            "padding": null,
            "right": null,
            "top": null,
            "visibility": null,
            "width": null
          }
        },
        "661672ff7ba14756b820fab6269c1c57": {
          "model_module": "@jupyter-widgets/controls",
          "model_name": "ProgressStyleModel",
          "model_module_version": "1.5.0",
          "state": {
            "_model_module": "@jupyter-widgets/controls",
            "_model_module_version": "1.5.0",
            "_model_name": "ProgressStyleModel",
            "_view_count": null,
            "_view_module": "@jupyter-widgets/base",
            "_view_module_version": "1.2.0",
            "_view_name": "StyleView",
            "bar_color": null,
            "description_width": ""
          }
        },
        "be70b60c553648fea0e34365ecb2e7d3": {
          "model_module": "@jupyter-widgets/base",
          "model_name": "LayoutModel",
          "model_module_version": "1.2.0",
          "state": {
            "_model_module": "@jupyter-widgets/base",
            "_model_module_version": "1.2.0",
            "_model_name": "LayoutModel",
            "_view_count": null,
            "_view_module": "@jupyter-widgets/base",
            "_view_module_version": "1.2.0",
            "_view_name": "LayoutView",
            "align_content": null,
            "align_items": null,
            "align_self": null,
            "border": null,
            "bottom": null,
            "display": null,
            "flex": null,
            "flex_flow": null,
            "grid_area": null,
            "grid_auto_columns": null,
            "grid_auto_flow": null,
            "grid_auto_rows": null,
            "grid_column": null,
            "grid_gap": null,
            "grid_row": null,
            "grid_template_areas": null,
            "grid_template_columns": null,
            "grid_template_rows": null,
            "height": null,
            "justify_content": null,
            "justify_items": null,
            "left": null,
            "margin": null,
            "max_height": null,
            "max_width": null,
            "min_height": null,
            "min_width": null,
            "object_fit": null,
            "object_position": null,
            "order": null,
            "overflow": null,
            "overflow_x": null,
            "overflow_y": null,
            "padding": null,
            "right": null,
            "top": null,
            "visibility": null,
            "width": null
          }
        },
        "ad577ef3607d46c3833e02b93176af22": {
          "model_module": "@jupyter-widgets/controls",
          "model_name": "DescriptionStyleModel",
          "model_module_version": "1.5.0",
          "state": {
            "_model_module": "@jupyter-widgets/controls",
            "_model_module_version": "1.5.0",
            "_model_name": "DescriptionStyleModel",
            "_view_count": null,
            "_view_module": "@jupyter-widgets/base",
            "_view_module_version": "1.2.0",
            "_view_name": "StyleView",
            "description_width": ""
          }
        },
        "e30ae240f7a94db09c1f0a125129a883": {
          "model_module": "@jupyter-widgets/controls",
          "model_name": "HBoxModel",
          "model_module_version": "1.5.0",
          "state": {
            "_dom_classes": [],
            "_model_module": "@jupyter-widgets/controls",
            "_model_module_version": "1.5.0",
            "_model_name": "HBoxModel",
            "_view_count": null,
            "_view_module": "@jupyter-widgets/controls",
            "_view_module_version": "1.5.0",
            "_view_name": "HBoxView",
            "box_style": "",
            "children": [
              "IPY_MODEL_dce4216414484794b950f68d3d098909",
              "IPY_MODEL_698ea38db25c42df929dbeae47360e73",
              "IPY_MODEL_ec85d610f98441498ab44b1193521c1d"
            ],
            "layout": "IPY_MODEL_3f78f485ef9b4bec8600f1e8353d56cb"
          }
        },
        "dce4216414484794b950f68d3d098909": {
          "model_module": "@jupyter-widgets/controls",
          "model_name": "HTMLModel",
          "model_module_version": "1.5.0",
          "state": {
            "_dom_classes": [],
            "_model_module": "@jupyter-widgets/controls",
            "_model_module_version": "1.5.0",
            "_model_name": "HTMLModel",
            "_view_count": null,
            "_view_module": "@jupyter-widgets/controls",
            "_view_module_version": "1.5.0",
            "_view_name": "HTMLView",
            "description": "",
            "description_tooltip": null,
            "layout": "IPY_MODEL_2caf8913cd954aa6bcf76fb0292e63cf",
            "placeholder": "​",
            "style": "IPY_MODEL_1b4bec82444b4d2f9c14395c25c8bcf4",
            "value": "Casting the dataset: 100%"
          }
        },
        "698ea38db25c42df929dbeae47360e73": {
          "model_module": "@jupyter-widgets/controls",
          "model_name": "FloatProgressModel",
          "model_module_version": "1.5.0",
          "state": {
            "_dom_classes": [],
            "_model_module": "@jupyter-widgets/controls",
            "_model_module_version": "1.5.0",
            "_model_name": "FloatProgressModel",
            "_view_count": null,
            "_view_module": "@jupyter-widgets/controls",
            "_view_module_version": "1.5.0",
            "_view_name": "ProgressView",
            "bar_style": "success",
            "description": "",
            "description_tooltip": null,
            "layout": "IPY_MODEL_e18b49572f0f4c18918b1447bb278576",
            "max": 256,
            "min": 0,
            "orientation": "horizontal",
            "style": "IPY_MODEL_cdc3d74b04634406b6db071abc8f2af3",
            "value": 256
          }
        },
        "ec85d610f98441498ab44b1193521c1d": {
          "model_module": "@jupyter-widgets/controls",
          "model_name": "HTMLModel",
          "model_module_version": "1.5.0",
          "state": {
            "_dom_classes": [],
            "_model_module": "@jupyter-widgets/controls",
            "_model_module_version": "1.5.0",
            "_model_name": "HTMLModel",
            "_view_count": null,
            "_view_module": "@jupyter-widgets/controls",
            "_view_module_version": "1.5.0",
            "_view_name": "HTMLView",
            "description": "",
            "description_tooltip": null,
            "layout": "IPY_MODEL_faed718d33894e0aa066905b0ffd0bb5",
            "placeholder": "​",
            "style": "IPY_MODEL_651c8c5dae56470bbb873fe0867a62d2",
            "value": " 256/256 [00:00&lt;00:00, 330.20 examples/s]"
          }
        },
        "3f78f485ef9b4bec8600f1e8353d56cb": {
          "model_module": "@jupyter-widgets/base",
          "model_name": "LayoutModel",
          "model_module_version": "1.2.0",
          "state": {
            "_model_module": "@jupyter-widgets/base",
            "_model_module_version": "1.2.0",
            "_model_name": "LayoutModel",
            "_view_count": null,
            "_view_module": "@jupyter-widgets/base",
            "_view_module_version": "1.2.0",
            "_view_name": "LayoutView",
            "align_content": null,
            "align_items": null,
            "align_self": null,
            "border": null,
            "bottom": null,
            "display": null,
            "flex": null,
            "flex_flow": null,
            "grid_area": null,
            "grid_auto_columns": null,
            "grid_auto_flow": null,
            "grid_auto_rows": null,
            "grid_column": null,
            "grid_gap": null,
            "grid_row": null,
            "grid_template_areas": null,
            "grid_template_columns": null,
            "grid_template_rows": null,
            "height": null,
            "justify_content": null,
            "justify_items": null,
            "left": null,
            "margin": null,
            "max_height": null,
            "max_width": null,
            "min_height": null,
            "min_width": null,
            "object_fit": null,
            "object_position": null,
            "order": null,
            "overflow": null,
            "overflow_x": null,
            "overflow_y": null,
            "padding": null,
            "right": null,
            "top": null,
            "visibility": null,
            "width": null
          }
        },
        "2caf8913cd954aa6bcf76fb0292e63cf": {
          "model_module": "@jupyter-widgets/base",
          "model_name": "LayoutModel",
          "model_module_version": "1.2.0",
          "state": {
            "_model_module": "@jupyter-widgets/base",
            "_model_module_version": "1.2.0",
            "_model_name": "LayoutModel",
            "_view_count": null,
            "_view_module": "@jupyter-widgets/base",
            "_view_module_version": "1.2.0",
            "_view_name": "LayoutView",
            "align_content": null,
            "align_items": null,
            "align_self": null,
            "border": null,
            "bottom": null,
            "display": null,
            "flex": null,
            "flex_flow": null,
            "grid_area": null,
            "grid_auto_columns": null,
            "grid_auto_flow": null,
            "grid_auto_rows": null,
            "grid_column": null,
            "grid_gap": null,
            "grid_row": null,
            "grid_template_areas": null,
            "grid_template_columns": null,
            "grid_template_rows": null,
            "height": null,
            "justify_content": null,
            "justify_items": null,
            "left": null,
            "margin": null,
            "max_height": null,
            "max_width": null,
            "min_height": null,
            "min_width": null,
            "object_fit": null,
            "object_position": null,
            "order": null,
            "overflow": null,
            "overflow_x": null,
            "overflow_y": null,
            "padding": null,
            "right": null,
            "top": null,
            "visibility": null,
            "width": null
          }
        },
        "1b4bec82444b4d2f9c14395c25c8bcf4": {
          "model_module": "@jupyter-widgets/controls",
          "model_name": "DescriptionStyleModel",
          "model_module_version": "1.5.0",
          "state": {
            "_model_module": "@jupyter-widgets/controls",
            "_model_module_version": "1.5.0",
            "_model_name": "DescriptionStyleModel",
            "_view_count": null,
            "_view_module": "@jupyter-widgets/base",
            "_view_module_version": "1.2.0",
            "_view_name": "StyleView",
            "description_width": ""
          }
        },
        "e18b49572f0f4c18918b1447bb278576": {
          "model_module": "@jupyter-widgets/base",
          "model_name": "LayoutModel",
          "model_module_version": "1.2.0",
          "state": {
            "_model_module": "@jupyter-widgets/base",
            "_model_module_version": "1.2.0",
            "_model_name": "LayoutModel",
            "_view_count": null,
            "_view_module": "@jupyter-widgets/base",
            "_view_module_version": "1.2.0",
            "_view_name": "LayoutView",
            "align_content": null,
            "align_items": null,
            "align_self": null,
            "border": null,
            "bottom": null,
            "display": null,
            "flex": null,
            "flex_flow": null,
            "grid_area": null,
            "grid_auto_columns": null,
            "grid_auto_flow": null,
            "grid_auto_rows": null,
            "grid_column": null,
            "grid_gap": null,
            "grid_row": null,
            "grid_template_areas": null,
            "grid_template_columns": null,
            "grid_template_rows": null,
            "height": null,
            "justify_content": null,
            "justify_items": null,
            "left": null,
            "margin": null,
            "max_height": null,
            "max_width": null,
            "min_height": null,
            "min_width": null,
            "object_fit": null,
            "object_position": null,
            "order": null,
            "overflow": null,
            "overflow_x": null,
            "overflow_y": null,
            "padding": null,
            "right": null,
            "top": null,
            "visibility": null,
            "width": null
          }
        },
        "cdc3d74b04634406b6db071abc8f2af3": {
          "model_module": "@jupyter-widgets/controls",
          "model_name": "ProgressStyleModel",
          "model_module_version": "1.5.0",
          "state": {
            "_model_module": "@jupyter-widgets/controls",
            "_model_module_version": "1.5.0",
            "_model_name": "ProgressStyleModel",
            "_view_count": null,
            "_view_module": "@jupyter-widgets/base",
            "_view_module_version": "1.2.0",
            "_view_name": "StyleView",
            "bar_color": null,
            "description_width": ""
          }
        },
        "faed718d33894e0aa066905b0ffd0bb5": {
          "model_module": "@jupyter-widgets/base",
          "model_name": "LayoutModel",
          "model_module_version": "1.2.0",
          "state": {
            "_model_module": "@jupyter-widgets/base",
            "_model_module_version": "1.2.0",
            "_model_name": "LayoutModel",
            "_view_count": null,
            "_view_module": "@jupyter-widgets/base",
            "_view_module_version": "1.2.0",
            "_view_name": "LayoutView",
            "align_content": null,
            "align_items": null,
            "align_self": null,
            "border": null,
            "bottom": null,
            "display": null,
            "flex": null,
            "flex_flow": null,
            "grid_area": null,
            "grid_auto_columns": null,
            "grid_auto_flow": null,
            "grid_auto_rows": null,
            "grid_column": null,
            "grid_gap": null,
            "grid_row": null,
            "grid_template_areas": null,
            "grid_template_columns": null,
            "grid_template_rows": null,
            "height": null,
            "justify_content": null,
            "justify_items": null,
            "left": null,
            "margin": null,
            "max_height": null,
            "max_width": null,
            "min_height": null,
            "min_width": null,
            "object_fit": null,
            "object_position": null,
            "order": null,
            "overflow": null,
            "overflow_x": null,
            "overflow_y": null,
            "padding": null,
            "right": null,
            "top": null,
            "visibility": null,
            "width": null
          }
        },
        "651c8c5dae56470bbb873fe0867a62d2": {
          "model_module": "@jupyter-widgets/controls",
          "model_name": "DescriptionStyleModel",
          "model_module_version": "1.5.0",
          "state": {
            "_model_module": "@jupyter-widgets/controls",
            "_model_module_version": "1.5.0",
            "_model_name": "DescriptionStyleModel",
            "_view_count": null,
            "_view_module": "@jupyter-widgets/base",
            "_view_module_version": "1.2.0",
            "_view_name": "StyleView",
            "description_width": ""
          }
        },
        "5035c64500474587b0b028e2e10cd307": {
          "model_module": "@jupyter-widgets/controls",
          "model_name": "HBoxModel",
          "model_module_version": "1.5.0",
          "state": {
            "_dom_classes": [],
            "_model_module": "@jupyter-widgets/controls",
            "_model_module_version": "1.5.0",
            "_model_name": "HBoxModel",
            "_view_count": null,
            "_view_module": "@jupyter-widgets/controls",
            "_view_module_version": "1.5.0",
            "_view_name": "HBoxView",
            "box_style": "",
            "children": [
              "IPY_MODEL_dec2062bfef7492bac6c8d62b004230e",
              "IPY_MODEL_9e43b52c12904869bf5b3fc2bc243ea3",
              "IPY_MODEL_8089badae64b4160890e326a98316031"
            ],
            "layout": "IPY_MODEL_543a881d7a474217a2be80e498f8209a"
          }
        },
        "dec2062bfef7492bac6c8d62b004230e": {
          "model_module": "@jupyter-widgets/controls",
          "model_name": "HTMLModel",
          "model_module_version": "1.5.0",
          "state": {
            "_dom_classes": [],
            "_model_module": "@jupyter-widgets/controls",
            "_model_module_version": "1.5.0",
            "_model_name": "HTMLModel",
            "_view_count": null,
            "_view_module": "@jupyter-widgets/controls",
            "_view_module_version": "1.5.0",
            "_view_name": "HTMLView",
            "description": "",
            "description_tooltip": null,
            "layout": "IPY_MODEL_619d9d8a0bb0411e802025d0c5a6577c",
            "placeholder": "​",
            "style": "IPY_MODEL_45899fe8c8a349bca7d158b7130b81bb",
            "value": "Map: 100%"
          }
        },
        "9e43b52c12904869bf5b3fc2bc243ea3": {
          "model_module": "@jupyter-widgets/controls",
          "model_name": "FloatProgressModel",
          "model_module_version": "1.5.0",
          "state": {
            "_dom_classes": [],
            "_model_module": "@jupyter-widgets/controls",
            "_model_module_version": "1.5.0",
            "_model_name": "FloatProgressModel",
            "_view_count": null,
            "_view_module": "@jupyter-widgets/controls",
            "_view_module_version": "1.5.0",
            "_view_name": "ProgressView",
            "bar_style": "success",
            "description": "",
            "description_tooltip": null,
            "layout": "IPY_MODEL_b30cf9c509f3422999d29a3000e9b73e",
            "max": 170,
            "min": 0,
            "orientation": "horizontal",
            "style": "IPY_MODEL_97f6cf9338134f8bb67f00a509b1e8f0",
            "value": 170
          }
        },
        "8089badae64b4160890e326a98316031": {
          "model_module": "@jupyter-widgets/controls",
          "model_name": "HTMLModel",
          "model_module_version": "1.5.0",
          "state": {
            "_dom_classes": [],
            "_model_module": "@jupyter-widgets/controls",
            "_model_module_version": "1.5.0",
            "_model_name": "HTMLModel",
            "_view_count": null,
            "_view_module": "@jupyter-widgets/controls",
            "_view_module_version": "1.5.0",
            "_view_name": "HTMLView",
            "description": "",
            "description_tooltip": null,
            "layout": "IPY_MODEL_a80b3722401b417781bea9d858370e1e",
            "placeholder": "​",
            "style": "IPY_MODEL_a8ff83ba2dc349c5bc3b3f6643b99ef2",
            "value": " 170/170 [00:04&lt;00:00, 41.28 examples/s]"
          }
        },
        "543a881d7a474217a2be80e498f8209a": {
          "model_module": "@jupyter-widgets/base",
          "model_name": "LayoutModel",
          "model_module_version": "1.2.0",
          "state": {
            "_model_module": "@jupyter-widgets/base",
            "_model_module_version": "1.2.0",
            "_model_name": "LayoutModel",
            "_view_count": null,
            "_view_module": "@jupyter-widgets/base",
            "_view_module_version": "1.2.0",
            "_view_name": "LayoutView",
            "align_content": null,
            "align_items": null,
            "align_self": null,
            "border": null,
            "bottom": null,
            "display": null,
            "flex": null,
            "flex_flow": null,
            "grid_area": null,
            "grid_auto_columns": null,
            "grid_auto_flow": null,
            "grid_auto_rows": null,
            "grid_column": null,
            "grid_gap": null,
            "grid_row": null,
            "grid_template_areas": null,
            "grid_template_columns": null,
            "grid_template_rows": null,
            "height": null,
            "justify_content": null,
            "justify_items": null,
            "left": null,
            "margin": null,
            "max_height": null,
            "max_width": null,
            "min_height": null,
            "min_width": null,
            "object_fit": null,
            "object_position": null,
            "order": null,
            "overflow": null,
            "overflow_x": null,
            "overflow_y": null,
            "padding": null,
            "right": null,
            "top": null,
            "visibility": null,
            "width": null
          }
        },
        "619d9d8a0bb0411e802025d0c5a6577c": {
          "model_module": "@jupyter-widgets/base",
          "model_name": "LayoutModel",
          "model_module_version": "1.2.0",
          "state": {
            "_model_module": "@jupyter-widgets/base",
            "_model_module_version": "1.2.0",
            "_model_name": "LayoutModel",
            "_view_count": null,
            "_view_module": "@jupyter-widgets/base",
            "_view_module_version": "1.2.0",
            "_view_name": "LayoutView",
            "align_content": null,
            "align_items": null,
            "align_self": null,
            "border": null,
            "bottom": null,
            "display": null,
            "flex": null,
            "flex_flow": null,
            "grid_area": null,
            "grid_auto_columns": null,
            "grid_auto_flow": null,
            "grid_auto_rows": null,
            "grid_column": null,
            "grid_gap": null,
            "grid_row": null,
            "grid_template_areas": null,
            "grid_template_columns": null,
            "grid_template_rows": null,
            "height": null,
            "justify_content": null,
            "justify_items": null,
            "left": null,
            "margin": null,
            "max_height": null,
            "max_width": null,
            "min_height": null,
            "min_width": null,
            "object_fit": null,
            "object_position": null,
            "order": null,
            "overflow": null,
            "overflow_x": null,
            "overflow_y": null,
            "padding": null,
            "right": null,
            "top": null,
            "visibility": null,
            "width": null
          }
        },
        "45899fe8c8a349bca7d158b7130b81bb": {
          "model_module": "@jupyter-widgets/controls",
          "model_name": "DescriptionStyleModel",
          "model_module_version": "1.5.0",
          "state": {
            "_model_module": "@jupyter-widgets/controls",
            "_model_module_version": "1.5.0",
            "_model_name": "DescriptionStyleModel",
            "_view_count": null,
            "_view_module": "@jupyter-widgets/base",
            "_view_module_version": "1.2.0",
            "_view_name": "StyleView",
            "description_width": ""
          }
        },
        "b30cf9c509f3422999d29a3000e9b73e": {
          "model_module": "@jupyter-widgets/base",
          "model_name": "LayoutModel",
          "model_module_version": "1.2.0",
          "state": {
            "_model_module": "@jupyter-widgets/base",
            "_model_module_version": "1.2.0",
            "_model_name": "LayoutModel",
            "_view_count": null,
            "_view_module": "@jupyter-widgets/base",
            "_view_module_version": "1.2.0",
            "_view_name": "LayoutView",
            "align_content": null,
            "align_items": null,
            "align_self": null,
            "border": null,
            "bottom": null,
            "display": null,
            "flex": null,
            "flex_flow": null,
            "grid_area": null,
            "grid_auto_columns": null,
            "grid_auto_flow": null,
            "grid_auto_rows": null,
            "grid_column": null,
            "grid_gap": null,
            "grid_row": null,
            "grid_template_areas": null,
            "grid_template_columns": null,
            "grid_template_rows": null,
            "height": null,
            "justify_content": null,
            "justify_items": null,
            "left": null,
            "margin": null,
            "max_height": null,
            "max_width": null,
            "min_height": null,
            "min_width": null,
            "object_fit": null,
            "object_position": null,
            "order": null,
            "overflow": null,
            "overflow_x": null,
            "overflow_y": null,
            "padding": null,
            "right": null,
            "top": null,
            "visibility": null,
            "width": null
          }
        },
        "97f6cf9338134f8bb67f00a509b1e8f0": {
          "model_module": "@jupyter-widgets/controls",
          "model_name": "ProgressStyleModel",
          "model_module_version": "1.5.0",
          "state": {
            "_model_module": "@jupyter-widgets/controls",
            "_model_module_version": "1.5.0",
            "_model_name": "ProgressStyleModel",
            "_view_count": null,
            "_view_module": "@jupyter-widgets/base",
            "_view_module_version": "1.2.0",
            "_view_name": "StyleView",
            "bar_color": null,
            "description_width": ""
          }
        },
        "a80b3722401b417781bea9d858370e1e": {
          "model_module": "@jupyter-widgets/base",
          "model_name": "LayoutModel",
          "model_module_version": "1.2.0",
          "state": {
            "_model_module": "@jupyter-widgets/base",
            "_model_module_version": "1.2.0",
            "_model_name": "LayoutModel",
            "_view_count": null,
            "_view_module": "@jupyter-widgets/base",
            "_view_module_version": "1.2.0",
            "_view_name": "LayoutView",
            "align_content": null,
            "align_items": null,
            "align_self": null,
            "border": null,
            "bottom": null,
            "display": null,
            "flex": null,
            "flex_flow": null,
            "grid_area": null,
            "grid_auto_columns": null,
            "grid_auto_flow": null,
            "grid_auto_rows": null,
            "grid_column": null,
            "grid_gap": null,
            "grid_row": null,
            "grid_template_areas": null,
            "grid_template_columns": null,
            "grid_template_rows": null,
            "height": null,
            "justify_content": null,
            "justify_items": null,
            "left": null,
            "margin": null,
            "max_height": null,
            "max_width": null,
            "min_height": null,
            "min_width": null,
            "object_fit": null,
            "object_position": null,
            "order": null,
            "overflow": null,
            "overflow_x": null,
            "overflow_y": null,
            "padding": null,
            "right": null,
            "top": null,
            "visibility": null,
            "width": null
          }
        },
        "a8ff83ba2dc349c5bc3b3f6643b99ef2": {
          "model_module": "@jupyter-widgets/controls",
          "model_name": "DescriptionStyleModel",
          "model_module_version": "1.5.0",
          "state": {
            "_model_module": "@jupyter-widgets/controls",
            "_model_module_version": "1.5.0",
            "_model_name": "DescriptionStyleModel",
            "_view_count": null,
            "_view_module": "@jupyter-widgets/base",
            "_view_module_version": "1.2.0",
            "_view_name": "StyleView",
            "description_width": ""
          }
        },
        "7e23d37f6c03410e9d89250e22420283": {
          "model_module": "@jupyter-widgets/controls",
          "model_name": "HBoxModel",
          "model_module_version": "1.5.0",
          "state": {
            "_dom_classes": [],
            "_model_module": "@jupyter-widgets/controls",
            "_model_module_version": "1.5.0",
            "_model_name": "HBoxModel",
            "_view_count": null,
            "_view_module": "@jupyter-widgets/controls",
            "_view_module_version": "1.5.0",
            "_view_name": "HBoxView",
            "box_style": "",
            "children": [
              "IPY_MODEL_b42e71ccf8314983b6b3c85271f1e004",
              "IPY_MODEL_7a950c5d1541485f81f9d9f0f8c00513",
              "IPY_MODEL_5adbfac1b85846679255981d13f97b32"
            ],
            "layout": "IPY_MODEL_628d3769fba143f4b1b53ad269241ab9"
          }
        },
        "b42e71ccf8314983b6b3c85271f1e004": {
          "model_module": "@jupyter-widgets/controls",
          "model_name": "HTMLModel",
          "model_module_version": "1.5.0",
          "state": {
            "_dom_classes": [],
            "_model_module": "@jupyter-widgets/controls",
            "_model_module_version": "1.5.0",
            "_model_name": "HTMLModel",
            "_view_count": null,
            "_view_module": "@jupyter-widgets/controls",
            "_view_module_version": "1.5.0",
            "_view_name": "HTMLView",
            "description": "",
            "description_tooltip": null,
            "layout": "IPY_MODEL_675daec3130b444590508c45cea534b5",
            "placeholder": "​",
            "style": "IPY_MODEL_5939b756bd61495fbe421a75abeba31b",
            "value": "Map: 100%"
          }
        },
        "7a950c5d1541485f81f9d9f0f8c00513": {
          "model_module": "@jupyter-widgets/controls",
          "model_name": "FloatProgressModel",
          "model_module_version": "1.5.0",
          "state": {
            "_dom_classes": [],
            "_model_module": "@jupyter-widgets/controls",
            "_model_module_version": "1.5.0",
            "_model_name": "FloatProgressModel",
            "_view_count": null,
            "_view_module": "@jupyter-widgets/controls",
            "_view_module_version": "1.5.0",
            "_view_name": "ProgressView",
            "bar_style": "success",
            "description": "",
            "description_tooltip": null,
            "layout": "IPY_MODEL_1d1315a03f18434d9edbe52297146c0b",
            "max": 256,
            "min": 0,
            "orientation": "horizontal",
            "style": "IPY_MODEL_3a08cf049fc6437294be2dc8cbb0d0d3",
            "value": 256
          }
        },
        "5adbfac1b85846679255981d13f97b32": {
          "model_module": "@jupyter-widgets/controls",
          "model_name": "HTMLModel",
          "model_module_version": "1.5.0",
          "state": {
            "_dom_classes": [],
            "_model_module": "@jupyter-widgets/controls",
            "_model_module_version": "1.5.0",
            "_model_name": "HTMLModel",
            "_view_count": null,
            "_view_module": "@jupyter-widgets/controls",
            "_view_module_version": "1.5.0",
            "_view_name": "HTMLView",
            "description": "",
            "description_tooltip": null,
            "layout": "IPY_MODEL_4c41e8e9c0e64f32822461010d612155",
            "placeholder": "​",
            "style": "IPY_MODEL_b8243a2cfa0045938f132817f90c3071",
            "value": " 256/256 [00:04&lt;00:00, 52.41 examples/s]"
          }
        },
        "628d3769fba143f4b1b53ad269241ab9": {
          "model_module": "@jupyter-widgets/base",
          "model_name": "LayoutModel",
          "model_module_version": "1.2.0",
          "state": {
            "_model_module": "@jupyter-widgets/base",
            "_model_module_version": "1.2.0",
            "_model_name": "LayoutModel",
            "_view_count": null,
            "_view_module": "@jupyter-widgets/base",
            "_view_module_version": "1.2.0",
            "_view_name": "LayoutView",
            "align_content": null,
            "align_items": null,
            "align_self": null,
            "border": null,
            "bottom": null,
            "display": null,
            "flex": null,
            "flex_flow": null,
            "grid_area": null,
            "grid_auto_columns": null,
            "grid_auto_flow": null,
            "grid_auto_rows": null,
            "grid_column": null,
            "grid_gap": null,
            "grid_row": null,
            "grid_template_areas": null,
            "grid_template_columns": null,
            "grid_template_rows": null,
            "height": null,
            "justify_content": null,
            "justify_items": null,
            "left": null,
            "margin": null,
            "max_height": null,
            "max_width": null,
            "min_height": null,
            "min_width": null,
            "object_fit": null,
            "object_position": null,
            "order": null,
            "overflow": null,
            "overflow_x": null,
            "overflow_y": null,
            "padding": null,
            "right": null,
            "top": null,
            "visibility": null,
            "width": null
          }
        },
        "675daec3130b444590508c45cea534b5": {
          "model_module": "@jupyter-widgets/base",
          "model_name": "LayoutModel",
          "model_module_version": "1.2.0",
          "state": {
            "_model_module": "@jupyter-widgets/base",
            "_model_module_version": "1.2.0",
            "_model_name": "LayoutModel",
            "_view_count": null,
            "_view_module": "@jupyter-widgets/base",
            "_view_module_version": "1.2.0",
            "_view_name": "LayoutView",
            "align_content": null,
            "align_items": null,
            "align_self": null,
            "border": null,
            "bottom": null,
            "display": null,
            "flex": null,
            "flex_flow": null,
            "grid_area": null,
            "grid_auto_columns": null,
            "grid_auto_flow": null,
            "grid_auto_rows": null,
            "grid_column": null,
            "grid_gap": null,
            "grid_row": null,
            "grid_template_areas": null,
            "grid_template_columns": null,
            "grid_template_rows": null,
            "height": null,
            "justify_content": null,
            "justify_items": null,
            "left": null,
            "margin": null,
            "max_height": null,
            "max_width": null,
            "min_height": null,
            "min_width": null,
            "object_fit": null,
            "object_position": null,
            "order": null,
            "overflow": null,
            "overflow_x": null,
            "overflow_y": null,
            "padding": null,
            "right": null,
            "top": null,
            "visibility": null,
            "width": null
          }
        },
        "5939b756bd61495fbe421a75abeba31b": {
          "model_module": "@jupyter-widgets/controls",
          "model_name": "DescriptionStyleModel",
          "model_module_version": "1.5.0",
          "state": {
            "_model_module": "@jupyter-widgets/controls",
            "_model_module_version": "1.5.0",
            "_model_name": "DescriptionStyleModel",
            "_view_count": null,
            "_view_module": "@jupyter-widgets/base",
            "_view_module_version": "1.2.0",
            "_view_name": "StyleView",
            "description_width": ""
          }
        },
        "1d1315a03f18434d9edbe52297146c0b": {
          "model_module": "@jupyter-widgets/base",
          "model_name": "LayoutModel",
          "model_module_version": "1.2.0",
          "state": {
            "_model_module": "@jupyter-widgets/base",
            "_model_module_version": "1.2.0",
            "_model_name": "LayoutModel",
            "_view_count": null,
            "_view_module": "@jupyter-widgets/base",
            "_view_module_version": "1.2.0",
            "_view_name": "LayoutView",
            "align_content": null,
            "align_items": null,
            "align_self": null,
            "border": null,
            "bottom": null,
            "display": null,
            "flex": null,
            "flex_flow": null,
            "grid_area": null,
            "grid_auto_columns": null,
            "grid_auto_flow": null,
            "grid_auto_rows": null,
            "grid_column": null,
            "grid_gap": null,
            "grid_row": null,
            "grid_template_areas": null,
            "grid_template_columns": null,
            "grid_template_rows": null,
            "height": null,
            "justify_content": null,
            "justify_items": null,
            "left": null,
            "margin": null,
            "max_height": null,
            "max_width": null,
            "min_height": null,
            "min_width": null,
            "object_fit": null,
            "object_position": null,
            "order": null,
            "overflow": null,
            "overflow_x": null,
            "overflow_y": null,
            "padding": null,
            "right": null,
            "top": null,
            "visibility": null,
            "width": null
          }
        },
        "3a08cf049fc6437294be2dc8cbb0d0d3": {
          "model_module": "@jupyter-widgets/controls",
          "model_name": "ProgressStyleModel",
          "model_module_version": "1.5.0",
          "state": {
            "_model_module": "@jupyter-widgets/controls",
            "_model_module_version": "1.5.0",
            "_model_name": "ProgressStyleModel",
            "_view_count": null,
            "_view_module": "@jupyter-widgets/base",
            "_view_module_version": "1.2.0",
            "_view_name": "StyleView",
            "bar_color": null,
            "description_width": ""
          }
        },
        "4c41e8e9c0e64f32822461010d612155": {
          "model_module": "@jupyter-widgets/base",
          "model_name": "LayoutModel",
          "model_module_version": "1.2.0",
          "state": {
            "_model_module": "@jupyter-widgets/base",
            "_model_module_version": "1.2.0",
            "_model_name": "LayoutModel",
            "_view_count": null,
            "_view_module": "@jupyter-widgets/base",
            "_view_module_version": "1.2.0",
            "_view_name": "LayoutView",
            "align_content": null,
            "align_items": null,
            "align_self": null,
            "border": null,
            "bottom": null,
            "display": null,
            "flex": null,
            "flex_flow": null,
            "grid_area": null,
            "grid_auto_columns": null,
            "grid_auto_flow": null,
            "grid_auto_rows": null,
            "grid_column": null,
            "grid_gap": null,
            "grid_row": null,
            "grid_template_areas": null,
            "grid_template_columns": null,
            "grid_template_rows": null,
            "height": null,
            "justify_content": null,
            "justify_items": null,
            "left": null,
            "margin": null,
            "max_height": null,
            "max_width": null,
            "min_height": null,
            "min_width": null,
            "object_fit": null,
            "object_position": null,
            "order": null,
            "overflow": null,
            "overflow_x": null,
            "overflow_y": null,
            "padding": null,
            "right": null,
            "top": null,
            "visibility": null,
            "width": null
          }
        },
        "b8243a2cfa0045938f132817f90c3071": {
          "model_module": "@jupyter-widgets/controls",
          "model_name": "DescriptionStyleModel",
          "model_module_version": "1.5.0",
          "state": {
            "_model_module": "@jupyter-widgets/controls",
            "_model_module_version": "1.5.0",
            "_model_name": "DescriptionStyleModel",
            "_view_count": null,
            "_view_module": "@jupyter-widgets/base",
            "_view_module_version": "1.2.0",
            "_view_name": "StyleView",
            "description_width": ""
          }
        },
        "65a3986e63a449b882798999d083e536": {
          "model_module": "@jupyter-widgets/controls",
          "model_name": "HBoxModel",
          "model_module_version": "1.5.0",
          "state": {
            "_dom_classes": [],
            "_model_module": "@jupyter-widgets/controls",
            "_model_module_version": "1.5.0",
            "_model_name": "HBoxModel",
            "_view_count": null,
            "_view_module": "@jupyter-widgets/controls",
            "_view_module_version": "1.5.0",
            "_view_name": "HBoxView",
            "box_style": "",
            "children": [
              "IPY_MODEL_d045d104a5d648e0ace8c19dda82c60e",
              "IPY_MODEL_eaf3532289a449408096b837967fdecd",
              "IPY_MODEL_1e0f87c5fbc24daebca4a5d9327b599a"
            ],
            "layout": "IPY_MODEL_b66fc41ad8234d29903ce6c84dd31f50"
          }
        },
        "d045d104a5d648e0ace8c19dda82c60e": {
          "model_module": "@jupyter-widgets/controls",
          "model_name": "HTMLModel",
          "model_module_version": "1.5.0",
          "state": {
            "_dom_classes": [],
            "_model_module": "@jupyter-widgets/controls",
            "_model_module_version": "1.5.0",
            "_model_name": "HTMLModel",
            "_view_count": null,
            "_view_module": "@jupyter-widgets/controls",
            "_view_module_version": "1.5.0",
            "_view_name": "HTMLView",
            "description": "",
            "description_tooltip": null,
            "layout": "IPY_MODEL_1e3a121350614aaa9a2acda7a107f728",
            "placeholder": "​",
            "style": "IPY_MODEL_3b3ae8eb961b4cb5a3899de6c138fb1f",
            "value": "Downloading builder script: 100%"
          }
        },
        "eaf3532289a449408096b837967fdecd": {
          "model_module": "@jupyter-widgets/controls",
          "model_name": "FloatProgressModel",
          "model_module_version": "1.5.0",
          "state": {
            "_dom_classes": [],
            "_model_module": "@jupyter-widgets/controls",
            "_model_module_version": "1.5.0",
            "_model_name": "FloatProgressModel",
            "_view_count": null,
            "_view_module": "@jupyter-widgets/controls",
            "_view_module_version": "1.5.0",
            "_view_name": "ProgressView",
            "bar_style": "success",
            "description": "",
            "description_tooltip": null,
            "layout": "IPY_MODEL_b6b62bd88eae43308034ffa24a1c1f8b",
            "max": 6338,
            "min": 0,
            "orientation": "horizontal",
            "style": "IPY_MODEL_d478f21a581e42909af65b7d7a9058de",
            "value": 6338
          }
        },
        "1e0f87c5fbc24daebca4a5d9327b599a": {
          "model_module": "@jupyter-widgets/controls",
          "model_name": "HTMLModel",
          "model_module_version": "1.5.0",
          "state": {
            "_dom_classes": [],
            "_model_module": "@jupyter-widgets/controls",
            "_model_module_version": "1.5.0",
            "_model_name": "HTMLModel",
            "_view_count": null,
            "_view_module": "@jupyter-widgets/controls",
            "_view_module_version": "1.5.0",
            "_view_name": "HTMLView",
            "description": "",
            "description_tooltip": null,
            "layout": "IPY_MODEL_1e87813681464d1ebf6f5075b9329ab9",
            "placeholder": "​",
            "style": "IPY_MODEL_8b3abcd952d64926ab36ef8a1682796e",
            "value": " 6.34k/6.34k [00:00&lt;00:00, 113kB/s]"
          }
        },
        "b66fc41ad8234d29903ce6c84dd31f50": {
          "model_module": "@jupyter-widgets/base",
          "model_name": "LayoutModel",
          "model_module_version": "1.2.0",
          "state": {
            "_model_module": "@jupyter-widgets/base",
            "_model_module_version": "1.2.0",
            "_model_name": "LayoutModel",
            "_view_count": null,
            "_view_module": "@jupyter-widgets/base",
            "_view_module_version": "1.2.0",
            "_view_name": "LayoutView",
            "align_content": null,
            "align_items": null,
            "align_self": null,
            "border": null,
            "bottom": null,
            "display": null,
            "flex": null,
            "flex_flow": null,
            "grid_area": null,
            "grid_auto_columns": null,
            "grid_auto_flow": null,
            "grid_auto_rows": null,
            "grid_column": null,
            "grid_gap": null,
            "grid_row": null,
            "grid_template_areas": null,
            "grid_template_columns": null,
            "grid_template_rows": null,
            "height": null,
            "justify_content": null,
            "justify_items": null,
            "left": null,
            "margin": null,
            "max_height": null,
            "max_width": null,
            "min_height": null,
            "min_width": null,
            "object_fit": null,
            "object_position": null,
            "order": null,
            "overflow": null,
            "overflow_x": null,
            "overflow_y": null,
            "padding": null,
            "right": null,
            "top": null,
            "visibility": null,
            "width": null
          }
        },
        "1e3a121350614aaa9a2acda7a107f728": {
          "model_module": "@jupyter-widgets/base",
          "model_name": "LayoutModel",
          "model_module_version": "1.2.0",
          "state": {
            "_model_module": "@jupyter-widgets/base",
            "_model_module_version": "1.2.0",
            "_model_name": "LayoutModel",
            "_view_count": null,
            "_view_module": "@jupyter-widgets/base",
            "_view_module_version": "1.2.0",
            "_view_name": "LayoutView",
            "align_content": null,
            "align_items": null,
            "align_self": null,
            "border": null,
            "bottom": null,
            "display": null,
            "flex": null,
            "flex_flow": null,
            "grid_area": null,
            "grid_auto_columns": null,
            "grid_auto_flow": null,
            "grid_auto_rows": null,
            "grid_column": null,
            "grid_gap": null,
            "grid_row": null,
            "grid_template_areas": null,
            "grid_template_columns": null,
            "grid_template_rows": null,
            "height": null,
            "justify_content": null,
            "justify_items": null,
            "left": null,
            "margin": null,
            "max_height": null,
            "max_width": null,
            "min_height": null,
            "min_width": null,
            "object_fit": null,
            "object_position": null,
            "order": null,
            "overflow": null,
            "overflow_x": null,
            "overflow_y": null,
            "padding": null,
            "right": null,
            "top": null,
            "visibility": null,
            "width": null
          }
        },
        "3b3ae8eb961b4cb5a3899de6c138fb1f": {
          "model_module": "@jupyter-widgets/controls",
          "model_name": "DescriptionStyleModel",
          "model_module_version": "1.5.0",
          "state": {
            "_model_module": "@jupyter-widgets/controls",
            "_model_module_version": "1.5.0",
            "_model_name": "DescriptionStyleModel",
            "_view_count": null,
            "_view_module": "@jupyter-widgets/base",
            "_view_module_version": "1.2.0",
            "_view_name": "StyleView",
            "description_width": ""
          }
        },
        "b6b62bd88eae43308034ffa24a1c1f8b": {
          "model_module": "@jupyter-widgets/base",
          "model_name": "LayoutModel",
          "model_module_version": "1.2.0",
          "state": {
            "_model_module": "@jupyter-widgets/base",
            "_model_module_version": "1.2.0",
            "_model_name": "LayoutModel",
            "_view_count": null,
            "_view_module": "@jupyter-widgets/base",
            "_view_module_version": "1.2.0",
            "_view_name": "LayoutView",
            "align_content": null,
            "align_items": null,
            "align_self": null,
            "border": null,
            "bottom": null,
            "display": null,
            "flex": null,
            "flex_flow": null,
            "grid_area": null,
            "grid_auto_columns": null,
            "grid_auto_flow": null,
            "grid_auto_rows": null,
            "grid_column": null,
            "grid_gap": null,
            "grid_row": null,
            "grid_template_areas": null,
            "grid_template_columns": null,
            "grid_template_rows": null,
            "height": null,
            "justify_content": null,
            "justify_items": null,
            "left": null,
            "margin": null,
            "max_height": null,
            "max_width": null,
            "min_height": null,
            "min_width": null,
            "object_fit": null,
            "object_position": null,
            "order": null,
            "overflow": null,
            "overflow_x": null,
            "overflow_y": null,
            "padding": null,
            "right": null,
            "top": null,
            "visibility": null,
            "width": null
          }
        },
        "d478f21a581e42909af65b7d7a9058de": {
          "model_module": "@jupyter-widgets/controls",
          "model_name": "ProgressStyleModel",
          "model_module_version": "1.5.0",
          "state": {
            "_model_module": "@jupyter-widgets/controls",
            "_model_module_version": "1.5.0",
            "_model_name": "ProgressStyleModel",
            "_view_count": null,
            "_view_module": "@jupyter-widgets/base",
            "_view_module_version": "1.2.0",
            "_view_name": "StyleView",
            "bar_color": null,
            "description_width": ""
          }
        },
        "1e87813681464d1ebf6f5075b9329ab9": {
          "model_module": "@jupyter-widgets/base",
          "model_name": "LayoutModel",
          "model_module_version": "1.2.0",
          "state": {
            "_model_module": "@jupyter-widgets/base",
            "_model_module_version": "1.2.0",
            "_model_name": "LayoutModel",
            "_view_count": null,
            "_view_module": "@jupyter-widgets/base",
            "_view_module_version": "1.2.0",
            "_view_name": "LayoutView",
            "align_content": null,
            "align_items": null,
            "align_self": null,
            "border": null,
            "bottom": null,
            "display": null,
            "flex": null,
            "flex_flow": null,
            "grid_area": null,
            "grid_auto_columns": null,
            "grid_auto_flow": null,
            "grid_auto_rows": null,
            "grid_column": null,
            "grid_gap": null,
            "grid_row": null,
            "grid_template_areas": null,
            "grid_template_columns": null,
            "grid_template_rows": null,
            "height": null,
            "justify_content": null,
            "justify_items": null,
            "left": null,
            "margin": null,
            "max_height": null,
            "max_width": null,
            "min_height": null,
            "min_width": null,
            "object_fit": null,
            "object_position": null,
            "order": null,
            "overflow": null,
            "overflow_x": null,
            "overflow_y": null,
            "padding": null,
            "right": null,
            "top": null,
            "visibility": null,
            "width": null
          }
        },
        "8b3abcd952d64926ab36ef8a1682796e": {
          "model_module": "@jupyter-widgets/controls",
          "model_name": "DescriptionStyleModel",
          "model_module_version": "1.5.0",
          "state": {
            "_model_module": "@jupyter-widgets/controls",
            "_model_module_version": "1.5.0",
            "_model_name": "DescriptionStyleModel",
            "_view_count": null,
            "_view_module": "@jupyter-widgets/base",
            "_view_module_version": "1.2.0",
            "_view_name": "StyleView",
            "description_width": ""
          }
        },
        "ff2cae960b7f4b3b825124327bd8fd2c": {
          "model_module": "@jupyter-widgets/controls",
          "model_name": "HBoxModel",
          "model_module_version": "1.5.0",
          "state": {
            "_dom_classes": [],
            "_model_module": "@jupyter-widgets/controls",
            "_model_module_version": "1.5.0",
            "_model_name": "HBoxModel",
            "_view_count": null,
            "_view_module": "@jupyter-widgets/controls",
            "_view_module_version": "1.5.0",
            "_view_name": "HBoxView",
            "box_style": "",
            "children": [
              "IPY_MODEL_eeae1f4dd38544ffb9ed8d38cd038eaf",
              "IPY_MODEL_305c00d1283546a6af93c52794d86561",
              "IPY_MODEL_2caea518e09f4c3381ba7ef55d8c58d2"
            ],
            "layout": "IPY_MODEL_c493e8f6297f47a79e43ab6dcb512a34"
          }
        },
        "eeae1f4dd38544ffb9ed8d38cd038eaf": {
          "model_module": "@jupyter-widgets/controls",
          "model_name": "HTMLModel",
          "model_module_version": "1.5.0",
          "state": {
            "_dom_classes": [],
            "_model_module": "@jupyter-widgets/controls",
            "_model_module_version": "1.5.0",
            "_model_name": "HTMLModel",
            "_view_count": null,
            "_view_module": "@jupyter-widgets/controls",
            "_view_module_version": "1.5.0",
            "_view_name": "HTMLView",
            "description": "",
            "description_tooltip": null,
            "layout": "IPY_MODEL_a6e3c5a032044625835ed2d845e9dcc6",
            "placeholder": "​",
            "style": "IPY_MODEL_3034a6c255c142c9a1cafa40eb751bde",
            "value": "pytorch_model.bin: 100%"
          }
        },
        "305c00d1283546a6af93c52794d86561": {
          "model_module": "@jupyter-widgets/controls",
          "model_name": "FloatProgressModel",
          "model_module_version": "1.5.0",
          "state": {
            "_dom_classes": [],
            "_model_module": "@jupyter-widgets/controls",
            "_model_module_version": "1.5.0",
            "_model_name": "FloatProgressModel",
            "_view_count": null,
            "_view_module": "@jupyter-widgets/controls",
            "_view_module_version": "1.5.0",
            "_view_name": "ProgressView",
            "bar_style": "success",
            "description": "",
            "description_tooltip": null,
            "layout": "IPY_MODEL_6419026b189a46ce85adc4846a5f0e79",
            "max": 442221694,
            "min": 0,
            "orientation": "horizontal",
            "style": "IPY_MODEL_8684f5c52377434891747f14a27de563",
            "value": 442221694
          }
        },
        "2caea518e09f4c3381ba7ef55d8c58d2": {
          "model_module": "@jupyter-widgets/controls",
          "model_name": "HTMLModel",
          "model_module_version": "1.5.0",
          "state": {
            "_dom_classes": [],
            "_model_module": "@jupyter-widgets/controls",
            "_model_module_version": "1.5.0",
            "_model_name": "HTMLModel",
            "_view_count": null,
            "_view_module": "@jupyter-widgets/controls",
            "_view_module_version": "1.5.0",
            "_view_name": "HTMLView",
            "description": "",
            "description_tooltip": null,
            "layout": "IPY_MODEL_46e2a38099a241e78067072d1e2893a7",
            "placeholder": "​",
            "style": "IPY_MODEL_4578fdf8e9dc40599b3d11f66a264a92",
            "value": " 442M/442M [00:31&lt;00:00, 18.5MB/s]"
          }
        },
        "c493e8f6297f47a79e43ab6dcb512a34": {
          "model_module": "@jupyter-widgets/base",
          "model_name": "LayoutModel",
          "model_module_version": "1.2.0",
          "state": {
            "_model_module": "@jupyter-widgets/base",
            "_model_module_version": "1.2.0",
            "_model_name": "LayoutModel",
            "_view_count": null,
            "_view_module": "@jupyter-widgets/base",
            "_view_module_version": "1.2.0",
            "_view_name": "LayoutView",
            "align_content": null,
            "align_items": null,
            "align_self": null,
            "border": null,
            "bottom": null,
            "display": null,
            "flex": null,
            "flex_flow": null,
            "grid_area": null,
            "grid_auto_columns": null,
            "grid_auto_flow": null,
            "grid_auto_rows": null,
            "grid_column": null,
            "grid_gap": null,
            "grid_row": null,
            "grid_template_areas": null,
            "grid_template_columns": null,
            "grid_template_rows": null,
            "height": null,
            "justify_content": null,
            "justify_items": null,
            "left": null,
            "margin": null,
            "max_height": null,
            "max_width": null,
            "min_height": null,
            "min_width": null,
            "object_fit": null,
            "object_position": null,
            "order": null,
            "overflow": null,
            "overflow_x": null,
            "overflow_y": null,
            "padding": null,
            "right": null,
            "top": null,
            "visibility": null,
            "width": null
          }
        },
        "a6e3c5a032044625835ed2d845e9dcc6": {
          "model_module": "@jupyter-widgets/base",
          "model_name": "LayoutModel",
          "model_module_version": "1.2.0",
          "state": {
            "_model_module": "@jupyter-widgets/base",
            "_model_module_version": "1.2.0",
            "_model_name": "LayoutModel",
            "_view_count": null,
            "_view_module": "@jupyter-widgets/base",
            "_view_module_version": "1.2.0",
            "_view_name": "LayoutView",
            "align_content": null,
            "align_items": null,
            "align_self": null,
            "border": null,
            "bottom": null,
            "display": null,
            "flex": null,
            "flex_flow": null,
            "grid_area": null,
            "grid_auto_columns": null,
            "grid_auto_flow": null,
            "grid_auto_rows": null,
            "grid_column": null,
            "grid_gap": null,
            "grid_row": null,
            "grid_template_areas": null,
            "grid_template_columns": null,
            "grid_template_rows": null,
            "height": null,
            "justify_content": null,
            "justify_items": null,
            "left": null,
            "margin": null,
            "max_height": null,
            "max_width": null,
            "min_height": null,
            "min_width": null,
            "object_fit": null,
            "object_position": null,
            "order": null,
            "overflow": null,
            "overflow_x": null,
            "overflow_y": null,
            "padding": null,
            "right": null,
            "top": null,
            "visibility": null,
            "width": null
          }
        },
        "3034a6c255c142c9a1cafa40eb751bde": {
          "model_module": "@jupyter-widgets/controls",
          "model_name": "DescriptionStyleModel",
          "model_module_version": "1.5.0",
          "state": {
            "_model_module": "@jupyter-widgets/controls",
            "_model_module_version": "1.5.0",
            "_model_name": "DescriptionStyleModel",
            "_view_count": null,
            "_view_module": "@jupyter-widgets/base",
            "_view_module_version": "1.2.0",
            "_view_name": "StyleView",
            "description_width": ""
          }
        },
        "6419026b189a46ce85adc4846a5f0e79": {
          "model_module": "@jupyter-widgets/base",
          "model_name": "LayoutModel",
          "model_module_version": "1.2.0",
          "state": {
            "_model_module": "@jupyter-widgets/base",
            "_model_module_version": "1.2.0",
            "_model_name": "LayoutModel",
            "_view_count": null,
            "_view_module": "@jupyter-widgets/base",
            "_view_module_version": "1.2.0",
            "_view_name": "LayoutView",
            "align_content": null,
            "align_items": null,
            "align_self": null,
            "border": null,
            "bottom": null,
            "display": null,
            "flex": null,
            "flex_flow": null,
            "grid_area": null,
            "grid_auto_columns": null,
            "grid_auto_flow": null,
            "grid_auto_rows": null,
            "grid_column": null,
            "grid_gap": null,
            "grid_row": null,
            "grid_template_areas": null,
            "grid_template_columns": null,
            "grid_template_rows": null,
            "height": null,
            "justify_content": null,
            "justify_items": null,
            "left": null,
            "margin": null,
            "max_height": null,
            "max_width": null,
            "min_height": null,
            "min_width": null,
            "object_fit": null,
            "object_position": null,
            "order": null,
            "overflow": null,
            "overflow_x": null,
            "overflow_y": null,
            "padding": null,
            "right": null,
            "top": null,
            "visibility": null,
            "width": null
          }
        },
        "8684f5c52377434891747f14a27de563": {
          "model_module": "@jupyter-widgets/controls",
          "model_name": "ProgressStyleModel",
          "model_module_version": "1.5.0",
          "state": {
            "_model_module": "@jupyter-widgets/controls",
            "_model_module_version": "1.5.0",
            "_model_name": "ProgressStyleModel",
            "_view_count": null,
            "_view_module": "@jupyter-widgets/base",
            "_view_module_version": "1.2.0",
            "_view_name": "StyleView",
            "bar_color": null,
            "description_width": ""
          }
        },
        "46e2a38099a241e78067072d1e2893a7": {
          "model_module": "@jupyter-widgets/base",
          "model_name": "LayoutModel",
          "model_module_version": "1.2.0",
          "state": {
            "_model_module": "@jupyter-widgets/base",
            "_model_module_version": "1.2.0",
            "_model_name": "LayoutModel",
            "_view_count": null,
            "_view_module": "@jupyter-widgets/base",
            "_view_module_version": "1.2.0",
            "_view_name": "LayoutView",
            "align_content": null,
            "align_items": null,
            "align_self": null,
            "border": null,
            "bottom": null,
            "display": null,
            "flex": null,
            "flex_flow": null,
            "grid_area": null,
            "grid_auto_columns": null,
            "grid_auto_flow": null,
            "grid_auto_rows": null,
            "grid_column": null,
            "grid_gap": null,
            "grid_row": null,
            "grid_template_areas": null,
            "grid_template_columns": null,
            "grid_template_rows": null,
            "height": null,
            "justify_content": null,
            "justify_items": null,
            "left": null,
            "margin": null,
            "max_height": null,
            "max_width": null,
            "min_height": null,
            "min_width": null,
            "object_fit": null,
            "object_position": null,
            "order": null,
            "overflow": null,
            "overflow_x": null,
            "overflow_y": null,
            "padding": null,
            "right": null,
            "top": null,
            "visibility": null,
            "width": null
          }
        },
        "4578fdf8e9dc40599b3d11f66a264a92": {
          "model_module": "@jupyter-widgets/controls",
          "model_name": "DescriptionStyleModel",
          "model_module_version": "1.5.0",
          "state": {
            "_model_module": "@jupyter-widgets/controls",
            "_model_module_version": "1.5.0",
            "_model_name": "DescriptionStyleModel",
            "_view_count": null,
            "_view_module": "@jupyter-widgets/base",
            "_view_module_version": "1.2.0",
            "_view_name": "StyleView",
            "description_width": ""
          }
        }
      }
    }
  },
  "nbformat": 4,
  "nbformat_minor": 5
}